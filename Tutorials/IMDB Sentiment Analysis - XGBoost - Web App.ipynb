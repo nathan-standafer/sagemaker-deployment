{
 "cells": [
  {
   "cell_type": "markdown",
   "metadata": {},
   "source": [
    "# Sentiment Analysis Web App\n",
    "\n",
    "_Deep Learning Nanodegree Program | Deployment_\n",
    "\n",
    "---\n",
    "\n",
    "In this notebook we will use Amazon's SageMaker service to construct a random tree model to predict the sentiment of a movie review. In addition, we will deploy this model to an endpoint and construct a very simple web app which will interact with our model's deployed endpoint.\n",
    "\n",
    "## General Outline\n",
    "\n",
    "Typically, when using a notebook instance with SageMaker, you will proceed through the following steps. Of course, not every step will need to be done with each project. Also, there is quite a lot of room for variation in many of the steps, as you will see throughout these lessons.\n",
    "\n",
    "1. Download or otherwise retrieve the data.\n",
    "2. Process / Prepare the data.\n",
    "3. Upload the processed data to S3.\n",
    "4. Train a chosen model.\n",
    "5. Test the trained model (typically using a batch transform job).\n",
    "6. Deploy the trained model.\n",
    "7. Use the deployed model.\n",
    "\n",
    "In this notebook we will progress through each of the steps above. We will also see that the final step, using the deployed model, can be quite challenging."
   ]
  },
  {
   "cell_type": "markdown",
   "metadata": {},
   "source": [
    "## Step 1: Downloading the data\n",
    "\n",
    "The dataset we are going to use is very popular among researchers in Natural Language Processing, usually referred to as the [IMDb dataset](http://ai.stanford.edu/~amaas/data/sentiment/). It consists of movie reviews from the website [imdb.com](http://www.imdb.com/), each labeled as either '**pos**itive', if the reviewer enjoyed the film, or '**neg**ative' otherwise.\n",
    "\n",
    "> Maas, Andrew L., et al. [Learning Word Vectors for Sentiment Analysis](http://ai.stanford.edu/~amaas/data/sentiment/). In _Proceedings of the 49th Annual Meeting of the Association for Computational Linguistics: Human Language Technologies_. Association for Computational Linguistics, 2011.\n",
    "\n",
    "We begin by using some Jupyter Notebook magic to download and extract the dataset."
   ]
  },
  {
   "cell_type": "code",
   "execution_count": 1,
   "metadata": {},
   "outputs": [
    {
     "name": "stdout",
     "output_type": "stream",
     "text": [
      "mkdir: cannot create directory ‘../data’: File exists\n",
      "--2020-02-22 12:33:10--  http://ai.stanford.edu/~amaas/data/sentiment/aclImdb_v1.tar.gz\n",
      "Resolving ai.stanford.edu (ai.stanford.edu)... 171.64.68.10\n",
      "Connecting to ai.stanford.edu (ai.stanford.edu)|171.64.68.10|:80... connected.\n",
      "HTTP request sent, awaiting response... 200 OK\n",
      "Length: 84125825 (80M) [application/x-gzip]\n",
      "Saving to: ‘../data/aclImdb_v1.tar.gz’\n",
      "\n",
      "../data/aclImdb_v1. 100%[===================>]  80.23M  24.6MB/s    in 3.9s    \n",
      "\n",
      "2020-02-22 12:33:14 (20.7 MB/s) - ‘../data/aclImdb_v1.tar.gz’ saved [84125825/84125825]\n",
      "\n"
     ]
    }
   ],
   "source": [
    "%mkdir ../data\n",
    "!wget -O ../data/aclImdb_v1.tar.gz http://ai.stanford.edu/~amaas/data/sentiment/aclImdb_v1.tar.gz\n",
    "!tar -zxf ../data/aclImdb_v1.tar.gz -C ../data"
   ]
  },
  {
   "cell_type": "markdown",
   "metadata": {},
   "source": [
    "## Step 2: Preparing and Processing the data\n",
    "\n",
    "The data we have downloaded is split into various files, each of which contains a single review. It will be much easier going forward if we combine these individual files into two large files, one for training and one for testing."
   ]
  },
  {
   "cell_type": "code",
   "execution_count": 2,
   "metadata": {},
   "outputs": [],
   "source": [
    "import os\n",
    "import glob\n",
    "\n",
    "def read_imdb_data(data_dir='../data/aclImdb'):\n",
    "    data = {}\n",
    "    labels = {}\n",
    "    \n",
    "    for data_type in ['train', 'test']:\n",
    "        data[data_type] = {}\n",
    "        labels[data_type] = {}\n",
    "        \n",
    "        for sentiment in ['pos', 'neg']:\n",
    "            data[data_type][sentiment] = []\n",
    "            labels[data_type][sentiment] = []\n",
    "            \n",
    "            path = os.path.join(data_dir, data_type, sentiment, '*.txt')\n",
    "            files = glob.glob(path)\n",
    "            \n",
    "            for f in files:\n",
    "                with open(f) as review:\n",
    "                    data[data_type][sentiment].append(review.read())\n",
    "                    # Here we represent a positive review by '1' and a negative review by '0'\n",
    "                    labels[data_type][sentiment].append(1 if sentiment == 'pos' else 0)\n",
    "                    \n",
    "            assert len(data[data_type][sentiment]) == len(labels[data_type][sentiment]), \\\n",
    "                    \"{}/{} data size does not match labels size\".format(data_type, sentiment)\n",
    "                \n",
    "    return data, labels"
   ]
  },
  {
   "cell_type": "code",
   "execution_count": 3,
   "metadata": {},
   "outputs": [
    {
     "name": "stdout",
     "output_type": "stream",
     "text": [
      "IMDB reviews: train = 12500 pos / 12500 neg, test = 12500 pos / 12500 neg\n"
     ]
    }
   ],
   "source": [
    "data, labels = read_imdb_data()\n",
    "print(\"IMDB reviews: train = {} pos / {} neg, test = {} pos / {} neg\".format(\n",
    "            len(data['train']['pos']), len(data['train']['neg']),\n",
    "            len(data['test']['pos']), len(data['test']['neg'])))"
   ]
  },
  {
   "cell_type": "code",
   "execution_count": 4,
   "metadata": {},
   "outputs": [],
   "source": [
    "from sklearn.utils import shuffle\n",
    "\n",
    "def prepare_imdb_data(data, labels):\n",
    "    \"\"\"Prepare training and test sets from IMDb movie reviews.\"\"\"\n",
    "    \n",
    "    #Combine positive and negative reviews and labels\n",
    "    data_train = data['train']['pos'] + data['train']['neg']\n",
    "    data_test = data['test']['pos'] + data['test']['neg']\n",
    "    labels_train = labels['train']['pos'] + labels['train']['neg']\n",
    "    labels_test = labels['test']['pos'] + labels['test']['neg']\n",
    "    \n",
    "    #Shuffle reviews and corresponding labels within training and test sets\n",
    "    data_train, labels_train = shuffle(data_train, labels_train)\n",
    "    data_test, labels_test = shuffle(data_test, labels_test)\n",
    "    \n",
    "    # Return a unified training data, test data, training labels, test labets\n",
    "    return data_train, data_test, labels_train, labels_test"
   ]
  },
  {
   "cell_type": "code",
   "execution_count": 5,
   "metadata": {},
   "outputs": [
    {
     "name": "stdout",
     "output_type": "stream",
     "text": [
      "IMDb reviews (combined): train = 25000, test = 25000\n"
     ]
    }
   ],
   "source": [
    "train_X, test_X, train_y, test_y = prepare_imdb_data(data, labels)\n",
    "print(\"IMDb reviews (combined): train = {}, test = {}\".format(len(train_X), len(test_X)))"
   ]
  },
  {
   "cell_type": "code",
   "execution_count": 6,
   "metadata": {},
   "outputs": [
    {
     "data": {
      "text/plain": [
       "\"This is a terrible remake of a marginal, but well liked, movie from the early 70's. I have seen the original at least 6 times. The 1997 version is a 20 minute movie 'crammed' into 2 hours or whatever the runtime is. Cheesy storyline, which by the way, is completely different than the original. The major government involvement was far-fetched. There is no flow from one scene to the next. In the original you could go get a beer or hit the bathroom and still keep up. <br /><br />It only took a few hours movie time to change the oil pan on the car. It takes many times longer than that in real life. Car guys notice this stuff. Also, the fool or fools that chose to trash a 1968 Charger and abuse a 1970 Challenger should be shot in the heel with a dull bullet. The fact they aren't 'car people' is painfully obvious, and their passing will not be grieved. <br /><br />The actors lacked any emotion, everything was cut and dried. One step above a monotone. A barmitzvah is more exciting and energetic.<br /><br />Last but surely not least, the radio DJ made the statement that the Challenger hit the bulldozers at 180 or 185 (??). That is total garbage. Can you say aerodynamics, or lack thereof?? Hahahaha!! This movie is a joke. Don't waste your time watching this one.\""
      ]
     },
     "execution_count": 6,
     "metadata": {},
     "output_type": "execute_result"
    }
   ],
   "source": [
    "train_X[100]"
   ]
  },
  {
   "cell_type": "markdown",
   "metadata": {},
   "source": [
    "## Processing the data\n",
    "\n",
    "Now that we have our training and testing datasets merged and ready to use, we need to start processing the raw data into something that will be useable by our machine learning algorithm. To begin with, we remove any html formatting and any non-alpha numeric characters that may appear in the reviews. We will do this in a very simplistic way using Python's regular expression module. We will discuss the reason for this rather simplistic pre-processing later on."
   ]
  },
  {
   "cell_type": "code",
   "execution_count": 7,
   "metadata": {},
   "outputs": [],
   "source": [
    "import re\n",
    "\n",
    "REPLACE_NO_SPACE = re.compile(\"(\\.)|(\\;)|(\\:)|(\\!)|(\\')|(\\?)|(\\,)|(\\\")|(\\()|(\\))|(\\[)|(\\])\")\n",
    "REPLACE_WITH_SPACE = re.compile(\"(<br\\s*/><br\\s*/>)|(\\-)|(\\/)\")\n",
    "\n",
    "def review_to_words(review):\n",
    "    words = REPLACE_NO_SPACE.sub(\"\", review.lower())\n",
    "    words = REPLACE_WITH_SPACE.sub(\" \", words)\n",
    "    return words"
   ]
  },
  {
   "cell_type": "code",
   "execution_count": 8,
   "metadata": {},
   "outputs": [
    {
     "data": {
      "text/plain": [
       "'this is a terrible remake of a marginal but well liked movie from the early 70s i have seen the original at least 6 times the 1997 version is a 20 minute movie crammed into 2 hours or whatever the runtime is cheesy storyline which by the way is completely different than the original the major government involvement was far fetched there is no flow from one scene to the next in the original you could go get a beer or hit the bathroom and still keep up  it only took a few hours movie time to change the oil pan on the car it takes many times longer than that in real life car guys notice this stuff also the fool or fools that chose to trash a 1968 charger and abuse a 1970 challenger should be shot in the heel with a dull bullet the fact they arent car people is painfully obvious and their passing will not be grieved  the actors lacked any emotion everything was cut and dried one step above a monotone a barmitzvah is more exciting and energetic last but surely not least the radio dj made the statement that the challenger hit the bulldozers at 180 or 185  that is total garbage can you say aerodynamics or lack thereof hahahaha this movie is a joke dont waste your time watching this one'"
      ]
     },
     "execution_count": 8,
     "metadata": {},
     "output_type": "execute_result"
    }
   ],
   "source": [
    "review_to_words(train_X[100])"
   ]
  },
  {
   "cell_type": "code",
   "execution_count": 9,
   "metadata": {},
   "outputs": [],
   "source": [
    "import pickle\n",
    "\n",
    "cache_dir = os.path.join(\"../cache\", \"sentiment_web_app\")  # where to store cache files\n",
    "os.makedirs(cache_dir, exist_ok=True)  # ensure cache directory exists\n",
    "\n",
    "def preprocess_data(data_train, data_test, labels_train, labels_test,\n",
    "                    cache_dir=cache_dir, cache_file=\"preprocessed_data.pkl\"):\n",
    "    \"\"\"Convert each review to words; read from cache if available.\"\"\"\n",
    "\n",
    "    # If cache_file is not None, try to read from it first\n",
    "    cache_data = None\n",
    "    if cache_file is not None:\n",
    "        try:\n",
    "            with open(os.path.join(cache_dir, cache_file), \"rb\") as f:\n",
    "                cache_data = pickle.load(f)\n",
    "            print(\"Read preprocessed data from cache file:\", cache_file)\n",
    "        except:\n",
    "            pass  # unable to read from cache, but that's okay\n",
    "    \n",
    "    # If cache is missing, then do the heavy lifting\n",
    "    if cache_data is None:\n",
    "        # Preprocess training and test data to obtain words for each review\n",
    "        #words_train = list(map(review_to_words, data_train))\n",
    "        #words_test = list(map(review_to_words, data_test))\n",
    "        words_train = [review_to_words(review) for review in data_train]\n",
    "        words_test = [review_to_words(review) for review in data_test]\n",
    "        \n",
    "        # Write to cache file for future runs\n",
    "        if cache_file is not None:\n",
    "            cache_data = dict(words_train=words_train, words_test=words_test,\n",
    "                              labels_train=labels_train, labels_test=labels_test)\n",
    "            with open(os.path.join(cache_dir, cache_file), \"wb\") as f:\n",
    "                pickle.dump(cache_data, f)\n",
    "            print(\"Wrote preprocessed data to cache file:\", cache_file)\n",
    "    else:\n",
    "        # Unpack data loaded from cache file\n",
    "        words_train, words_test, labels_train, labels_test = (cache_data['words_train'],\n",
    "                cache_data['words_test'], cache_data['labels_train'], cache_data['labels_test'])\n",
    "    \n",
    "    return words_train, words_test, labels_train, labels_test"
   ]
  },
  {
   "cell_type": "code",
   "execution_count": 10,
   "metadata": {},
   "outputs": [
    {
     "name": "stdout",
     "output_type": "stream",
     "text": [
      "Read preprocessed data from cache file: preprocessed_data.pkl\n"
     ]
    }
   ],
   "source": [
    "# Preprocess data\n",
    "train_X, test_X, train_y, test_y = preprocess_data(train_X, test_X, train_y, test_y)"
   ]
  },
  {
   "cell_type": "markdown",
   "metadata": {},
   "source": [
    "### Extract Bag-of-Words features\n",
    "\n",
    "For the model we will be implementing, rather than using the reviews directly, we are going to transform each review into a Bag-of-Words feature representation. Keep in mind that 'in the wild' we will only have access to the training set so our transformer can only use the training set to construct a representation."
   ]
  },
  {
   "cell_type": "code",
   "execution_count": 11,
   "metadata": {},
   "outputs": [],
   "source": [
    "import numpy as np\n",
    "from sklearn.feature_extraction.text import CountVectorizer\n",
    "from sklearn.externals import joblib\n",
    "# joblib is an enhanced version of pickle that is more efficient for storing NumPy arrays\n",
    "\n",
    "def extract_BoW_features(words_train, words_test, vocabulary_size=5000,\n",
    "                         cache_dir=cache_dir, cache_file=\"bow_features.pkl\"):\n",
    "    \"\"\"Extract Bag-of-Words for a given set of documents, already preprocessed into words.\"\"\"\n",
    "    print(\"Starting extract_BoW_features\")\n",
    "    # If cache_file is not None, try to read from it first\n",
    "    cache_data = None\n",
    "    if cache_file is not None:\n",
    "        print(\"reading BoW_features from cache file\")\n",
    "        try:\n",
    "            with open(os.path.join(cache_dir, cache_file), \"rb\") as f:\n",
    "                cache_data = joblib.load(f)\n",
    "            print(\"Read features from cache file:\", cache_file)\n",
    "        except:\n",
    "            pass  # unable to read from cache, but that's okay\n",
    "    \n",
    "    # If cache is missing, then do the heavy lifting\n",
    "    if cache_data is None:\n",
    "        # Fit a vectorizer to training documents and use it to transform them\n",
    "        # NOTE: Training documents have already been preprocessed and tokenized into words;\n",
    "        #       pass in dummy functions to skip those steps, e.g. preprocessor=lambda x: x\n",
    "        vectorizer = CountVectorizer(max_features=vocabulary_size)\n",
    "        features_train = vectorizer.fit_transform(words_train).toarray()\n",
    "\n",
    "        # Apply the same vectorizer to transform the test documents (ignore unknown words)\n",
    "        features_test = vectorizer.transform(words_test).toarray()\n",
    "        \n",
    "        # NOTE: Remember to convert the features using .toarray() for a compact representation\n",
    "        \n",
    "        # Write to cache file for future runs (store vocabulary as well)\n",
    "        if cache_file is not None:\n",
    "            vocabulary = vectorizer.vocabulary_\n",
    "            cache_data = dict(features_train=features_train, features_test=features_test,\n",
    "                             vocabulary=vocabulary)\n",
    "            with open(os.path.join(cache_dir, cache_file), \"wb\") as f:\n",
    "                joblib.dump(cache_data, f)\n",
    "            print(\"Wrote features to cache file:\", cache_file)\n",
    "    else:\n",
    "        # Unpack data loaded from cache file\n",
    "        features_train, features_test, vocabulary = (cache_data['features_train'],\n",
    "                cache_data['features_test'], cache_data['vocabulary'])\n",
    "    \n",
    "    # Return both the extracted features as well as the vocabulary\n",
    "    return features_train, features_test, vocabulary"
   ]
  },
  {
   "cell_type": "code",
   "execution_count": 12,
   "metadata": {},
   "outputs": [
    {
     "name": "stdout",
     "output_type": "stream",
     "text": [
      "Read features from cache file: bow_features.pkl\n"
     ]
    }
   ],
   "source": [
    "# Extract Bag of Words features for both training and test datasets\n",
    "train_X, test_X, vocabulary = extract_BoW_features(train_X, test_X)"
   ]
  },
  {
   "cell_type": "code",
   "execution_count": 13,
   "metadata": {},
   "outputs": [
    {
     "data": {
      "text/plain": [
       "5000"
      ]
     },
     "execution_count": 13,
     "metadata": {},
     "output_type": "execute_result"
    }
   ],
   "source": [
    "len(train_X[100])"
   ]
  },
  {
   "cell_type": "markdown",
   "metadata": {},
   "source": [
    "## Step 3: Upload data to S3\n",
    "\n",
    "Now that we have created the feature representation of our training (and testing) data, it is time to start setting up and using the XGBoost classifier provided by SageMaker.\n",
    "\n",
    "### Writing the datasets\n",
    "\n",
    "The XGBoost classifier that we will be using requires the dataset to be written to a file and stored using Amazon S3. To do this, we will start by splitting the training dataset into two parts, the data we will train the model with and a validation set. Then, we will write those datasets to a file locally and then upload the files to S3. In addition, we will write the test set to a file and upload that file to S3. This is so that we can use SageMakers Batch Transform functionality to test our model once we've fit it."
   ]
  },
  {
   "cell_type": "code",
   "execution_count": 15,
   "metadata": {},
   "outputs": [],
   "source": [
    "import pandas as pd\n",
    "\n",
    "# Earlier we shuffled the training dataset so to make things simple we can just assign\n",
    "# the first 10 000 reviews to the validation set and use the remaining reviews for training.\n",
    "val_X = pd.DataFrame(train_X[:10000])\n",
    "train_X = pd.DataFrame(train_X[10000:])\n",
    "\n",
    "val_y = pd.DataFrame(train_y[:10000])\n",
    "train_y = pd.DataFrame(train_y[10000:])"
   ]
  },
  {
   "cell_type": "markdown",
   "metadata": {},
   "source": [
    "The documentation for the XGBoost algorithm in SageMaker requires that the training and validation datasets should contain no headers or index and that the label should occur first for each sample.\n",
    "\n",
    "For more information about this and other algorithms, the SageMaker developer documentation can be found on __[Amazon's website.](https://docs.aws.amazon.com/sagemaker/latest/dg/)__"
   ]
  },
  {
   "cell_type": "code",
   "execution_count": 16,
   "metadata": {},
   "outputs": [],
   "source": [
    "# First we make sure that the local directory in which we'd like to store the training and validation csv files exists.\n",
    "data_dir = '../data/sentiment_web_app'\n",
    "if not os.path.exists(data_dir):\n",
    "    os.makedirs(data_dir)"
   ]
  },
  {
   "cell_type": "code",
   "execution_count": 17,
   "metadata": {},
   "outputs": [],
   "source": [
    "pd.DataFrame(test_X).to_csv(os.path.join(data_dir, 'test.csv'), header=False, index=False)\n",
    "\n",
    "pd.concat([val_y, val_X], axis=1).to_csv(os.path.join(data_dir, 'validation.csv'), header=False, index=False)\n",
    "pd.concat([train_y, train_X], axis=1).to_csv(os.path.join(data_dir, 'train.csv'), header=False, index=False)"
   ]
  },
  {
   "cell_type": "code",
   "execution_count": 18,
   "metadata": {},
   "outputs": [],
   "source": [
    "# To save a bit of memory we can set text_X, train_X, val_X, train_y and val_y to None.\n",
    "\n",
    "test_X = train_X = val_X = train_y = val_y = None"
   ]
  },
  {
   "cell_type": "markdown",
   "metadata": {},
   "source": [
    "### Uploading Training / Validation files to S3\n",
    "\n",
    "Amazon's S3 service allows us to store files that can be accessed by both the built-in training models such as the XGBoost model we will be using as well as custom models such as the one we will see a little later.\n",
    "\n",
    "For this and most other tasks we will be doing using SageMaker, there are two methods we could use. The first is to use the low level functionality of SageMaker which requires knowing each of the objects involved in the SageMaker environment. The second is to use the high level functionality in which certain choices have been made on the user's behalf. The low level approach benefits from allowing the user a great deal of flexibility while the high level approach makes development much quicker. For our purposes we will opt to use the high level approach although using the low-level approach is certainly an option.\n",
    "\n",
    "Recall the method `upload_data()` which is a member of the object representing our current SageMaker session. What this method does is upload the data to the default bucket (which is created if it does not exist) into the path described by the key_prefix variable. To see this for yourself, once you have uploaded the data files, go to the S3 console and look to see where the files have been uploaded.\n",
    "\n",
    "For additional resources, see the __[SageMaker API documentation](http://sagemaker.readthedocs.io/en/latest/)__ and in addition the __[SageMaker Developer Guide.](https://docs.aws.amazon.com/sagemaker/latest/dg/)__"
   ]
  },
  {
   "cell_type": "code",
   "execution_count": 19,
   "metadata": {},
   "outputs": [],
   "source": [
    "import sagemaker\n",
    "\n",
    "session = sagemaker.Session() # Store the current SageMaker session\n",
    "\n",
    "# S3 prefix (which folder will we use)\n",
    "prefix = 'sentiment-web-app'\n",
    "\n",
    "test_location = session.upload_data(os.path.join(data_dir, 'test.csv'), key_prefix=prefix)\n",
    "val_location = session.upload_data(os.path.join(data_dir, 'validation.csv'), key_prefix=prefix)\n",
    "train_location = session.upload_data(os.path.join(data_dir, 'train.csv'), key_prefix=prefix)"
   ]
  },
  {
   "cell_type": "markdown",
   "metadata": {},
   "source": [
    "## Step 4: Creating the XGBoost model\n",
    "\n",
    "Now that the data has been uploaded it is time to create the XGBoost model. To begin with, we need to do some setup. At this point it is worth discussing what a model is in SageMaker. It is easiest to think of a model of comprising three different objects in the SageMaker ecosystem, which interact with one another.\n",
    "\n",
    "- Model Artifacts\n",
    "- Training Code (Container)\n",
    "- Inference Code (Container)\n",
    "\n",
    "The Model Artifacts are what you might think of as the actual model itself. For example, if you were building a neural network, the model artifacts would be the weights of the various layers. In our case, for an XGBoost model, the artifacts are the actual trees that are created during training.\n",
    "\n",
    "The other two objects, the training code and the inference code are then used to manipulate the training artifacts. More precisely, the training code uses the training data that is provided and creates the model artifacts, while the inference code uses the model artifacts to make predictions on new data.\n",
    "\n",
    "The way that SageMaker runs the training and inference code is by making use of Docker containers. For now, think of a container as being a way of packaging code up so that dependencies aren't an issue."
   ]
  },
  {
   "cell_type": "code",
   "execution_count": 20,
   "metadata": {},
   "outputs": [],
   "source": [
    "from sagemaker import get_execution_role\n",
    "\n",
    "# Our current execution role is required when creating the model as the training\n",
    "# and inference code will need to access the model artifacts.\n",
    "role = get_execution_role()"
   ]
  },
  {
   "cell_type": "code",
   "execution_count": 21,
   "metadata": {},
   "outputs": [
    {
     "name": "stderr",
     "output_type": "stream",
     "text": [
      "WARNING:root:There is a more up to date SageMaker XGBoost image. To use the newer image, please set 'repo_version'='0.90-1'. For example:\n",
      "\tget_image_uri(region, 'xgboost', '0.90-1').\n"
     ]
    }
   ],
   "source": [
    "# We need to retrieve the location of the container which is provided by Amazon for using XGBoost.\n",
    "# As a matter of convenience, the training and inference code both use the same container.\n",
    "from sagemaker.amazon.amazon_estimator import get_image_uri\n",
    "\n",
    "container = get_image_uri(session.boto_region_name, 'xgboost')"
   ]
  },
  {
   "cell_type": "code",
   "execution_count": 22,
   "metadata": {},
   "outputs": [],
   "source": [
    "# First we create a SageMaker estimator object for our model.\n",
    "xgb = sagemaker.estimator.Estimator(container, # The location of the container we wish to use\n",
    "                                    role,                                    # What is our current IAM Role\n",
    "                                    train_instance_count=1,                  # How many compute instances\n",
    "                                    train_instance_type='ml.m4.xlarge',      # What kind of compute instances\n",
    "                                    output_path='s3://{}/{}/output'.format(session.default_bucket(), prefix),\n",
    "                                    sagemaker_session=session)\n",
    "\n",
    "# And then set the algorithm specific parameters.\n",
    "xgb.set_hyperparameters(max_depth=5,\n",
    "                        eta=0.2,\n",
    "                        gamma=4,\n",
    "                        min_child_weight=6,\n",
    "                        subsample=0.8,\n",
    "                        silent=0,\n",
    "                        objective='binary:logistic',\n",
    "                        early_stopping_rounds=10,\n",
    "                        num_round=500)"
   ]
  },
  {
   "cell_type": "markdown",
   "metadata": {},
   "source": [
    "### Fit the XGBoost model\n",
    "\n",
    "Now that our model has been set up we simply need to attach the training and validation datasets and then ask SageMaker to set up the computation."
   ]
  },
  {
   "cell_type": "code",
   "execution_count": 23,
   "metadata": {},
   "outputs": [],
   "source": [
    "s3_input_train = sagemaker.s3_input(s3_data=train_location, content_type='csv')\n",
    "s3_input_validation = sagemaker.s3_input(s3_data=val_location, content_type='csv')"
   ]
  },
  {
   "cell_type": "code",
   "execution_count": 24,
   "metadata": {},
   "outputs": [
    {
     "name": "stdout",
     "output_type": "stream",
     "text": [
      "2020-02-22 12:51:28 Starting - Starting the training job...\n",
      "2020-02-22 12:51:30 Starting - Launching requested ML instances.........\n",
      "2020-02-22 12:53:00 Starting - Preparing the instances for training...\n",
      "2020-02-22 12:53:48 Downloading - Downloading input data...\n",
      "2020-02-22 12:54:22 Training - Downloading the training image...\n",
      "2020-02-22 12:54:41 Training - Training image download completed. Training in progress.\u001b[34mArguments: train\u001b[0m\n",
      "\u001b[34m[2020-02-22:12:54:42:INFO] Running standalone xgboost training.\u001b[0m\n",
      "\u001b[34m[2020-02-22:12:54:42:INFO] File size need to be processed in the node: 238.5mb. Available memory size in the node: 8512.18mb\u001b[0m\n",
      "\u001b[34m[2020-02-22:12:54:42:INFO] Determined delimiter of CSV input is ','\u001b[0m\n",
      "\u001b[34m[12:54:42] S3DistributionType set as FullyReplicated\u001b[0m\n",
      "\u001b[34m[12:54:44] 15000x5000 matrix with 75000000 entries loaded from /opt/ml/input/data/train?format=csv&label_column=0&delimiter=,\u001b[0m\n",
      "\u001b[34m[2020-02-22:12:54:44:INFO] Determined delimiter of CSV input is ','\u001b[0m\n",
      "\u001b[34m[12:54:44] S3DistributionType set as FullyReplicated\u001b[0m\n",
      "\u001b[34m[12:54:45] 10000x5000 matrix with 50000000 entries loaded from /opt/ml/input/data/validation?format=csv&label_column=0&delimiter=,\u001b[0m\n",
      "\u001b[34m[12:54:48] src/tree/updater_prune.cc:74: tree pruning end, 1 roots, 42 extra nodes, 2 pruned nodes, max_depth=5\u001b[0m\n",
      "\u001b[34m[0]#011train-error:0.303667#011validation-error:0.3105\u001b[0m\n",
      "\u001b[34mMultiple eval metrics have been passed: 'validation-error' will be used for early stopping.\n",
      "\u001b[0m\n",
      "\u001b[34mWill train until validation-error hasn't improved in 10 rounds.\u001b[0m\n",
      "\u001b[34m[12:54:50] src/tree/updater_prune.cc:74: tree pruning end, 1 roots, 38 extra nodes, 8 pruned nodes, max_depth=5\u001b[0m\n",
      "\u001b[34m[1]#011train-error:0.288867#011validation-error:0.2977\u001b[0m\n",
      "\u001b[34m[12:54:51] src/tree/updater_prune.cc:74: tree pruning end, 1 roots, 46 extra nodes, 4 pruned nodes, max_depth=5\u001b[0m\n",
      "\u001b[34m[2]#011train-error:0.288#011validation-error:0.2956\u001b[0m\n",
      "\u001b[34m[12:54:53] src/tree/updater_prune.cc:74: tree pruning end, 1 roots, 34 extra nodes, 2 pruned nodes, max_depth=5\u001b[0m\n",
      "\u001b[34m[3]#011train-error:0.2698#011validation-error:0.2824\u001b[0m\n",
      "\u001b[34m[12:54:54] src/tree/updater_prune.cc:74: tree pruning end, 1 roots, 50 extra nodes, 4 pruned nodes, max_depth=5\u001b[0m\n",
      "\u001b[34m[4]#011train-error:0.262933#011validation-error:0.2745\u001b[0m\n",
      "\u001b[34m[12:54:55] src/tree/updater_prune.cc:74: tree pruning end, 1 roots, 30 extra nodes, 10 pruned nodes, max_depth=5\u001b[0m\n",
      "\u001b[34m[5]#011train-error:0.2572#011validation-error:0.2683\u001b[0m\n",
      "\u001b[34m[12:54:56] src/tree/updater_prune.cc:74: tree pruning end, 1 roots, 30 extra nodes, 8 pruned nodes, max_depth=5\u001b[0m\n",
      "\u001b[34m[6]#011train-error:0.252067#011validation-error:0.2651\u001b[0m\n",
      "\u001b[34m[12:54:58] src/tree/updater_prune.cc:74: tree pruning end, 1 roots, 32 extra nodes, 6 pruned nodes, max_depth=5\u001b[0m\n",
      "\u001b[34m[7]#011train-error:0.2442#011validation-error:0.2589\u001b[0m\n",
      "\u001b[34m[12:54:59] src/tree/updater_prune.cc:74: tree pruning end, 1 roots, 34 extra nodes, 0 pruned nodes, max_depth=5\u001b[0m\n",
      "\u001b[34m[8]#011train-error:0.2334#011validation-error:0.2495\u001b[0m\n",
      "\u001b[34m[12:55:00] src/tree/updater_prune.cc:74: tree pruning end, 1 roots, 30 extra nodes, 4 pruned nodes, max_depth=5\u001b[0m\n",
      "\u001b[34m[9]#011train-error:0.228467#011validation-error:0.2459\u001b[0m\n",
      "\u001b[34m[12:55:01] src/tree/updater_prune.cc:74: tree pruning end, 1 roots, 30 extra nodes, 10 pruned nodes, max_depth=5\u001b[0m\n",
      "\u001b[34m[10]#011train-error:0.226467#011validation-error:0.2411\u001b[0m\n",
      "\u001b[34m[12:55:03] src/tree/updater_prune.cc:74: tree pruning end, 1 roots, 32 extra nodes, 2 pruned nodes, max_depth=5\u001b[0m\n",
      "\u001b[34m[11]#011train-error:0.220933#011validation-error:0.2371\u001b[0m\n",
      "\u001b[34m[12:55:04] src/tree/updater_prune.cc:74: tree pruning end, 1 roots, 32 extra nodes, 8 pruned nodes, max_depth=5\u001b[0m\n",
      "\u001b[34m[12]#011train-error:0.215533#011validation-error:0.2327\u001b[0m\n",
      "\u001b[34m[12:55:05] src/tree/updater_prune.cc:74: tree pruning end, 1 roots, 26 extra nodes, 8 pruned nodes, max_depth=5\u001b[0m\n",
      "\u001b[34m[13]#011train-error:0.209667#011validation-error:0.2279\u001b[0m\n",
      "\u001b[34m[12:55:07] src/tree/updater_prune.cc:74: tree pruning end, 1 roots, 30 extra nodes, 6 pruned nodes, max_depth=5\u001b[0m\n",
      "\u001b[34m[14]#011train-error:0.2078#011validation-error:0.2266\u001b[0m\n",
      "\u001b[34m[12:55:08] src/tree/updater_prune.cc:74: tree pruning end, 1 roots, 30 extra nodes, 2 pruned nodes, max_depth=5\u001b[0m\n",
      "\u001b[34m[15]#011train-error:0.204067#011validation-error:0.2239\u001b[0m\n",
      "\u001b[34m[12:55:09] src/tree/updater_prune.cc:74: tree pruning end, 1 roots, 32 extra nodes, 4 pruned nodes, max_depth=5\u001b[0m\n",
      "\u001b[34m[16]#011train-error:0.1996#011validation-error:0.2228\u001b[0m\n",
      "\u001b[34m[12:55:10] src/tree/updater_prune.cc:74: tree pruning end, 1 roots, 28 extra nodes, 2 pruned nodes, max_depth=5\u001b[0m\n",
      "\u001b[34m[17]#011train-error:0.196#011validation-error:0.2178\u001b[0m\n",
      "\u001b[34m[12:55:12] src/tree/updater_prune.cc:74: tree pruning end, 1 roots, 24 extra nodes, 8 pruned nodes, max_depth=5\u001b[0m\n",
      "\u001b[34m[18]#011train-error:0.1944#011validation-error:0.2147\u001b[0m\n",
      "\u001b[34m[12:55:13] src/tree/updater_prune.cc:74: tree pruning end, 1 roots, 22 extra nodes, 14 pruned nodes, max_depth=5\u001b[0m\n",
      "\u001b[34m[19]#011train-error:0.1898#011validation-error:0.2136\u001b[0m\n",
      "\u001b[34m[12:55:14] src/tree/updater_prune.cc:74: tree pruning end, 1 roots, 46 extra nodes, 6 pruned nodes, max_depth=5\u001b[0m\n",
      "\u001b[34m[20]#011train-error:0.186733#011validation-error:0.2111\u001b[0m\n",
      "\u001b[34m[12:55:15] src/tree/updater_prune.cc:74: tree pruning end, 1 roots, 34 extra nodes, 2 pruned nodes, max_depth=5\u001b[0m\n",
      "\u001b[34m[21]#011train-error:0.1836#011validation-error:0.2094\u001b[0m\n",
      "\u001b[34m[12:55:17] src/tree/updater_prune.cc:74: tree pruning end, 1 roots, 24 extra nodes, 4 pruned nodes, max_depth=5\u001b[0m\n",
      "\u001b[34m[22]#011train-error:0.182267#011validation-error:0.2083\u001b[0m\n",
      "\u001b[34m[12:55:18] src/tree/updater_prune.cc:74: tree pruning end, 1 roots, 36 extra nodes, 2 pruned nodes, max_depth=5\u001b[0m\n",
      "\u001b[34m[23]#011train-error:0.179067#011validation-error:0.2054\u001b[0m\n",
      "\u001b[34m[12:55:19] src/tree/updater_prune.cc:74: tree pruning end, 1 roots, 18 extra nodes, 6 pruned nodes, max_depth=5\u001b[0m\n",
      "\u001b[34m[24]#011train-error:0.177667#011validation-error:0.2045\u001b[0m\n",
      "\u001b[34m[12:55:21] src/tree/updater_prune.cc:74: tree pruning end, 1 roots, 16 extra nodes, 8 pruned nodes, max_depth=5\u001b[0m\n",
      "\u001b[34m[25]#011train-error:0.176333#011validation-error:0.2021\u001b[0m\n",
      "\u001b[34m[12:55:22] src/tree/updater_prune.cc:74: tree pruning end, 1 roots, 32 extra nodes, 10 pruned nodes, max_depth=5\u001b[0m\n",
      "\u001b[34m[26]#011train-error:0.172867#011validation-error:0.2025\u001b[0m\n",
      "\u001b[34m[12:55:23] src/tree/updater_prune.cc:74: tree pruning end, 1 roots, 22 extra nodes, 10 pruned nodes, max_depth=5\u001b[0m\n",
      "\u001b[34m[27]#011train-error:0.171867#011validation-error:0.2022\u001b[0m\n",
      "\u001b[34m[12:55:24] src/tree/updater_prune.cc:74: tree pruning end, 1 roots, 28 extra nodes, 8 pruned nodes, max_depth=5\u001b[0m\n",
      "\u001b[34m[28]#011train-error:0.170467#011validation-error:0.2007\u001b[0m\n",
      "\u001b[34m[12:55:26] src/tree/updater_prune.cc:74: tree pruning end, 1 roots, 34 extra nodes, 8 pruned nodes, max_depth=5\u001b[0m\n",
      "\u001b[34m[29]#011train-error:0.168#011validation-error:0.2001\u001b[0m\n",
      "\u001b[34m[12:55:27] src/tree/updater_prune.cc:74: tree pruning end, 1 roots, 34 extra nodes, 2 pruned nodes, max_depth=5\u001b[0m\n",
      "\u001b[34m[30]#011train-error:0.167067#011validation-error:0.1981\u001b[0m\n",
      "\u001b[34m[12:55:28] src/tree/updater_prune.cc:74: tree pruning end, 1 roots, 34 extra nodes, 8 pruned nodes, max_depth=5\u001b[0m\n",
      "\u001b[34m[31]#011train-error:0.164467#011validation-error:0.1973\u001b[0m\n",
      "\u001b[34m[12:55:29] src/tree/updater_prune.cc:74: tree pruning end, 1 roots, 20 extra nodes, 10 pruned nodes, max_depth=5\u001b[0m\n",
      "\u001b[34m[32]#011train-error:0.1634#011validation-error:0.1963\u001b[0m\n",
      "\u001b[34m[12:55:31] src/tree/updater_prune.cc:74: tree pruning end, 1 roots, 32 extra nodes, 2 pruned nodes, max_depth=5\u001b[0m\n",
      "\u001b[34m[33]#011train-error:0.161733#011validation-error:0.1949\u001b[0m\n",
      "\u001b[34m[12:55:32] src/tree/updater_prune.cc:74: tree pruning end, 1 roots, 16 extra nodes, 6 pruned nodes, max_depth=5\u001b[0m\n",
      "\u001b[34m[34]#011train-error:0.1602#011validation-error:0.1935\u001b[0m\n",
      "\u001b[34m[12:55:33] src/tree/updater_prune.cc:74: tree pruning end, 1 roots, 20 extra nodes, 10 pruned nodes, max_depth=5\u001b[0m\n",
      "\u001b[34m[35]#011train-error:0.157733#011validation-error:0.191\u001b[0m\n",
      "\u001b[34m[12:55:34] src/tree/updater_prune.cc:74: tree pruning end, 1 roots, 16 extra nodes, 6 pruned nodes, max_depth=5\u001b[0m\n",
      "\u001b[34m[36]#011train-error:0.156733#011validation-error:0.1904\u001b[0m\n",
      "\u001b[34m[12:55:36] src/tree/updater_prune.cc:74: tree pruning end, 1 roots, 32 extra nodes, 12 pruned nodes, max_depth=5\u001b[0m\n",
      "\u001b[34m[37]#011train-error:0.154733#011validation-error:0.1884\u001b[0m\n",
      "\u001b[34m[12:55:37] src/tree/updater_prune.cc:74: tree pruning end, 1 roots, 30 extra nodes, 4 pruned nodes, max_depth=5\u001b[0m\n",
      "\u001b[34m[38]#011train-error:0.152067#011validation-error:0.1878\u001b[0m\n",
      "\u001b[34m[12:55:38] src/tree/updater_prune.cc:74: tree pruning end, 1 roots, 38 extra nodes, 6 pruned nodes, max_depth=5\u001b[0m\n",
      "\u001b[34m[39]#011train-error:0.151#011validation-error:0.1861\u001b[0m\n"
     ]
    },
    {
     "name": "stdout",
     "output_type": "stream",
     "text": [
      "\u001b[34m[12:55:39] src/tree/updater_prune.cc:74: tree pruning end, 1 roots, 42 extra nodes, 10 pruned nodes, max_depth=5\u001b[0m\n",
      "\u001b[34m[40]#011train-error:0.147#011validation-error:0.1872\u001b[0m\n",
      "\u001b[34m[12:55:41] src/tree/updater_prune.cc:74: tree pruning end, 1 roots, 16 extra nodes, 6 pruned nodes, max_depth=5\u001b[0m\n",
      "\u001b[34m[41]#011train-error:0.146533#011validation-error:0.1873\u001b[0m\n",
      "\u001b[34m[12:55:42] src/tree/updater_prune.cc:74: tree pruning end, 1 roots, 38 extra nodes, 10 pruned nodes, max_depth=5\u001b[0m\n",
      "\u001b[34m[42]#011train-error:0.144667#011validation-error:0.1855\u001b[0m\n",
      "\u001b[34m[12:55:43] src/tree/updater_prune.cc:74: tree pruning end, 1 roots, 20 extra nodes, 6 pruned nodes, max_depth=5\u001b[0m\n",
      "\u001b[34m[43]#011train-error:0.142733#011validation-error:0.1855\u001b[0m\n",
      "\u001b[34m[12:55:44] src/tree/updater_prune.cc:74: tree pruning end, 1 roots, 18 extra nodes, 8 pruned nodes, max_depth=5\u001b[0m\n",
      "\u001b[34m[44]#011train-error:0.1418#011validation-error:0.1847\u001b[0m\n",
      "\u001b[34m[12:55:46] src/tree/updater_prune.cc:74: tree pruning end, 1 roots, 40 extra nodes, 4 pruned nodes, max_depth=5\u001b[0m\n",
      "\u001b[34m[45]#011train-error:0.141533#011validation-error:0.1817\u001b[0m\n",
      "\u001b[34m[12:55:47] src/tree/updater_prune.cc:74: tree pruning end, 1 roots, 34 extra nodes, 10 pruned nodes, max_depth=5\u001b[0m\n",
      "\u001b[34m[46]#011train-error:0.140467#011validation-error:0.1811\u001b[0m\n",
      "\u001b[34m[12:55:48] src/tree/updater_prune.cc:74: tree pruning end, 1 roots, 18 extra nodes, 8 pruned nodes, max_depth=5\u001b[0m\n",
      "\u001b[34m[47]#011train-error:0.140067#011validation-error:0.1814\u001b[0m\n",
      "\u001b[34m[12:55:50] src/tree/updater_prune.cc:74: tree pruning end, 1 roots, 40 extra nodes, 4 pruned nodes, max_depth=5\u001b[0m\n",
      "\u001b[34m[48]#011train-error:0.138733#011validation-error:0.1827\u001b[0m\n",
      "\u001b[34m[12:55:51] src/tree/updater_prune.cc:74: tree pruning end, 1 roots, 24 extra nodes, 6 pruned nodes, max_depth=5\u001b[0m\n",
      "\u001b[34m[49]#011train-error:0.1374#011validation-error:0.1813\u001b[0m\n",
      "\u001b[34m[12:55:52] src/tree/updater_prune.cc:74: tree pruning end, 1 roots, 20 extra nodes, 4 pruned nodes, max_depth=5\u001b[0m\n",
      "\u001b[34m[50]#011train-error:0.137267#011validation-error:0.1809\u001b[0m\n",
      "\u001b[34m[12:55:53] src/tree/updater_prune.cc:74: tree pruning end, 1 roots, 34 extra nodes, 14 pruned nodes, max_depth=5\u001b[0m\n",
      "\u001b[34m[51]#011train-error:0.1352#011validation-error:0.179\u001b[0m\n",
      "\u001b[34m[12:55:55] src/tree/updater_prune.cc:74: tree pruning end, 1 roots, 12 extra nodes, 6 pruned nodes, max_depth=5\u001b[0m\n",
      "\u001b[34m[52]#011train-error:0.135#011validation-error:0.178\u001b[0m\n",
      "\u001b[34m[12:55:56] src/tree/updater_prune.cc:74: tree pruning end, 1 roots, 24 extra nodes, 12 pruned nodes, max_depth=5\u001b[0m\n",
      "\u001b[34m[53]#011train-error:0.133933#011validation-error:0.1765\u001b[0m\n",
      "\u001b[34m[12:55:57] src/tree/updater_prune.cc:74: tree pruning end, 1 roots, 20 extra nodes, 10 pruned nodes, max_depth=5\u001b[0m\n",
      "\u001b[34m[54]#011train-error:0.133#011validation-error:0.1767\u001b[0m\n",
      "\u001b[34m[12:55:58] src/tree/updater_prune.cc:74: tree pruning end, 1 roots, 14 extra nodes, 14 pruned nodes, max_depth=5\u001b[0m\n",
      "\u001b[34m[55]#011train-error:0.132533#011validation-error:0.1751\u001b[0m\n",
      "\u001b[34m[12:56:00] src/tree/updater_prune.cc:74: tree pruning end, 1 roots, 12 extra nodes, 8 pruned nodes, max_depth=5\u001b[0m\n",
      "\u001b[34m[56]#011train-error:0.1318#011validation-error:0.1739\u001b[0m\n",
      "\u001b[34m[12:56:01] src/tree/updater_prune.cc:74: tree pruning end, 1 roots, 28 extra nodes, 4 pruned nodes, max_depth=5\u001b[0m\n",
      "\u001b[34m[57]#011train-error:0.129933#011validation-error:0.175\u001b[0m\n",
      "\u001b[34m[12:56:02] src/tree/updater_prune.cc:74: tree pruning end, 1 roots, 20 extra nodes, 6 pruned nodes, max_depth=5\u001b[0m\n",
      "\u001b[34m[58]#011train-error:0.1288#011validation-error:0.1731\u001b[0m\n",
      "\u001b[34m[12:56:03] src/tree/updater_prune.cc:74: tree pruning end, 1 roots, 16 extra nodes, 10 pruned nodes, max_depth=5\u001b[0m\n",
      "\u001b[34m[59]#011train-error:0.1296#011validation-error:0.1726\u001b[0m\n",
      "\u001b[34m[12:56:05] src/tree/updater_prune.cc:74: tree pruning end, 1 roots, 12 extra nodes, 12 pruned nodes, max_depth=5\u001b[0m\n",
      "\u001b[34m[60]#011train-error:0.128467#011validation-error:0.172\u001b[0m\n",
      "\u001b[34m[12:56:06] src/tree/updater_prune.cc:74: tree pruning end, 1 roots, 20 extra nodes, 8 pruned nodes, max_depth=5\u001b[0m\n",
      "\u001b[34m[61]#011train-error:0.127533#011validation-error:0.172\u001b[0m\n",
      "\u001b[34m[12:56:07] src/tree/updater_prune.cc:74: tree pruning end, 1 roots, 28 extra nodes, 6 pruned nodes, max_depth=5\u001b[0m\n",
      "\u001b[34m[62]#011train-error:0.126733#011validation-error:0.1715\u001b[0m\n",
      "\u001b[34m[12:56:08] src/tree/updater_prune.cc:74: tree pruning end, 1 roots, 24 extra nodes, 8 pruned nodes, max_depth=5\u001b[0m\n",
      "\u001b[34m[63]#011train-error:0.126#011validation-error:0.1714\u001b[0m\n",
      "\u001b[34m[12:56:10] src/tree/updater_prune.cc:74: tree pruning end, 1 roots, 16 extra nodes, 2 pruned nodes, max_depth=5\u001b[0m\n",
      "\u001b[34m[64]#011train-error:0.1254#011validation-error:0.1708\u001b[0m\n",
      "\u001b[34m[12:56:11] src/tree/updater_prune.cc:74: tree pruning end, 1 roots, 14 extra nodes, 10 pruned nodes, max_depth=5\u001b[0m\n",
      "\u001b[34m[65]#011train-error:0.124267#011validation-error:0.1705\u001b[0m\n",
      "\u001b[34m[12:56:12] src/tree/updater_prune.cc:74: tree pruning end, 1 roots, 14 extra nodes, 6 pruned nodes, max_depth=5\u001b[0m\n",
      "\u001b[34m[66]#011train-error:0.123933#011validation-error:0.1688\u001b[0m\n",
      "\u001b[34m[12:56:14] src/tree/updater_prune.cc:74: tree pruning end, 1 roots, 30 extra nodes, 12 pruned nodes, max_depth=5\u001b[0m\n",
      "\u001b[34m[67]#011train-error:0.123067#011validation-error:0.1682\u001b[0m\n",
      "\u001b[34m[12:56:15] src/tree/updater_prune.cc:74: tree pruning end, 1 roots, 24 extra nodes, 16 pruned nodes, max_depth=5\u001b[0m\n",
      "\u001b[34m[68]#011train-error:0.1224#011validation-error:0.1683\u001b[0m\n",
      "\u001b[34m[12:56:16] src/tree/updater_prune.cc:74: tree pruning end, 1 roots, 20 extra nodes, 10 pruned nodes, max_depth=5\u001b[0m\n",
      "\u001b[34m[69]#011train-error:0.1216#011validation-error:0.1684\u001b[0m\n",
      "\u001b[34m[12:56:17] src/tree/updater_prune.cc:74: tree pruning end, 1 roots, 28 extra nodes, 6 pruned nodes, max_depth=5\u001b[0m\n",
      "\u001b[34m[70]#011train-error:0.1206#011validation-error:0.167\u001b[0m\n",
      "\u001b[34m[12:56:19] src/tree/updater_prune.cc:74: tree pruning end, 1 roots, 20 extra nodes, 6 pruned nodes, max_depth=5\u001b[0m\n",
      "\u001b[34m[71]#011train-error:0.118733#011validation-error:0.1674\u001b[0m\n",
      "\u001b[34m[12:56:20] src/tree/updater_prune.cc:74: tree pruning end, 1 roots, 20 extra nodes, 10 pruned nodes, max_depth=5\u001b[0m\n",
      "\u001b[34m[72]#011train-error:0.119#011validation-error:0.166\u001b[0m\n",
      "\u001b[34m[12:56:21] src/tree/updater_prune.cc:74: tree pruning end, 1 roots, 36 extra nodes, 4 pruned nodes, max_depth=5\u001b[0m\n",
      "\u001b[34m[73]#011train-error:0.116933#011validation-error:0.1663\u001b[0m\n",
      "\u001b[34m[12:56:22] src/tree/updater_prune.cc:74: tree pruning end, 1 roots, 28 extra nodes, 14 pruned nodes, max_depth=5\u001b[0m\n",
      "\u001b[34m[74]#011train-error:0.1166#011validation-error:0.1661\u001b[0m\n",
      "\u001b[34m[12:56:24] src/tree/updater_prune.cc:74: tree pruning end, 1 roots, 16 extra nodes, 2 pruned nodes, max_depth=5\u001b[0m\n",
      "\u001b[34m[75]#011train-error:0.116067#011validation-error:0.1664\u001b[0m\n",
      "\u001b[34m[12:56:25] src/tree/updater_prune.cc:74: tree pruning end, 1 roots, 14 extra nodes, 14 pruned nodes, max_depth=5\u001b[0m\n",
      "\u001b[34m[76]#011train-error:0.1156#011validation-error:0.1657\u001b[0m\n",
      "\u001b[34m[12:56:26] src/tree/updater_prune.cc:74: tree pruning end, 1 roots, 18 extra nodes, 4 pruned nodes, max_depth=5\u001b[0m\n",
      "\u001b[34m[77]#011train-error:0.114333#011validation-error:0.1654\u001b[0m\n",
      "\u001b[34m[12:56:27] src/tree/updater_prune.cc:74: tree pruning end, 1 roots, 10 extra nodes, 10 pruned nodes, max_depth=5\u001b[0m\n",
      "\u001b[34m[78]#011train-error:0.1138#011validation-error:0.1654\u001b[0m\n",
      "\u001b[34m[12:56:29] src/tree/updater_prune.cc:74: tree pruning end, 1 roots, 20 extra nodes, 10 pruned nodes, max_depth=5\u001b[0m\n",
      "\u001b[34m[79]#011train-error:0.113133#011validation-error:0.166\u001b[0m\n",
      "\u001b[34m[12:56:30] src/tree/updater_prune.cc:74: tree pruning end, 1 roots, 16 extra nodes, 4 pruned nodes, max_depth=5\u001b[0m\n",
      "\u001b[34m[80]#011train-error:0.111733#011validation-error:0.1646\u001b[0m\n",
      "\u001b[34m[12:56:31] src/tree/updater_prune.cc:74: tree pruning end, 1 roots, 12 extra nodes, 12 pruned nodes, max_depth=5\u001b[0m\n",
      "\u001b[34m[81]#011train-error:0.1126#011validation-error:0.1635\u001b[0m\n",
      "\u001b[34m[12:56:32] src/tree/updater_prune.cc:74: tree pruning end, 1 roots, 22 extra nodes, 4 pruned nodes, max_depth=5\u001b[0m\n",
      "\u001b[34m[82]#011train-error:0.111467#011validation-error:0.1641\u001b[0m\n",
      "\u001b[34m[12:56:34] src/tree/updater_prune.cc:74: tree pruning end, 1 roots, 20 extra nodes, 6 pruned nodes, max_depth=5\u001b[0m\n",
      "\u001b[34m[83]#011train-error:0.111#011validation-error:0.1631\u001b[0m\n",
      "\u001b[34m[12:56:35] src/tree/updater_prune.cc:74: tree pruning end, 1 roots, 12 extra nodes, 8 pruned nodes, max_depth=5\u001b[0m\n",
      "\u001b[34m[84]#011train-error:0.111133#011validation-error:0.1621\u001b[0m\n",
      "\u001b[34m[12:56:36] src/tree/updater_prune.cc:74: tree pruning end, 1 roots, 32 extra nodes, 8 pruned nodes, max_depth=5\u001b[0m\n",
      "\u001b[34m[85]#011train-error:0.108667#011validation-error:0.1628\u001b[0m\n",
      "\u001b[34m[12:56:37] src/tree/updater_prune.cc:74: tree pruning end, 1 roots, 10 extra nodes, 2 pruned nodes, max_depth=5\u001b[0m\n",
      "\u001b[34m[86]#011train-error:0.108333#011validation-error:0.1625\u001b[0m\n",
      "\u001b[34m[12:56:39] src/tree/updater_prune.cc:74: tree pruning end, 1 roots, 18 extra nodes, 4 pruned nodes, max_depth=5\u001b[0m\n",
      "\u001b[34m[87]#011train-error:0.1078#011validation-error:0.1618\u001b[0m\n"
     ]
    },
    {
     "name": "stdout",
     "output_type": "stream",
     "text": [
      "\u001b[34m[12:56:40] src/tree/updater_prune.cc:74: tree pruning end, 1 roots, 16 extra nodes, 8 pruned nodes, max_depth=5\u001b[0m\n",
      "\u001b[34m[88]#011train-error:0.107467#011validation-error:0.1618\u001b[0m\n",
      "\u001b[34m[12:56:41] src/tree/updater_prune.cc:74: tree pruning end, 1 roots, 22 extra nodes, 4 pruned nodes, max_depth=5\u001b[0m\n",
      "\u001b[34m[89]#011train-error:0.1066#011validation-error:0.1607\u001b[0m\n",
      "\u001b[34m[12:56:42] src/tree/updater_prune.cc:74: tree pruning end, 1 roots, 22 extra nodes, 12 pruned nodes, max_depth=5\u001b[0m\n",
      "\u001b[34m[90]#011train-error:0.107133#011validation-error:0.1605\u001b[0m\n",
      "\u001b[34m[12:56:44] src/tree/updater_prune.cc:74: tree pruning end, 1 roots, 10 extra nodes, 6 pruned nodes, max_depth=5\u001b[0m\n",
      "\u001b[34m[91]#011train-error:0.106867#011validation-error:0.1609\u001b[0m\n",
      "\u001b[34m[12:56:45] src/tree/updater_prune.cc:74: tree pruning end, 1 roots, 16 extra nodes, 12 pruned nodes, max_depth=5\u001b[0m\n",
      "\u001b[34m[92]#011train-error:0.106267#011validation-error:0.16\u001b[0m\n",
      "\u001b[34m[12:56:46] src/tree/updater_prune.cc:74: tree pruning end, 1 roots, 28 extra nodes, 8 pruned nodes, max_depth=5\u001b[0m\n",
      "\u001b[34m[93]#011train-error:0.105133#011validation-error:0.16\u001b[0m\n",
      "\u001b[34m[12:56:48] src/tree/updater_prune.cc:74: tree pruning end, 1 roots, 14 extra nodes, 4 pruned nodes, max_depth=5\u001b[0m\n",
      "\u001b[34m[94]#011train-error:0.105#011validation-error:0.161\u001b[0m\n",
      "\u001b[34m[12:56:49] src/tree/updater_prune.cc:74: tree pruning end, 1 roots, 24 extra nodes, 6 pruned nodes, max_depth=5\u001b[0m\n",
      "\u001b[34m[95]#011train-error:0.1042#011validation-error:0.1607\u001b[0m\n",
      "\u001b[34m[12:56:50] src/tree/updater_prune.cc:74: tree pruning end, 1 roots, 10 extra nodes, 12 pruned nodes, max_depth=5\u001b[0m\n",
      "\u001b[34m[96]#011train-error:0.103933#011validation-error:0.1605\u001b[0m\n",
      "\u001b[34m[12:56:51] src/tree/updater_prune.cc:74: tree pruning end, 1 roots, 16 extra nodes, 4 pruned nodes, max_depth=5\u001b[0m\n",
      "\u001b[34m[97]#011train-error:0.104#011validation-error:0.1613\u001b[0m\n",
      "\u001b[34m[12:56:53] src/tree/updater_prune.cc:74: tree pruning end, 1 roots, 14 extra nodes, 0 pruned nodes, max_depth=5\u001b[0m\n",
      "\u001b[34m[98]#011train-error:0.104267#011validation-error:0.1599\u001b[0m\n",
      "\u001b[34m[12:56:54] src/tree/updater_prune.cc:74: tree pruning end, 1 roots, 18 extra nodes, 4 pruned nodes, max_depth=5\u001b[0m\n",
      "\u001b[34m[99]#011train-error:0.103933#011validation-error:0.1586\u001b[0m\n",
      "\u001b[34m[12:56:55] src/tree/updater_prune.cc:74: tree pruning end, 1 roots, 14 extra nodes, 14 pruned nodes, max_depth=5\u001b[0m\n",
      "\u001b[34m[100]#011train-error:0.103333#011validation-error:0.1576\u001b[0m\n",
      "\u001b[34m[12:56:56] src/tree/updater_prune.cc:74: tree pruning end, 1 roots, 16 extra nodes, 14 pruned nodes, max_depth=5\u001b[0m\n",
      "\u001b[34m[101]#011train-error:0.103467#011validation-error:0.1575\u001b[0m\n",
      "\u001b[34m[12:56:58] src/tree/updater_prune.cc:74: tree pruning end, 1 roots, 16 extra nodes, 2 pruned nodes, max_depth=5\u001b[0m\n",
      "\u001b[34m[102]#011train-error:0.102933#011validation-error:0.157\u001b[0m\n",
      "\u001b[34m[12:56:59] src/tree/updater_prune.cc:74: tree pruning end, 1 roots, 12 extra nodes, 6 pruned nodes, max_depth=5\u001b[0m\n",
      "\u001b[34m[103]#011train-error:0.101867#011validation-error:0.156\u001b[0m\n",
      "\u001b[34m[12:57:00] src/tree/updater_prune.cc:74: tree pruning end, 1 roots, 22 extra nodes, 6 pruned nodes, max_depth=5\u001b[0m\n",
      "\u001b[34m[104]#011train-error:0.101133#011validation-error:0.1549\u001b[0m\n",
      "\u001b[34m[12:57:02] src/tree/updater_prune.cc:74: tree pruning end, 1 roots, 12 extra nodes, 12 pruned nodes, max_depth=5\u001b[0m\n",
      "\u001b[34m[105]#011train-error:0.100333#011validation-error:0.1558\u001b[0m\n",
      "\u001b[34m[12:57:03] src/tree/updater_prune.cc:74: tree pruning end, 1 roots, 18 extra nodes, 2 pruned nodes, max_depth=5\u001b[0m\n",
      "\u001b[34m[106]#011train-error:0.1008#011validation-error:0.1552\u001b[0m\n",
      "\u001b[34m[12:57:04] src/tree/updater_prune.cc:74: tree pruning end, 1 roots, 14 extra nodes, 6 pruned nodes, max_depth=5\u001b[0m\n",
      "\u001b[34m[107]#011train-error:0.1004#011validation-error:0.1549\u001b[0m\n",
      "\u001b[34m[12:57:05] src/tree/updater_prune.cc:74: tree pruning end, 1 roots, 24 extra nodes, 8 pruned nodes, max_depth=5\u001b[0m\n",
      "\u001b[34m[108]#011train-error:0.099333#011validation-error:0.1553\u001b[0m\n",
      "\u001b[34m[12:57:07] src/tree/updater_prune.cc:74: tree pruning end, 1 roots, 14 extra nodes, 12 pruned nodes, max_depth=5\u001b[0m\n",
      "\u001b[34m[109]#011train-error:0.099067#011validation-error:0.1549\u001b[0m\n",
      "\u001b[34m[12:57:08] src/tree/updater_prune.cc:74: tree pruning end, 1 roots, 28 extra nodes, 14 pruned nodes, max_depth=5\u001b[0m\n",
      "\u001b[34m[110]#011train-error:0.098467#011validation-error:0.1537\u001b[0m\n",
      "\u001b[34m[12:57:09] src/tree/updater_prune.cc:74: tree pruning end, 1 roots, 22 extra nodes, 8 pruned nodes, max_depth=5\u001b[0m\n",
      "\u001b[34m[111]#011train-error:0.097333#011validation-error:0.1551\u001b[0m\n",
      "\u001b[34m[12:57:10] src/tree/updater_prune.cc:74: tree pruning end, 1 roots, 14 extra nodes, 12 pruned nodes, max_depth=5\u001b[0m\n",
      "\u001b[34m[112]#011train-error:0.0976#011validation-error:0.1541\u001b[0m\n",
      "\u001b[34m[12:57:12] src/tree/updater_prune.cc:74: tree pruning end, 1 roots, 14 extra nodes, 6 pruned nodes, max_depth=5\u001b[0m\n",
      "\u001b[34m[113]#011train-error:0.097267#011validation-error:0.1531\u001b[0m\n",
      "\u001b[34m[12:57:13] src/tree/updater_prune.cc:74: tree pruning end, 1 roots, 12 extra nodes, 6 pruned nodes, max_depth=5\u001b[0m\n",
      "\u001b[34m[114]#011train-error:0.096667#011validation-error:0.1522\u001b[0m\n",
      "\u001b[34m[12:57:14] src/tree/updater_prune.cc:74: tree pruning end, 1 roots, 24 extra nodes, 8 pruned nodes, max_depth=5\u001b[0m\n",
      "\u001b[34m[115]#011train-error:0.0956#011validation-error:0.1519\u001b[0m\n",
      "\u001b[34m[12:57:16] src/tree/updater_prune.cc:74: tree pruning end, 1 roots, 16 extra nodes, 4 pruned nodes, max_depth=5\u001b[0m\n",
      "\u001b[34m[116]#011train-error:0.095#011validation-error:0.1521\u001b[0m\n",
      "\u001b[34m[12:57:17] src/tree/updater_prune.cc:74: tree pruning end, 1 roots, 16 extra nodes, 10 pruned nodes, max_depth=5\u001b[0m\n",
      "\u001b[34m[117]#011train-error:0.094667#011validation-error:0.1514\u001b[0m\n",
      "\u001b[34m[12:57:18] src/tree/updater_prune.cc:74: tree pruning end, 1 roots, 12 extra nodes, 14 pruned nodes, max_depth=5\u001b[0m\n",
      "\u001b[34m[118]#011train-error:0.094067#011validation-error:0.1513\u001b[0m\n",
      "\u001b[34m[12:57:19] src/tree/updater_prune.cc:74: tree pruning end, 1 roots, 10 extra nodes, 6 pruned nodes, max_depth=5\u001b[0m\n",
      "\u001b[34m[119]#011train-error:0.094#011validation-error:0.1514\u001b[0m\n",
      "\u001b[34m[12:57:21] src/tree/updater_prune.cc:74: tree pruning end, 1 roots, 12 extra nodes, 2 pruned nodes, max_depth=5\u001b[0m\n",
      "\u001b[34m[120]#011train-error:0.094067#011validation-error:0.1511\u001b[0m\n",
      "\u001b[34m[12:57:22] src/tree/updater_prune.cc:74: tree pruning end, 1 roots, 16 extra nodes, 12 pruned nodes, max_depth=5\u001b[0m\n",
      "\u001b[34m[121]#011train-error:0.094067#011validation-error:0.151\u001b[0m\n",
      "\u001b[34m[12:57:23] src/tree/updater_prune.cc:74: tree pruning end, 1 roots, 14 extra nodes, 4 pruned nodes, max_depth=5\u001b[0m\n",
      "\u001b[34m[122]#011train-error:0.093267#011validation-error:0.1516\u001b[0m\n",
      "\u001b[34m[12:57:25] src/tree/updater_prune.cc:74: tree pruning end, 1 roots, 14 extra nodes, 8 pruned nodes, max_depth=5\u001b[0m\n",
      "\u001b[34m[123]#011train-error:0.093467#011validation-error:0.151\u001b[0m\n",
      "\u001b[34m[12:57:26] src/tree/updater_prune.cc:74: tree pruning end, 1 roots, 24 extra nodes, 12 pruned nodes, max_depth=5\u001b[0m\n",
      "\u001b[34m[124]#011train-error:0.092667#011validation-error:0.1501\u001b[0m\n",
      "\u001b[34m[12:57:27] src/tree/updater_prune.cc:74: tree pruning end, 1 roots, 12 extra nodes, 8 pruned nodes, max_depth=5\u001b[0m\n",
      "\u001b[34m[125]#011train-error:0.092533#011validation-error:0.15\u001b[0m\n",
      "\u001b[34m[12:57:28] src/tree/updater_prune.cc:74: tree pruning end, 1 roots, 22 extra nodes, 10 pruned nodes, max_depth=5\u001b[0m\n",
      "\u001b[34m[126]#011train-error:0.091133#011validation-error:0.1502\u001b[0m\n",
      "\u001b[34m[12:57:30] src/tree/updater_prune.cc:74: tree pruning end, 1 roots, 20 extra nodes, 6 pruned nodes, max_depth=5\u001b[0m\n",
      "\u001b[34m[127]#011train-error:0.091267#011validation-error:0.1496\u001b[0m\n",
      "\u001b[34m[12:57:31] src/tree/updater_prune.cc:74: tree pruning end, 1 roots, 10 extra nodes, 10 pruned nodes, max_depth=5\u001b[0m\n",
      "\u001b[34m[128]#011train-error:0.091#011validation-error:0.1491\u001b[0m\n",
      "\u001b[34m[12:57:32] src/tree/updater_prune.cc:74: tree pruning end, 1 roots, 22 extra nodes, 6 pruned nodes, max_depth=5\u001b[0m\n",
      "\u001b[34m[129]#011train-error:0.089867#011validation-error:0.149\u001b[0m\n",
      "\u001b[34m[12:57:33] src/tree/updater_prune.cc:74: tree pruning end, 1 roots, 30 extra nodes, 16 pruned nodes, max_depth=5\u001b[0m\n",
      "\u001b[34m[130]#011train-error:0.089533#011validation-error:0.1495\u001b[0m\n",
      "\u001b[34m[12:57:35] src/tree/updater_prune.cc:74: tree pruning end, 1 roots, 18 extra nodes, 18 pruned nodes, max_depth=5\u001b[0m\n",
      "\u001b[34m[131]#011train-error:0.0898#011validation-error:0.1494\u001b[0m\n",
      "\u001b[34m[12:57:36] src/tree/updater_prune.cc:74: tree pruning end, 1 roots, 18 extra nodes, 14 pruned nodes, max_depth=5\u001b[0m\n",
      "\u001b[34m[132]#011train-error:0.088533#011validation-error:0.1489\u001b[0m\n",
      "\u001b[34m[12:57:37] src/tree/updater_prune.cc:74: tree pruning end, 1 roots, 14 extra nodes, 18 pruned nodes, max_depth=5\u001b[0m\n",
      "\u001b[34m[133]#011train-error:0.0884#011validation-error:0.148\u001b[0m\n",
      "\u001b[34m[12:57:39] src/tree/updater_prune.cc:74: tree pruning end, 1 roots, 10 extra nodes, 14 pruned nodes, max_depth=5\u001b[0m\n",
      "\u001b[34m[134]#011train-error:0.088#011validation-error:0.1482\u001b[0m\n",
      "\u001b[34m[12:57:40] src/tree/updater_prune.cc:74: tree pruning end, 1 roots, 18 extra nodes, 0 pruned nodes, max_depth=5\u001b[0m\n",
      "\u001b[34m[135]#011train-error:0.088133#011validation-error:0.1484\u001b[0m\n"
     ]
    },
    {
     "name": "stdout",
     "output_type": "stream",
     "text": [
      "\u001b[34m[12:57:41] src/tree/updater_prune.cc:74: tree pruning end, 1 roots, 18 extra nodes, 0 pruned nodes, max_depth=5\u001b[0m\n",
      "\u001b[34m[136]#011train-error:0.0876#011validation-error:0.1476\u001b[0m\n",
      "\u001b[34m[12:57:42] src/tree/updater_prune.cc:74: tree pruning end, 1 roots, 28 extra nodes, 10 pruned nodes, max_depth=5\u001b[0m\n",
      "\u001b[34m[137]#011train-error:0.086733#011validation-error:0.148\u001b[0m\n",
      "\u001b[34m[12:57:44] src/tree/updater_prune.cc:74: tree pruning end, 1 roots, 20 extra nodes, 6 pruned nodes, max_depth=5\u001b[0m\n",
      "\u001b[34m[138]#011train-error:0.0868#011validation-error:0.1479\u001b[0m\n",
      "\u001b[34m[12:57:45] src/tree/updater_prune.cc:74: tree pruning end, 1 roots, 16 extra nodes, 4 pruned nodes, max_depth=5\u001b[0m\n",
      "\u001b[34m[139]#011train-error:0.086267#011validation-error:0.1474\u001b[0m\n",
      "\u001b[34m[12:57:46] src/tree/updater_prune.cc:74: tree pruning end, 1 roots, 22 extra nodes, 2 pruned nodes, max_depth=5\u001b[0m\n",
      "\u001b[34m[140]#011train-error:0.0862#011validation-error:0.1468\u001b[0m\n",
      "\u001b[34m[12:57:47] src/tree/updater_prune.cc:74: tree pruning end, 1 roots, 12 extra nodes, 4 pruned nodes, max_depth=5\u001b[0m\n",
      "\u001b[34m[141]#011train-error:0.085133#011validation-error:0.1476\u001b[0m\n",
      "\u001b[34m[12:57:49] src/tree/updater_prune.cc:74: tree pruning end, 1 roots, 16 extra nodes, 8 pruned nodes, max_depth=5\u001b[0m\n",
      "\u001b[34m[142]#011train-error:0.085333#011validation-error:0.1479\u001b[0m\n",
      "\u001b[34m[12:57:50] src/tree/updater_prune.cc:74: tree pruning end, 1 roots, 12 extra nodes, 14 pruned nodes, max_depth=5\u001b[0m\n",
      "\u001b[34m[143]#011train-error:0.0854#011validation-error:0.1475\u001b[0m\n",
      "\u001b[34m[12:57:51] src/tree/updater_prune.cc:74: tree pruning end, 1 roots, 14 extra nodes, 4 pruned nodes, max_depth=5\u001b[0m\n",
      "\u001b[34m[144]#011train-error:0.085267#011validation-error:0.1468\u001b[0m\n",
      "\u001b[34m[12:57:52] src/tree/updater_prune.cc:74: tree pruning end, 1 roots, 14 extra nodes, 6 pruned nodes, max_depth=5\u001b[0m\n",
      "\u001b[34m[145]#011train-error:0.085467#011validation-error:0.1468\u001b[0m\n",
      "\u001b[34m[12:57:54] src/tree/updater_prune.cc:74: tree pruning end, 1 roots, 10 extra nodes, 8 pruned nodes, max_depth=5\u001b[0m\n",
      "\u001b[34m[146]#011train-error:0.085667#011validation-error:0.1466\u001b[0m\n",
      "\u001b[34m[12:57:55] src/tree/updater_prune.cc:74: tree pruning end, 1 roots, 12 extra nodes, 4 pruned nodes, max_depth=5\u001b[0m\n",
      "\u001b[34m[147]#011train-error:0.0856#011validation-error:0.1472\u001b[0m\n",
      "\u001b[34m[12:57:56] src/tree/updater_prune.cc:74: tree pruning end, 1 roots, 12 extra nodes, 6 pruned nodes, max_depth=5\u001b[0m\n",
      "\u001b[34m[148]#011train-error:0.0852#011validation-error:0.1471\u001b[0m\n",
      "\u001b[34m[12:57:57] src/tree/updater_prune.cc:74: tree pruning end, 1 roots, 12 extra nodes, 14 pruned nodes, max_depth=5\u001b[0m\n",
      "\u001b[34m[149]#011train-error:0.085133#011validation-error:0.1474\u001b[0m\n",
      "\u001b[34m[12:57:59] src/tree/updater_prune.cc:74: tree pruning end, 1 roots, 14 extra nodes, 4 pruned nodes, max_depth=5\u001b[0m\n",
      "\u001b[34m[150]#011train-error:0.084467#011validation-error:0.1471\u001b[0m\n",
      "\u001b[34m[12:58:00] src/tree/updater_prune.cc:74: tree pruning end, 1 roots, 20 extra nodes, 10 pruned nodes, max_depth=5\u001b[0m\n",
      "\u001b[34m[151]#011train-error:0.084733#011validation-error:0.1473\u001b[0m\n",
      "\u001b[34m[12:58:01] src/tree/updater_prune.cc:74: tree pruning end, 1 roots, 10 extra nodes, 4 pruned nodes, max_depth=5\u001b[0m\n",
      "\u001b[34m[152]#011train-error:0.0842#011validation-error:0.1468\u001b[0m\n",
      "\u001b[34m[12:58:03] src/tree/updater_prune.cc:74: tree pruning end, 1 roots, 20 extra nodes, 6 pruned nodes, max_depth=5\u001b[0m\n",
      "\u001b[34m[153]#011train-error:0.083667#011validation-error:0.1469\u001b[0m\n",
      "\u001b[34m[12:58:04] src/tree/updater_prune.cc:74: tree pruning end, 1 roots, 10 extra nodes, 4 pruned nodes, max_depth=5\u001b[0m\n",
      "\u001b[34m[154]#011train-error:0.083267#011validation-error:0.1472\u001b[0m\n",
      "\u001b[34m[12:58:05] src/tree/updater_prune.cc:74: tree pruning end, 1 roots, 10 extra nodes, 8 pruned nodes, max_depth=5\u001b[0m\n",
      "\u001b[34m[155]#011train-error:0.0834#011validation-error:0.1472\u001b[0m\n",
      "\u001b[34m[12:58:06] src/tree/updater_prune.cc:74: tree pruning end, 1 roots, 12 extra nodes, 2 pruned nodes, max_depth=5\u001b[0m\n",
      "\u001b[34m[156]#011train-error:0.082867#011validation-error:0.1452\u001b[0m\n",
      "\u001b[34m[12:58:08] src/tree/updater_prune.cc:74: tree pruning end, 1 roots, 12 extra nodes, 10 pruned nodes, max_depth=5\u001b[0m\n",
      "\u001b[34m[157]#011train-error:0.082667#011validation-error:0.145\u001b[0m\n",
      "\u001b[34m[12:58:09] src/tree/updater_prune.cc:74: tree pruning end, 1 roots, 26 extra nodes, 8 pruned nodes, max_depth=5\u001b[0m\n",
      "\u001b[34m[158]#011train-error:0.083133#011validation-error:0.1451\u001b[0m\n",
      "\u001b[34m[12:58:10] src/tree/updater_prune.cc:74: tree pruning end, 1 roots, 20 extra nodes, 6 pruned nodes, max_depth=5\u001b[0m\n",
      "\u001b[34m[159]#011train-error:0.0824#011validation-error:0.1445\u001b[0m\n",
      "\u001b[34m[12:58:11] src/tree/updater_prune.cc:74: tree pruning end, 1 roots, 12 extra nodes, 4 pruned nodes, max_depth=5\u001b[0m\n",
      "\u001b[34m[160]#011train-error:0.0816#011validation-error:0.1448\u001b[0m\n",
      "\u001b[34m[12:58:13] src/tree/updater_prune.cc:74: tree pruning end, 1 roots, 28 extra nodes, 10 pruned nodes, max_depth=5\u001b[0m\n",
      "\u001b[34m[161]#011train-error:0.0816#011validation-error:0.1461\u001b[0m\n",
      "\u001b[34m[12:58:14] src/tree/updater_prune.cc:74: tree pruning end, 1 roots, 10 extra nodes, 2 pruned nodes, max_depth=5\u001b[0m\n",
      "\u001b[34m[162]#011train-error:0.0814#011validation-error:0.1454\u001b[0m\n",
      "\u001b[34m[12:58:15] src/tree/updater_prune.cc:74: tree pruning end, 1 roots, 16 extra nodes, 2 pruned nodes, max_depth=5\u001b[0m\n",
      "\u001b[34m[163]#011train-error:0.080533#011validation-error:0.1448\u001b[0m\n",
      "\u001b[34m[12:58:16] src/tree/updater_prune.cc:74: tree pruning end, 1 roots, 10 extra nodes, 10 pruned nodes, max_depth=5\u001b[0m\n",
      "\u001b[34m[164]#011train-error:0.080467#011validation-error:0.1447\u001b[0m\n",
      "\u001b[34m[12:58:18] src/tree/updater_prune.cc:74: tree pruning end, 1 roots, 10 extra nodes, 6 pruned nodes, max_depth=5\u001b[0m\n",
      "\u001b[34m[165]#011train-error:0.080267#011validation-error:0.1447\u001b[0m\n",
      "\u001b[34m[12:58:19] src/tree/updater_prune.cc:74: tree pruning end, 1 roots, 14 extra nodes, 14 pruned nodes, max_depth=5\u001b[0m\n",
      "\u001b[34m[166]#011train-error:0.079867#011validation-error:0.1442\u001b[0m\n",
      "\u001b[34m[12:58:20] src/tree/updater_prune.cc:74: tree pruning end, 1 roots, 10 extra nodes, 6 pruned nodes, max_depth=5\u001b[0m\n",
      "\u001b[34m[167]#011train-error:0.080067#011validation-error:0.1443\u001b[0m\n",
      "\u001b[34m[12:58:22] src/tree/updater_prune.cc:74: tree pruning end, 1 roots, 12 extra nodes, 4 pruned nodes, max_depth=5\u001b[0m\n",
      "\u001b[34m[168]#011train-error:0.080133#011validation-error:0.1437\u001b[0m\n",
      "\u001b[34m[12:58:23] src/tree/updater_prune.cc:74: tree pruning end, 1 roots, 14 extra nodes, 4 pruned nodes, max_depth=5\u001b[0m\n",
      "\u001b[34m[169]#011train-error:0.08#011validation-error:0.1441\u001b[0m\n",
      "\u001b[34m[12:58:24] src/tree/updater_prune.cc:74: tree pruning end, 1 roots, 28 extra nodes, 12 pruned nodes, max_depth=5\u001b[0m\n",
      "\u001b[34m[170]#011train-error:0.079333#011validation-error:0.1438\u001b[0m\n",
      "\u001b[34m[12:58:25] src/tree/updater_prune.cc:74: tree pruning end, 1 roots, 12 extra nodes, 12 pruned nodes, max_depth=5\u001b[0m\n",
      "\u001b[34m[171]#011train-error:0.079333#011validation-error:0.143\u001b[0m\n",
      "\u001b[34m[12:58:27] src/tree/updater_prune.cc:74: tree pruning end, 1 roots, 12 extra nodes, 12 pruned nodes, max_depth=5\u001b[0m\n",
      "\u001b[34m[172]#011train-error:0.0792#011validation-error:0.1431\u001b[0m\n",
      "\u001b[34m[12:58:28] src/tree/updater_prune.cc:74: tree pruning end, 1 roots, 12 extra nodes, 2 pruned nodes, max_depth=5\u001b[0m\n",
      "\u001b[34m[173]#011train-error:0.0792#011validation-error:0.1435\u001b[0m\n",
      "\u001b[34m[12:58:29] src/tree/updater_prune.cc:74: tree pruning end, 1 roots, 22 extra nodes, 6 pruned nodes, max_depth=5\u001b[0m\n",
      "\u001b[34m[174]#011train-error:0.078467#011validation-error:0.1434\u001b[0m\n",
      "\u001b[34m[12:58:30] src/tree/updater_prune.cc:74: tree pruning end, 1 roots, 10 extra nodes, 14 pruned nodes, max_depth=5\u001b[0m\n",
      "\u001b[34m[175]#011train-error:0.0782#011validation-error:0.1429\u001b[0m\n",
      "\u001b[34m[12:58:32] src/tree/updater_prune.cc:74: tree pruning end, 1 roots, 18 extra nodes, 14 pruned nodes, max_depth=5\u001b[0m\n",
      "\u001b[34m[176]#011train-error:0.078#011validation-error:0.1421\u001b[0m\n",
      "\u001b[34m[12:58:33] src/tree/updater_prune.cc:74: tree pruning end, 1 roots, 16 extra nodes, 14 pruned nodes, max_depth=5\u001b[0m\n",
      "\u001b[34m[177]#011train-error:0.077867#011validation-error:0.1417\u001b[0m\n",
      "\u001b[34m[12:58:34] src/tree/updater_prune.cc:74: tree pruning end, 1 roots, 12 extra nodes, 10 pruned nodes, max_depth=5\u001b[0m\n",
      "\u001b[34m[178]#011train-error:0.0772#011validation-error:0.1422\u001b[0m\n",
      "\u001b[34m[12:58:35] src/tree/updater_prune.cc:74: tree pruning end, 1 roots, 12 extra nodes, 4 pruned nodes, max_depth=5\u001b[0m\n",
      "\u001b[34m[179]#011train-error:0.0772#011validation-error:0.1421\u001b[0m\n",
      "\u001b[34m[12:58:37] src/tree/updater_prune.cc:74: tree pruning end, 1 roots, 12 extra nodes, 16 pruned nodes, max_depth=5\u001b[0m\n",
      "\u001b[34m[180]#011train-error:0.076733#011validation-error:0.1427\u001b[0m\n",
      "\u001b[34m[12:58:38] src/tree/updater_prune.cc:74: tree pruning end, 1 roots, 14 extra nodes, 6 pruned nodes, max_depth=5\u001b[0m\n",
      "\u001b[34m[181]#011train-error:0.076933#011validation-error:0.1426\u001b[0m\n",
      "\u001b[34m[12:58:39] src/tree/updater_prune.cc:74: tree pruning end, 1 roots, 16 extra nodes, 10 pruned nodes, max_depth=5\u001b[0m\n",
      "\u001b[34m[182]#011train-error:0.0762#011validation-error:0.1429\u001b[0m\n",
      "\u001b[34m[12:58:40] src/tree/updater_prune.cc:74: tree pruning end, 1 roots, 12 extra nodes, 2 pruned nodes, max_depth=5\u001b[0m\n",
      "\u001b[34m[183]#011train-error:0.076467#011validation-error:0.1426\u001b[0m\n"
     ]
    },
    {
     "name": "stdout",
     "output_type": "stream",
     "text": [
      "\u001b[34m[12:58:42] src/tree/updater_prune.cc:74: tree pruning end, 1 roots, 12 extra nodes, 8 pruned nodes, max_depth=5\u001b[0m\n",
      "\u001b[34m[184]#011train-error:0.076533#011validation-error:0.1419\u001b[0m\n",
      "\u001b[34m[12:58:43] src/tree/updater_prune.cc:74: tree pruning end, 1 roots, 16 extra nodes, 4 pruned nodes, max_depth=5\u001b[0m\n",
      "\u001b[34m[185]#011train-error:0.0764#011validation-error:0.1417\u001b[0m\n",
      "\u001b[34m[12:58:44] src/tree/updater_prune.cc:74: tree pruning end, 1 roots, 16 extra nodes, 14 pruned nodes, max_depth=5\u001b[0m\n",
      "\u001b[34m[186]#011train-error:0.076067#011validation-error:0.1409\u001b[0m\n",
      "\u001b[34m[12:58:45] src/tree/updater_prune.cc:74: tree pruning end, 1 roots, 24 extra nodes, 6 pruned nodes, max_depth=5\u001b[0m\n",
      "\u001b[34m[187]#011train-error:0.075533#011validation-error:0.1414\u001b[0m\n",
      "\u001b[34m[12:58:47] src/tree/updater_prune.cc:74: tree pruning end, 1 roots, 18 extra nodes, 8 pruned nodes, max_depth=5\u001b[0m\n",
      "\u001b[34m[188]#011train-error:0.075533#011validation-error:0.1415\u001b[0m\n",
      "\u001b[34m[12:58:48] src/tree/updater_prune.cc:74: tree pruning end, 1 roots, 16 extra nodes, 14 pruned nodes, max_depth=5\u001b[0m\n",
      "\u001b[34m[189]#011train-error:0.075067#011validation-error:0.1405\u001b[0m\n",
      "\u001b[34m[12:58:49] src/tree/updater_prune.cc:74: tree pruning end, 1 roots, 10 extra nodes, 0 pruned nodes, max_depth=5\u001b[0m\n",
      "\u001b[34m[190]#011train-error:0.074867#011validation-error:0.1401\u001b[0m\n",
      "\u001b[34m[12:58:50] src/tree/updater_prune.cc:74: tree pruning end, 1 roots, 12 extra nodes, 12 pruned nodes, max_depth=5\u001b[0m\n",
      "\u001b[34m[191]#011train-error:0.074733#011validation-error:0.1397\u001b[0m\n",
      "\u001b[34m[12:58:52] src/tree/updater_prune.cc:74: tree pruning end, 1 roots, 20 extra nodes, 4 pruned nodes, max_depth=5\u001b[0m\n",
      "\u001b[34m[192]#011train-error:0.0746#011validation-error:0.1394\u001b[0m\n",
      "\u001b[34m[12:58:53] src/tree/updater_prune.cc:74: tree pruning end, 1 roots, 12 extra nodes, 8 pruned nodes, max_depth=5\u001b[0m\n",
      "\u001b[34m[193]#011train-error:0.074867#011validation-error:0.1393\u001b[0m\n",
      "\u001b[34m[12:58:54] src/tree/updater_prune.cc:74: tree pruning end, 1 roots, 24 extra nodes, 8 pruned nodes, max_depth=5\u001b[0m\n",
      "\u001b[34m[194]#011train-error:0.0742#011validation-error:0.1385\u001b[0m\n",
      "\u001b[34m[12:58:55] src/tree/updater_prune.cc:74: tree pruning end, 1 roots, 10 extra nodes, 6 pruned nodes, max_depth=5\u001b[0m\n",
      "\u001b[34m[195]#011train-error:0.0738#011validation-error:0.1387\u001b[0m\n",
      "\u001b[34m[12:58:57] src/tree/updater_prune.cc:74: tree pruning end, 1 roots, 20 extra nodes, 10 pruned nodes, max_depth=5\u001b[0m\n",
      "\u001b[34m[196]#011train-error:0.0736#011validation-error:0.139\u001b[0m\n",
      "\u001b[34m[12:58:58] src/tree/updater_prune.cc:74: tree pruning end, 1 roots, 12 extra nodes, 8 pruned nodes, max_depth=5\u001b[0m\n",
      "\u001b[34m[197]#011train-error:0.073333#011validation-error:0.1385\u001b[0m\n",
      "\u001b[34m[12:58:59] src/tree/updater_prune.cc:74: tree pruning end, 1 roots, 12 extra nodes, 6 pruned nodes, max_depth=5\u001b[0m\n",
      "\u001b[34m[198]#011train-error:0.072867#011validation-error:0.138\u001b[0m\n",
      "\u001b[34m[12:59:00] src/tree/updater_prune.cc:74: tree pruning end, 1 roots, 14 extra nodes, 18 pruned nodes, max_depth=5\u001b[0m\n",
      "\u001b[34m[199]#011train-error:0.072267#011validation-error:0.1386\u001b[0m\n",
      "\u001b[34m[12:59:02] src/tree/updater_prune.cc:74: tree pruning end, 1 roots, 10 extra nodes, 4 pruned nodes, max_depth=5\u001b[0m\n",
      "\u001b[34m[200]#011train-error:0.0722#011validation-error:0.1397\u001b[0m\n",
      "\u001b[34m[12:59:03] src/tree/updater_prune.cc:74: tree pruning end, 1 roots, 12 extra nodes, 8 pruned nodes, max_depth=5\u001b[0m\n",
      "\u001b[34m[201]#011train-error:0.072133#011validation-error:0.1395\u001b[0m\n",
      "\u001b[34m[12:59:04] src/tree/updater_prune.cc:74: tree pruning end, 1 roots, 12 extra nodes, 12 pruned nodes, max_depth=5\u001b[0m\n",
      "\u001b[34m[202]#011train-error:0.072667#011validation-error:0.1389\u001b[0m\n",
      "\u001b[34m[12:59:05] src/tree/updater_prune.cc:74: tree pruning end, 1 roots, 10 extra nodes, 6 pruned nodes, max_depth=5\u001b[0m\n",
      "\u001b[34m[203]#011train-error:0.072067#011validation-error:0.1378\u001b[0m\n",
      "\u001b[34m[12:59:07] src/tree/updater_prune.cc:74: tree pruning end, 1 roots, 28 extra nodes, 14 pruned nodes, max_depth=5\u001b[0m\n",
      "\u001b[34m[204]#011train-error:0.070733#011validation-error:0.139\u001b[0m\n",
      "\u001b[34m[12:59:08] src/tree/updater_prune.cc:74: tree pruning end, 1 roots, 12 extra nodes, 4 pruned nodes, max_depth=5\u001b[0m\n",
      "\u001b[34m[205]#011train-error:0.070733#011validation-error:0.139\u001b[0m\n",
      "\u001b[34m[12:59:09] src/tree/updater_prune.cc:74: tree pruning end, 1 roots, 20 extra nodes, 10 pruned nodes, max_depth=5\u001b[0m\n",
      "\u001b[34m[206]#011train-error:0.070533#011validation-error:0.1386\u001b[0m\n",
      "\u001b[34m[12:59:10] src/tree/updater_prune.cc:74: tree pruning end, 1 roots, 10 extra nodes, 12 pruned nodes, max_depth=5\u001b[0m\n",
      "\u001b[34m[207]#011train-error:0.0706#011validation-error:0.1393\u001b[0m\n",
      "\u001b[34m[12:59:12] src/tree/updater_prune.cc:74: tree pruning end, 1 roots, 34 extra nodes, 12 pruned nodes, max_depth=5\u001b[0m\n",
      "\u001b[34m[208]#011train-error:0.0696#011validation-error:0.1386\u001b[0m\n",
      "\u001b[34m[12:59:13] src/tree/updater_prune.cc:74: tree pruning end, 1 roots, 24 extra nodes, 14 pruned nodes, max_depth=5\u001b[0m\n",
      "\u001b[34m[209]#011train-error:0.069067#011validation-error:0.1384\u001b[0m\n",
      "\u001b[34m[12:59:14] src/tree/updater_prune.cc:74: tree pruning end, 1 roots, 20 extra nodes, 8 pruned nodes, max_depth=5\u001b[0m\n",
      "\u001b[34m[210]#011train-error:0.069533#011validation-error:0.1379\u001b[0m\n",
      "\u001b[34m[12:59:15] src/tree/updater_prune.cc:74: tree pruning end, 1 roots, 10 extra nodes, 4 pruned nodes, max_depth=5\u001b[0m\n",
      "\u001b[34m[211]#011train-error:0.069333#011validation-error:0.1372\u001b[0m\n",
      "\u001b[34m[12:59:17] src/tree/updater_prune.cc:74: tree pruning end, 1 roots, 12 extra nodes, 4 pruned nodes, max_depth=5\u001b[0m\n",
      "\u001b[34m[212]#011train-error:0.069267#011validation-error:0.1371\u001b[0m\n",
      "\u001b[34m[12:59:18] src/tree/updater_prune.cc:74: tree pruning end, 1 roots, 10 extra nodes, 16 pruned nodes, max_depth=5\u001b[0m\n",
      "\u001b[34m[213]#011train-error:0.0692#011validation-error:0.1374\u001b[0m\n",
      "\u001b[34m[12:59:19] src/tree/updater_prune.cc:74: tree pruning end, 1 roots, 32 extra nodes, 12 pruned nodes, max_depth=5\u001b[0m\n",
      "\u001b[34m[214]#011train-error:0.068133#011validation-error:0.1369\u001b[0m\n",
      "\u001b[34m[12:59:21] src/tree/updater_prune.cc:74: tree pruning end, 1 roots, 14 extra nodes, 2 pruned nodes, max_depth=5\u001b[0m\n",
      "\u001b[34m[215]#011train-error:0.068333#011validation-error:0.1366\u001b[0m\n",
      "\u001b[34m[12:59:22] src/tree/updater_prune.cc:74: tree pruning end, 1 roots, 10 extra nodes, 12 pruned nodes, max_depth=5\u001b[0m\n",
      "\u001b[34m[216]#011train-error:0.0684#011validation-error:0.137\u001b[0m\n",
      "\u001b[34m[12:59:23] src/tree/updater_prune.cc:74: tree pruning end, 1 roots, 12 extra nodes, 12 pruned nodes, max_depth=5\u001b[0m\n",
      "\u001b[34m[217]#011train-error:0.067867#011validation-error:0.1364\u001b[0m\n",
      "\u001b[34m[12:59:24] src/tree/updater_prune.cc:74: tree pruning end, 1 roots, 12 extra nodes, 6 pruned nodes, max_depth=5\u001b[0m\n",
      "\u001b[34m[218]#011train-error:0.067467#011validation-error:0.1367\u001b[0m\n",
      "\u001b[34m[12:59:26] src/tree/updater_prune.cc:74: tree pruning end, 1 roots, 12 extra nodes, 10 pruned nodes, max_depth=5\u001b[0m\n",
      "\u001b[34m[219]#011train-error:0.067333#011validation-error:0.137\u001b[0m\n",
      "\u001b[34m[12:59:27] src/tree/updater_prune.cc:74: tree pruning end, 1 roots, 10 extra nodes, 18 pruned nodes, max_depth=5\u001b[0m\n",
      "\u001b[34m[220]#011train-error:0.067067#011validation-error:0.1367\u001b[0m\n",
      "\u001b[34m[12:59:28] src/tree/updater_prune.cc:74: tree pruning end, 1 roots, 16 extra nodes, 2 pruned nodes, max_depth=5\u001b[0m\n",
      "\u001b[34m[221]#011train-error:0.066933#011validation-error:0.1374\u001b[0m\n",
      "\u001b[34m[12:59:29] src/tree/updater_prune.cc:74: tree pruning end, 1 roots, 14 extra nodes, 8 pruned nodes, max_depth=5\u001b[0m\n",
      "\u001b[34m[222]#011train-error:0.066867#011validation-error:0.1372\u001b[0m\n",
      "\u001b[34m[12:59:31] src/tree/updater_prune.cc:74: tree pruning end, 1 roots, 10 extra nodes, 10 pruned nodes, max_depth=5\u001b[0m\n",
      "\u001b[34m[223]#011train-error:0.0664#011validation-error:0.1369\u001b[0m\n",
      "\u001b[34m[12:59:32] src/tree/updater_prune.cc:74: tree pruning end, 1 roots, 10 extra nodes, 6 pruned nodes, max_depth=5\u001b[0m\n",
      "\u001b[34m[224]#011train-error:0.066267#011validation-error:0.1371\u001b[0m\n",
      "\u001b[34m[12:59:33] src/tree/updater_prune.cc:74: tree pruning end, 1 roots, 12 extra nodes, 6 pruned nodes, max_depth=5\u001b[0m\n",
      "\u001b[34m[225]#011train-error:0.066267#011validation-error:0.1368\u001b[0m\n",
      "\u001b[34m[12:59:34] src/tree/updater_prune.cc:74: tree pruning end, 1 roots, 10 extra nodes, 2 pruned nodes, max_depth=5\u001b[0m\n",
      "\u001b[34m[226]#011train-error:0.066267#011validation-error:0.1373\u001b[0m\n",
      "\u001b[34m[12:59:36] src/tree/updater_prune.cc:74: tree pruning end, 1 roots, 10 extra nodes, 4 pruned nodes, max_depth=5\u001b[0m\n",
      "\u001b[34m[227]#011train-error:0.066067#011validation-error:0.1374\u001b[0m\n",
      "\u001b[34mStopping. Best iteration:\u001b[0m\n",
      "\u001b[34m[217]#011train-error:0.067867#011validation-error:0.1364\n",
      "\u001b[0m\n"
     ]
    },
    {
     "name": "stdout",
     "output_type": "stream",
     "text": [
      "\n",
      "2020-02-22 12:59:52 Uploading - Uploading generated training model\n",
      "2020-02-22 12:59:52 Completed - Training job completed\n",
      "Training seconds: 364\n",
      "Billable seconds: 364\n"
     ]
    }
   ],
   "source": [
    "xgb.fit({'train': s3_input_train, 'validation': s3_input_validation})"
   ]
  },
  {
   "cell_type": "markdown",
   "metadata": {},
   "source": [
    "## Step 5: Testing the model\n",
    "\n",
    "Now that we've fit our XGBoost model, it's time to see how well it performs. To do this we will use SageMakers Batch Transform functionality. Batch Transform is a convenient way to perform inference on a large dataset in a way that is not realtime. That is, we don't necessarily need to use our model's results immediately and instead we can perform inference on a large number of samples. An example of this in industry might be performing an end of month report. This method of inference can also be useful to us as it means that we can perform inference on our entire test set. \n",
    "\n",
    "To perform a Batch Transformation we need to first create a transformer objects from our trained estimator object."
   ]
  },
  {
   "cell_type": "code",
   "execution_count": 25,
   "metadata": {},
   "outputs": [],
   "source": [
    "xgb_transformer = xgb.transformer(instance_count = 1, instance_type = 'ml.m4.xlarge')"
   ]
  },
  {
   "cell_type": "markdown",
   "metadata": {},
   "source": [
    "Next we actually perform the transform job. When doing so we need to make sure to specify the type of data we are sending so that it is serialized correctly in the background. In our case we are providing our model with csv data so we specify `text/csv`. Also, if the test data that we have provided is too large to process all at once then we need to specify how the data file should be split up. Since each line is a single entry in our data set we tell SageMaker that it can split the input on each line."
   ]
  },
  {
   "cell_type": "code",
   "execution_count": 25,
   "metadata": {},
   "outputs": [],
   "source": [
    "xgb_transformer.transform(test_location, content_type='text/csv', split_type='Line')"
   ]
  },
  {
   "cell_type": "markdown",
   "metadata": {},
   "source": [
    "Currently the transform job is running but it is doing so in the background. Since we wish to wait until the transform job is done and we would like a bit of feedback we can run the `wait()` method."
   ]
  },
  {
   "cell_type": "code",
   "execution_count": 26,
   "metadata": {},
   "outputs": [
    {
     "name": "stdout",
     "output_type": "stream",
     "text": [
      "......................\u001b[34mArguments: serve\u001b[0m\n",
      "\u001b[34m[2020-02-22 00:21:14 +0000] [1] [INFO] Starting gunicorn 19.7.1\u001b[0m\n",
      "\u001b[34m[2020-02-22 00:21:14 +0000] [1] [INFO] Listening at: http://0.0.0.0:8080 (1)\u001b[0m\n",
      "\u001b[34m[2020-02-22 00:21:14 +0000] [1] [INFO] Using worker: gevent\u001b[0m\n",
      "\u001b[34m[2020-02-22 00:21:14 +0000] [38] [INFO] Booting worker with pid: 38\u001b[0m\n",
      "\u001b[34m[2020-02-22 00:21:14 +0000] [39] [INFO] Booting worker with pid: 39\u001b[0m\n",
      "\u001b[34m[2020-02-22 00:21:14 +0000] [40] [INFO] Booting worker with pid: 40\u001b[0m\n",
      "\u001b[34m[2020-02-22 00:21:14 +0000] [41] [INFO] Booting worker with pid: 41\u001b[0m\n",
      "\u001b[34m[2020-02-22:00:21:14:INFO] Model loaded successfully for worker : 38\u001b[0m\n",
      "\u001b[34m[2020-02-22:00:21:14:INFO] Model loaded successfully for worker : 40\u001b[0m\n",
      "\u001b[34m[2020-02-22:00:21:14:INFO] Model loaded successfully for worker : 39\u001b[0m\n",
      "\u001b[34m[2020-02-22:00:21:14:INFO] Model loaded successfully for worker : 41\u001b[0m\n",
      "\u001b[32m2020-02-22T00:21:53.972:[sagemaker logs]: MaxConcurrentTransforms=4, MaxPayloadInMB=6, BatchStrategy=MULTI_RECORD\u001b[0m\n",
      "\u001b[34m[2020-02-22:00:21:56:INFO] Sniff delimiter as ','\u001b[0m\n",
      "\u001b[35m[2020-02-22:00:21:56:INFO] Sniff delimiter as ','\u001b[0m\n",
      "\u001b[34m[2020-02-22:00:21:56:INFO] Determined delimiter of CSV input is ','\u001b[0m\n",
      "\u001b[35m[2020-02-22:00:21:56:INFO] Determined delimiter of CSV input is ','\u001b[0m\n",
      "\u001b[34m[2020-02-22:00:21:56:INFO] Sniff delimiter as ','\u001b[0m\n",
      "\u001b[34m[2020-02-22:00:21:56:INFO] Determined delimiter of CSV input is ','\u001b[0m\n",
      "\u001b[34m[2020-02-22:00:21:56:INFO] Sniff delimiter as ','\u001b[0m\n",
      "\u001b[34m[2020-02-22:00:21:56:INFO] Determined delimiter of CSV input is ','\u001b[0m\n",
      "\u001b[34m[2020-02-22:00:21:57:INFO] Sniff delimiter as ','\u001b[0m\n",
      "\u001b[34m[2020-02-22:00:21:57:INFO] Determined delimiter of CSV input is ','\u001b[0m\n",
      "\u001b[35m[2020-02-22:00:21:56:INFO] Sniff delimiter as ','\u001b[0m\n",
      "\u001b[35m[2020-02-22:00:21:56:INFO] Determined delimiter of CSV input is ','\u001b[0m\n",
      "\u001b[35m[2020-02-22:00:21:56:INFO] Sniff delimiter as ','\u001b[0m\n",
      "\u001b[35m[2020-02-22:00:21:56:INFO] Determined delimiter of CSV input is ','\u001b[0m\n",
      "\u001b[35m[2020-02-22:00:21:57:INFO] Sniff delimiter as ','\u001b[0m\n",
      "\u001b[35m[2020-02-22:00:21:57:INFO] Determined delimiter of CSV input is ','\u001b[0m\n",
      "\u001b[34m[2020-02-22:00:21:59:INFO] Sniff delimiter as ','\u001b[0m\n",
      "\u001b[34m[2020-02-22:00:21:59:INFO] Determined delimiter of CSV input is ','\u001b[0m\n",
      "\u001b[34m[2020-02-22:00:21:59:INFO] Sniff delimiter as ','\u001b[0m\n",
      "\u001b[34m[2020-02-22:00:21:59:INFO] Determined delimiter of CSV input is ','\u001b[0m\n",
      "\u001b[34m[2020-02-22:00:21:59:INFO] Sniff delimiter as ','\u001b[0m\n",
      "\u001b[34m[2020-02-22:00:21:59:INFO] Determined delimiter of CSV input is ','\u001b[0m\n",
      "\u001b[34m[2020-02-22:00:21:59:INFO] Sniff delimiter as ','\u001b[0m\n",
      "\u001b[34m[2020-02-22:00:21:59:INFO] Determined delimiter of CSV input is ','\u001b[0m\n",
      "\u001b[35m[2020-02-22:00:21:59:INFO] Sniff delimiter as ','\u001b[0m\n",
      "\u001b[35m[2020-02-22:00:21:59:INFO] Determined delimiter of CSV input is ','\u001b[0m\n",
      "\u001b[35m[2020-02-22:00:21:59:INFO] Sniff delimiter as ','\u001b[0m\n",
      "\u001b[35m[2020-02-22:00:21:59:INFO] Determined delimiter of CSV input is ','\u001b[0m\n",
      "\u001b[35m[2020-02-22:00:21:59:INFO] Sniff delimiter as ','\u001b[0m\n",
      "\u001b[35m[2020-02-22:00:21:59:INFO] Determined delimiter of CSV input is ','\u001b[0m\n",
      "\u001b[35m[2020-02-22:00:21:59:INFO] Sniff delimiter as ','\u001b[0m\n",
      "\u001b[35m[2020-02-22:00:21:59:INFO] Determined delimiter of CSV input is ','\u001b[0m\n",
      "\u001b[34m[2020-02-22:00:22:04:INFO] Sniff delimiter as ','\u001b[0m\n",
      "\u001b[34m[2020-02-22:00:22:04:INFO] Determined delimiter of CSV input is ','\u001b[0m\n",
      "\u001b[34m[2020-02-22:00:22:04:INFO] Sniff delimiter as ','\u001b[0m\n",
      "\u001b[34m[2020-02-22:00:22:04:INFO] Determined delimiter of CSV input is ','\u001b[0m\n",
      "\u001b[34m[2020-02-22:00:22:04:INFO] Sniff delimiter as ','\u001b[0m\n",
      "\u001b[34m[2020-02-22:00:22:04:INFO] Determined delimiter of CSV input is ','\u001b[0m\n",
      "\u001b[35m[2020-02-22:00:22:04:INFO] Sniff delimiter as ','\u001b[0m\n",
      "\u001b[35m[2020-02-22:00:22:04:INFO] Determined delimiter of CSV input is ','\u001b[0m\n",
      "\u001b[35m[2020-02-22:00:22:04:INFO] Sniff delimiter as ','\u001b[0m\n",
      "\u001b[35m[2020-02-22:00:22:04:INFO] Determined delimiter of CSV input is ','\u001b[0m\n",
      "\u001b[35m[2020-02-22:00:22:04:INFO] Sniff delimiter as ','\u001b[0m\n",
      "\u001b[35m[2020-02-22:00:22:04:INFO] Determined delimiter of CSV input is ','\u001b[0m\n",
      "\u001b[34m[2020-02-22:00:22:04:INFO] Sniff delimiter as ','\u001b[0m\n",
      "\u001b[35m[2020-02-22:00:22:04:INFO] Sniff delimiter as ','\u001b[0m\n",
      "\u001b[34m[2020-02-22:00:22:04:INFO] Determined delimiter of CSV input is ','\u001b[0m\n",
      "\u001b[35m[2020-02-22:00:22:04:INFO] Determined delimiter of CSV input is ','\u001b[0m\n",
      "\u001b[34m[2020-02-22:00:22:06:INFO] Sniff delimiter as ','\u001b[0m\n",
      "\u001b[34m[2020-02-22:00:22:06:INFO] Determined delimiter of CSV input is ','\u001b[0m\n",
      "\u001b[35m[2020-02-22:00:22:06:INFO] Sniff delimiter as ','\u001b[0m\n",
      "\u001b[35m[2020-02-22:00:22:06:INFO] Determined delimiter of CSV input is ','\u001b[0m\n",
      "\u001b[34m[2020-02-22:00:22:06:INFO] Sniff delimiter as ','\u001b[0m\n",
      "\u001b[34m[2020-02-22:00:22:06:INFO] Determined delimiter of CSV input is ','\u001b[0m\n",
      "\u001b[34m[2020-02-22:00:22:07:INFO] Sniff delimiter as ','\u001b[0m\n",
      "\u001b[34m[2020-02-22:00:22:07:INFO] Determined delimiter of CSV input is ','\u001b[0m\n",
      "\u001b[35m[2020-02-22:00:22:06:INFO] Sniff delimiter as ','\u001b[0m\n",
      "\u001b[35m[2020-02-22:00:22:06:INFO] Determined delimiter of CSV input is ','\u001b[0m\n",
      "\u001b[35m[2020-02-22:00:22:07:INFO] Sniff delimiter as ','\u001b[0m\n",
      "\u001b[35m[2020-02-22:00:22:07:INFO] Determined delimiter of CSV input is ','\u001b[0m\n",
      "\u001b[34m[2020-02-22:00:22:09:INFO] Sniff delimiter as ','\u001b[0m\n",
      "\u001b[34m[2020-02-22:00:22:09:INFO] Determined delimiter of CSV input is ','\u001b[0m\n",
      "\u001b[34m[2020-02-22:00:22:09:INFO] Sniff delimiter as ','\u001b[0m\n",
      "\u001b[34m[2020-02-22:00:22:09:INFO] Determined delimiter of CSV input is ','\u001b[0m\n",
      "\u001b[34m[2020-02-22:00:22:09:INFO] Sniff delimiter as ','\u001b[0m\n",
      "\u001b[34m[2020-02-22:00:22:09:INFO] Determined delimiter of CSV input is ','\u001b[0m\n",
      "\u001b[34m[2020-02-22:00:22:09:INFO] Sniff delimiter as ','\u001b[0m\n",
      "\u001b[34m[2020-02-22:00:22:09:INFO] Determined delimiter of CSV input is ','\u001b[0m\n",
      "\u001b[35m[2020-02-22:00:22:09:INFO] Sniff delimiter as ','\u001b[0m\n",
      "\u001b[35m[2020-02-22:00:22:09:INFO] Determined delimiter of CSV input is ','\u001b[0m\n",
      "\u001b[35m[2020-02-22:00:22:09:INFO] Sniff delimiter as ','\u001b[0m\n",
      "\u001b[35m[2020-02-22:00:22:09:INFO] Determined delimiter of CSV input is ','\u001b[0m\n",
      "\u001b[35m[2020-02-22:00:22:09:INFO] Sniff delimiter as ','\u001b[0m\n",
      "\u001b[35m[2020-02-22:00:22:09:INFO] Determined delimiter of CSV input is ','\u001b[0m\n",
      "\u001b[35m[2020-02-22:00:22:09:INFO] Sniff delimiter as ','\u001b[0m\n",
      "\u001b[35m[2020-02-22:00:22:09:INFO] Determined delimiter of CSV input is ','\u001b[0m\n",
      "\u001b[34m[2020-02-22:00:22:11:INFO] Sniff delimiter as ','\u001b[0m\n",
      "\u001b[34m[2020-02-22:00:22:11:INFO] Determined delimiter of CSV input is ','\u001b[0m\n",
      "\u001b[35m[2020-02-22:00:22:11:INFO] Sniff delimiter as ','\u001b[0m\n",
      "\u001b[35m[2020-02-22:00:22:11:INFO] Determined delimiter of CSV input is ','\u001b[0m\n",
      "\u001b[34m[2020-02-22:00:22:11:INFO] Sniff delimiter as ','\u001b[0m\n",
      "\u001b[34m[2020-02-22:00:22:11:INFO] Determined delimiter of CSV input is ','\u001b[0m\n",
      "\u001b[34m[2020-02-22:00:22:11:INFO] Sniff delimiter as ','\u001b[0m\n",
      "\u001b[34m[2020-02-22:00:22:11:INFO] Determined delimiter of CSV input is ','\u001b[0m\n",
      "\u001b[34m[2020-02-22:00:22:12:INFO] Sniff delimiter as ','\u001b[0m\n",
      "\u001b[34m[2020-02-22:00:22:12:INFO] Determined delimiter of CSV input is ','\u001b[0m\n",
      "\u001b[35m[2020-02-22:00:22:11:INFO] Sniff delimiter as ','\u001b[0m\n",
      "\u001b[35m[2020-02-22:00:22:11:INFO] Determined delimiter of CSV input is ','\u001b[0m\n",
      "\u001b[35m[2020-02-22:00:22:11:INFO] Sniff delimiter as ','\u001b[0m\n",
      "\u001b[35m[2020-02-22:00:22:11:INFO] Determined delimiter of CSV input is ','\u001b[0m\n",
      "\u001b[35m[2020-02-22:00:22:12:INFO] Sniff delimiter as ','\u001b[0m\n",
      "\u001b[35m[2020-02-22:00:22:12:INFO] Determined delimiter of CSV input is ','\u001b[0m\n",
      "\u001b[34m[2020-02-22:00:22:13:INFO] Sniff delimiter as ','\u001b[0m\n",
      "\u001b[34m[2020-02-22:00:22:13:INFO] Determined delimiter of CSV input is ','\u001b[0m\n",
      "\u001b[34m[2020-02-22:00:22:14:INFO] Sniff delimiter as ','\u001b[0m\n",
      "\u001b[34m[2020-02-22:00:22:14:INFO] Determined delimiter of CSV input is ','\u001b[0m\n",
      "\u001b[34m[2020-02-22:00:22:14:INFO] Sniff delimiter as ','\u001b[0m\n",
      "\u001b[34m[2020-02-22:00:22:14:INFO] Determined delimiter of CSV input is ','\u001b[0m\n",
      "\u001b[34m[2020-02-22:00:22:14:INFO] Sniff delimiter as ','\u001b[0m\n",
      "\u001b[34m[2020-02-22:00:22:14:INFO] Determined delimiter of CSV input is ','\u001b[0m\n",
      "\u001b[35m[2020-02-22:00:22:13:INFO] Sniff delimiter as ','\u001b[0m\n",
      "\u001b[35m[2020-02-22:00:22:13:INFO] Determined delimiter of CSV input is ','\u001b[0m\n",
      "\u001b[35m[2020-02-22:00:22:14:INFO] Sniff delimiter as ','\u001b[0m\n",
      "\u001b[35m[2020-02-22:00:22:14:INFO] Determined delimiter of CSV input is ','\u001b[0m\n",
      "\u001b[35m[2020-02-22:00:22:14:INFO] Sniff delimiter as ','\u001b[0m\n",
      "\u001b[35m[2020-02-22:00:22:14:INFO] Determined delimiter of CSV input is ','\u001b[0m\n",
      "\u001b[35m[2020-02-22:00:22:14:INFO] Sniff delimiter as ','\u001b[0m\n",
      "\u001b[35m[2020-02-22:00:22:14:INFO] Determined delimiter of CSV input is ','\u001b[0m\n",
      "\u001b[34m[2020-02-22:00:22:16:INFO] Sniff delimiter as ','\u001b[0m\n",
      "\u001b[34m[2020-02-22:00:22:16:INFO] Determined delimiter of CSV input is ','\u001b[0m\n",
      "\u001b[34m[2020-02-22:00:22:16:INFO] Sniff delimiter as ','\u001b[0m\n",
      "\u001b[34m[2020-02-22:00:22:16:INFO] Determined delimiter of CSV input is ','\u001b[0m\n",
      "\u001b[34m[2020-02-22:00:22:16:INFO] Sniff delimiter as ','\u001b[0m\n",
      "\u001b[34m[2020-02-22:00:22:16:INFO] Determined delimiter of CSV input is ','\u001b[0m\n",
      "\u001b[35m[2020-02-22:00:22:16:INFO] Sniff delimiter as ','\u001b[0m\n",
      "\u001b[35m[2020-02-22:00:22:16:INFO] Determined delimiter of CSV input is ','\u001b[0m\n",
      "\u001b[35m[2020-02-22:00:22:16:INFO] Sniff delimiter as ','\u001b[0m\n",
      "\u001b[35m[2020-02-22:00:22:16:INFO] Determined delimiter of CSV input is ','\u001b[0m\n",
      "\u001b[35m[2020-02-22:00:22:16:INFO] Sniff delimiter as ','\u001b[0m\n",
      "\u001b[35m[2020-02-22:00:22:16:INFO] Determined delimiter of CSV input is ','\u001b[0m\n"
     ]
    },
    {
     "name": "stdout",
     "output_type": "stream",
     "text": [
      "\u001b[34m[2020-02-22:00:22:19:INFO] Sniff delimiter as ','\u001b[0m\n",
      "\u001b[34m[2020-02-22:00:22:19:INFO] Determined delimiter of CSV input is ','\u001b[0m\n",
      "\u001b[34m[2020-02-22:00:22:19:INFO] Sniff delimiter as ','\u001b[0m\n",
      "\u001b[34m[2020-02-22:00:22:19:INFO] Determined delimiter of CSV input is ','\u001b[0m\n",
      "\u001b[35m[2020-02-22:00:22:19:INFO] Sniff delimiter as ','\u001b[0m\n",
      "\u001b[35m[2020-02-22:00:22:19:INFO] Determined delimiter of CSV input is ','\u001b[0m\n",
      "\u001b[35m[2020-02-22:00:22:19:INFO] Sniff delimiter as ','\u001b[0m\n",
      "\u001b[35m[2020-02-22:00:22:19:INFO] Determined delimiter of CSV input is ','\u001b[0m\n",
      "\n"
     ]
    }
   ],
   "source": [
    "xgb_transformer.wait()"
   ]
  },
  {
   "cell_type": "markdown",
   "metadata": {},
   "source": [
    "Now the transform job has executed and the result, the estimated sentiment of each review, has been saved on S3. Since we would rather work on this file locally we can perform a bit of notebook magic to copy the file to the `data_dir`."
   ]
  },
  {
   "cell_type": "code",
   "execution_count": 27,
   "metadata": {},
   "outputs": [
    {
     "name": "stdout",
     "output_type": "stream",
     "text": [
      "Completed 256.0 KiB/370.8 KiB (2.8 MiB/s) with 1 file(s) remaining\r",
      "Completed 370.8 KiB/370.8 KiB (4.0 MiB/s) with 1 file(s) remaining\r",
      "download: s3://sagemaker-us-east-1-064263160711/xgboost-2020-02-22-00-17-38-735/test.csv.out to ../data/sentiment_web_app/test.csv.out\r\n"
     ]
    }
   ],
   "source": [
    "!aws s3 cp --recursive $xgb_transformer.output_path $data_dir"
   ]
  },
  {
   "cell_type": "markdown",
   "metadata": {},
   "source": [
    "The last step is now to read in the output from our model, convert the output to something a little more usable, in this case we want the sentiment to be either `1` (positive) or `0` (negative), and then compare to the ground truth labels."
   ]
  },
  {
   "cell_type": "code",
   "execution_count": 28,
   "metadata": {},
   "outputs": [],
   "source": [
    "predictions = pd.read_csv(os.path.join(data_dir, 'test.csv.out'), header=None)\n",
    "predictions = [round(num) for num in predictions.squeeze().values]"
   ]
  },
  {
   "cell_type": "code",
   "execution_count": 29,
   "metadata": {},
   "outputs": [
    {
     "data": {
      "text/plain": [
       "0.86492"
      ]
     },
     "execution_count": 29,
     "metadata": {},
     "output_type": "execute_result"
    }
   ],
   "source": [
    "from sklearn.metrics import accuracy_score\n",
    "accuracy_score(test_y, predictions)"
   ]
  },
  {
   "cell_type": "markdown",
   "metadata": {},
   "source": [
    "## Step 6: Deploying the model\n",
    "\n",
    "Once we construct and fit our model, SageMaker stores the resulting model artifacts and we can use those to deploy an endpoint (inference code). To see this, look in the SageMaker console and you should see that a model has been created along with a link to the S3 location where the model artifacts have been stored.\n",
    "\n",
    "Deploying an endpoint is a lot like training the model with a few important differences. The first is that a deployed model doesn't change the model artifacts, so as you send it various testing instances the model won't change. Another difference is that since we aren't performing a fixed computation, as we were in the training step or while performing a batch transform, the compute instance that gets started stays running until we tell it to stop. This is important to note as if we forget and leave it running we will be charged the entire time.\n",
    "\n",
    "In other words **If you are no longer using a deployed endpoint, shut it down!**"
   ]
  },
  {
   "cell_type": "code",
   "execution_count": 26,
   "metadata": {},
   "outputs": [
    {
     "name": "stderr",
     "output_type": "stream",
     "text": [
      "WARNING:sagemaker:Using already existing model: xgboost-2020-02-22-12-51-28-563\n"
     ]
    },
    {
     "name": "stdout",
     "output_type": "stream",
     "text": [
      "-------------------!"
     ]
    }
   ],
   "source": [
    "xgb_predictor = xgb.deploy(initial_instance_count = 1, instance_type = 'ml.m4.xlarge')"
   ]
  },
  {
   "cell_type": "markdown",
   "metadata": {},
   "source": [
    "### Testing the model (again)\n",
    "\n",
    "Now that we have deployed our endpoint, we can send the testing data to it and get back the inference results. We already did this earlier using the batch transform functionality of SageMaker, however, we will test our model again using the newly deployed endpoint so that we can make sure that it works properly and to get a bit of a feel for how the endpoint works.\n",
    "\n",
    "When using the created endpoint it is important to know that we are limited in the amount of information we can send in each call so we need to break the testing data up into chunks and then send each chunk. Also, we need to serialize our data before we send it to the endpoint to ensure that our data is transmitted properly. Fortunately, SageMaker can do the serialization part for us provided we tell it the format of our data."
   ]
  },
  {
   "cell_type": "code",
   "execution_count": 27,
   "metadata": {},
   "outputs": [],
   "source": [
    "from sagemaker.predictor import csv_serializer\n",
    "\n",
    "# We need to tell the endpoint what format the data we are sending is in so that SageMaker can perform the serialization.\n",
    "xgb_predictor.content_type = 'text/csv'\n",
    "xgb_predictor.serializer = csv_serializer"
   ]
  },
  {
   "cell_type": "code",
   "execution_count": 28,
   "metadata": {},
   "outputs": [],
   "source": [
    "# We split the data into chunks and send each chunk seperately, accumulating the results.\n",
    "\n",
    "def predict(data, rows=512):\n",
    "    split_array = np.array_split(data, int(data.shape[0] / float(rows) + 1))\n",
    "    predictions = ''\n",
    "    for array in split_array:\n",
    "        predictions = ','.join([predictions, xgb_predictor.predict(array).decode('utf-8')])\n",
    "    \n",
    "    return np.fromstring(predictions[1:], sep=',')"
   ]
  },
  {
   "cell_type": "code",
   "execution_count": 29,
   "metadata": {},
   "outputs": [],
   "source": [
    "test_X = pd.read_csv(os.path.join(data_dir, 'test.csv'), header=None).values\n",
    "\n",
    "predictions = predict(test_X)\n",
    "predictions = [round(num) for num in predictions]"
   ]
  },
  {
   "cell_type": "markdown",
   "metadata": {},
   "source": [
    "Lastly, we check to see what the accuracy of our model is."
   ]
  },
  {
   "cell_type": "code",
   "execution_count": 34,
   "metadata": {},
   "outputs": [
    {
     "data": {
      "text/plain": [
       "0.86492"
      ]
     },
     "execution_count": 34,
     "metadata": {},
     "output_type": "execute_result"
    }
   ],
   "source": [
    "from sklearn.metrics import accuracy_score\n",
    "accuracy_score(test_y, predictions)"
   ]
  },
  {
   "cell_type": "markdown",
   "metadata": {},
   "source": [
    "And the results here should agree with the model testing that we did earlier using the batch transform job.\n",
    "\n",
    "### Cleaning up\n",
    "\n",
    "Now that we've determined that deploying our model works as expected, we are going to shut it down. Remember that the longer the endpoint is left running, the greater the cost and since we have a bit more work to do before we are able to use our endpoint with our simple web app, we should shut everything down."
   ]
  },
  {
   "cell_type": "code",
   "execution_count": 35,
   "metadata": {},
   "outputs": [],
   "source": [
    "xgb_predictor.delete_endpoint()"
   ]
  },
  {
   "cell_type": "markdown",
   "metadata": {},
   "source": [
    "## Step 7: Putting our model to work\n",
    "\n",
    "As we've mentioned a few times now, our goal is to have our model deployed and then access it using a very simple web app. The intent is for this web app to take some user submitted data (a review), send it off to our endpoint (the model) and then display the result.\n",
    "\n",
    "However, there is a small catch. Currently the only way we can access the endpoint to send it data is using the SageMaker API. We can, if we wish, expose the actual URL that our model's endpoint is receiving data from, however, if we just send it data ourselves we will not get anything in return. This is because the endpoint created by SageMaker requires the entity accessing it have the correct permissions. So, we would need to somehow authenticate our web app with AWS.\n",
    "\n",
    "Having a website that authenticates to AWS seems a bit beyond the scope of this lesson so we will opt for an alternative approach. Namely, we will create a new endpoint which does not require authentication and which acts as a proxy for the SageMaker endpoint.\n",
    "\n",
    "As an additional constraint, we will try to avoid doing any data processing in the web app itself. Remember that when we constructed and tested our model we started with a movie review, then we simplified it by removing any html formatting and punctuation, then we constructed a bag of words embedding and the resulting vector is what we sent to our model. All of this needs to be done to our user input as well.\n",
    "\n",
    "Fortunately we can do all of this data processing in the backend, using Amazon's Lambda service.\n",
    "\n",
    "<img src=\"Web App Diagram.svg\">\n",
    "\n",
    "The diagram above gives an overview of how the various services will work together. On the far right is the model which we trained above and which will be deployed using SageMaker. On the far left is our web app that collects a user's movie review, sends it off and expects a positive or negative sentiment in return.\n",
    "\n",
    "In the middle is where some of the magic happens. We will construct a Lambda function, which you can think of as a straightforward Python function that can be executed whenever a specified event occurs. This Python function will do the data processing we need to perform on a user submitted review. In addition, we will give this function permission to send and recieve data from a SageMaker endpoint.\n",
    "\n",
    "Lastly, the method we will use to execute the Lambda function is a new endpoint that we will create using API Gateway. This endpoint will be a url that listens for data to be sent to it. Once it gets some data it will pass that data on to the Lambda function and then return whatever the Lambda function returns. Essentially it will act as an interface that lets our web app communicate with the Lambda function.\n",
    "\n",
    "### Processing a single review\n",
    "\n",
    "For now, suppose we are given a movie review by our user in the form of a string, like so:"
   ]
  },
  {
   "cell_type": "code",
   "execution_count": 36,
   "metadata": {},
   "outputs": [],
   "source": [
    "test_review = \"Nothing but a disgusting materialistic pageant of glistening abed remote control greed zombies, totally devoid of any heart or heat. A romantic comedy that has zero romantic chemestry and zero laughs!\""
   ]
  },
  {
   "cell_type": "markdown",
   "metadata": {},
   "source": [
    "How do we go from this string to the bag of words feature vector that is expected by our model?\n",
    "\n",
    "If we recall at the beginning of this notebook, the first step is to remove any unnecessary characters using the `review_to_words` method. Remember that we intentionally did this in a very simplistic way. This is because we are going to have to copy this method to our (eventual) Lambda function (we will go into more detail later) and this means it needs to be rather simplistic."
   ]
  },
  {
   "cell_type": "code",
   "execution_count": 37,
   "metadata": {},
   "outputs": [
    {
     "name": "stdout",
     "output_type": "stream",
     "text": [
      "nothing but a disgusting materialistic pageant of glistening abed remote control greed zombies totally devoid of any heart or heat a romantic comedy that has zero romantic chemestry and zero laughs\n"
     ]
    }
   ],
   "source": [
    "test_words = review_to_words(test_review)\n",
    "print(test_words)"
   ]
  },
  {
   "cell_type": "markdown",
   "metadata": {},
   "source": [
    "Next, we need to construct a bag of words embedding of the `test_words` string. To do this, remember that a bag of words embedding uses a `vocabulary` consisting of the most frequently appearing words in a set of documents. Then, for each word in the vocabulary we record the number of times that word appears in `test_words`. We constructed the `vocabulary` earlier using the training set for our problem so encoding `test_words` is relatively straightforward."
   ]
  },
  {
   "cell_type": "code",
   "execution_count": 38,
   "metadata": {},
   "outputs": [],
   "source": [
    "def bow_encoding(words, vocabulary):\n",
    "    bow = [0] * len(vocabulary) # Start by setting the count for each word in the vocabulary to zero.\n",
    "    for word in words.split():  # For each word in the string\n",
    "        if word in vocabulary:  # If the word is one that occurs in the vocabulary, increase its count.\n",
    "            bow[vocabulary[word]] += 1\n",
    "    return bow"
   ]
  },
  {
   "cell_type": "code",
   "execution_count": 39,
   "metadata": {},
   "outputs": [
    {
     "name": "stdout",
     "output_type": "stream",
     "text": [
      "[0, 0, 0, 0, 0, 0, 0, 0, 0, 0, 0, 0, 0, 0, 0, 0, 0, 0, 0, 0, 0, 0, 0, 0, 0, 0, 0, 0, 0, 0, 0, 0, 0, 0, 0, 0, 0, 0, 0, 0, 0, 0, 0, 0, 0, 0, 0, 0, 0, 0, 0, 0, 0, 0, 0, 0, 0, 0, 0, 0, 0, 0, 0, 0, 0, 0, 0, 0, 0, 0, 0, 0, 0, 0, 0, 0, 0, 0, 0, 0, 0, 0, 0, 0, 0, 0, 0, 0, 0, 0, 0, 0, 0, 0, 0, 0, 0, 0, 0, 0, 0, 0, 0, 0, 0, 0, 0, 0, 0, 0, 0, 0, 0, 0, 0, 0, 0, 0, 0, 0, 0, 0, 0, 0, 0, 0, 0, 0, 0, 0, 0, 0, 0, 0, 0, 0, 0, 0, 0, 0, 0, 0, 0, 0, 0, 0, 0, 0, 0, 0, 0, 0, 0, 0, 0, 0, 0, 0, 0, 0, 0, 0, 0, 0, 0, 0, 0, 0, 0, 0, 0, 0, 0, 0, 0, 0, 0, 0, 0, 0, 0, 0, 0, 0, 0, 0, 0, 0, 0, 0, 0, 0, 0, 0, 0, 0, 0, 0, 0, 0, 0, 0, 0, 0, 0, 0, 0, 0, 0, 0, 0, 0, 0, 0, 0, 0, 0, 0, 0, 0, 0, 0, 0, 0, 0, 0, 1, 0, 0, 0, 0, 0, 0, 0, 0, 0, 0, 0, 0, 0, 0, 0, 0, 0, 0, 0, 0, 0, 0, 0, 0, 0, 0, 0, 0, 0, 1, 0, 0, 0, 0, 0, 0, 0, 0, 0, 0, 0, 0, 0, 0, 0, 0, 0, 0, 0, 0, 0, 0, 0, 0, 0, 0, 0, 0, 0, 0, 0, 0, 0, 0, 0, 0, 0, 0, 0, 0, 0, 0, 0, 0, 0, 0, 0, 0, 0, 0, 0, 0, 0, 0, 0, 0, 0, 0, 0, 0, 0, 0, 0, 0, 0, 0, 0, 0, 0, 0, 0, 0, 0, 0, 0, 0, 0, 0, 0, 0, 0, 0, 0, 0, 0, 0, 0, 0, 0, 0, 0, 0, 0, 0, 0, 0, 0, 0, 0, 0, 0, 0, 0, 0, 0, 0, 0, 0, 0, 0, 0, 0, 0, 0, 0, 0, 0, 0, 0, 0, 0, 0, 0, 0, 0, 0, 0, 0, 0, 0, 0, 0, 0, 0, 0, 0, 0, 0, 0, 0, 0, 0, 0, 0, 0, 0, 0, 0, 0, 0, 0, 0, 0, 0, 0, 0, 0, 0, 0, 0, 0, 0, 0, 0, 0, 0, 0, 0, 0, 0, 0, 0, 0, 0, 0, 0, 0, 0, 0, 0, 0, 0, 0, 0, 0, 0, 0, 0, 0, 0, 0, 0, 0, 0, 0, 0, 0, 0, 0, 0, 0, 0, 0, 0, 0, 0, 0, 0, 0, 0, 0, 0, 0, 0, 0, 0, 0, 0, 0, 0, 0, 0, 0, 0, 0, 0, 0, 0, 0, 0, 0, 0, 0, 0, 0, 0, 0, 0, 0, 0, 0, 0, 0, 0, 0, 0, 0, 0, 0, 0, 0, 0, 0, 0, 0, 0, 0, 0, 0, 0, 0, 0, 0, 0, 0, 0, 0, 0, 0, 0, 0, 0, 0, 0, 0, 0, 0, 0, 0, 0, 0, 0, 0, 0, 0, 0, 0, 0, 0, 0, 0, 0, 0, 0, 0, 0, 0, 0, 0, 0, 0, 0, 0, 0, 0, 0, 0, 0, 0, 0, 0, 0, 0, 0, 0, 0, 0, 0, 0, 0, 0, 0, 0, 0, 0, 0, 0, 0, 0, 0, 0, 0, 0, 0, 0, 0, 0, 0, 0, 0, 0, 0, 0, 0, 0, 0, 0, 0, 0, 0, 0, 0, 0, 0, 0, 0, 0, 0, 0, 0, 0, 0, 0, 0, 0, 0, 0, 0, 0, 0, 0, 0, 0, 0, 0, 0, 0, 0, 0, 1, 0, 0, 0, 0, 0, 0, 0, 0, 0, 0, 0, 0, 0, 0, 0, 0, 0, 0, 0, 0, 0, 0, 0, 0, 0, 0, 0, 0, 0, 0, 0, 0, 0, 0, 0, 0, 0, 0, 0, 0, 0, 0, 0, 0, 0, 0, 0, 0, 0, 0, 0, 0, 0, 0, 0, 0, 0, 0, 0, 0, 0, 0, 0, 0, 0, 0, 0, 0, 0, 0, 0, 0, 0, 0, 0, 0, 0, 0, 0, 0, 0, 0, 0, 0, 0, 0, 0, 0, 0, 0, 0, 0, 0, 0, 0, 0, 0, 0, 0, 0, 0, 0, 0, 0, 0, 0, 0, 0, 0, 0, 0, 0, 0, 0, 0, 0, 0, 0, 0, 0, 0, 0, 0, 0, 0, 0, 0, 0, 0, 0, 0, 0, 0, 0, 0, 0, 0, 0, 0, 0, 0, 0, 0, 0, 0, 0, 0, 0, 0, 0, 0, 0, 0, 0, 0, 0, 0, 0, 0, 0, 0, 0, 0, 0, 0, 0, 0, 0, 0, 0, 0, 0, 0, 0, 0, 0, 0, 0, 0, 0, 0, 0, 0, 0, 0, 0, 0, 0, 0, 0, 0, 0, 0, 0, 0, 0, 0, 0, 0, 0, 0, 0, 0, 0, 0, 0, 0, 0, 0, 0, 0, 0, 0, 0, 0, 0, 0, 0, 0, 0, 0, 0, 0, 0, 0, 0, 0, 0, 0, 0, 0, 0, 0, 0, 0, 0, 0, 0, 0, 0, 0, 0, 0, 0, 0, 0, 0, 0, 0, 0, 0, 0, 0, 1, 0, 0, 0, 0, 0, 0, 0, 0, 0, 0, 0, 0, 0, 0, 0, 0, 0, 0, 0, 0, 0, 0, 0, 0, 0, 0, 0, 0, 0, 0, 0, 0, 0, 0, 0, 0, 0, 0, 0, 0, 0, 0, 0, 0, 0, 0, 0, 0, 0, 0, 0, 0, 0, 0, 0, 0, 0, 0, 0, 0, 0, 0, 0, 0, 0, 0, 0, 0, 0, 0, 0, 0, 0, 0, 0, 0, 0, 0, 0, 0, 0, 0, 0, 0, 0, 0, 1, 0, 0, 0, 0, 0, 0, 0, 0, 0, 0, 0, 0, 0, 0, 0, 0, 0, 0, 0, 0, 0, 0, 0, 0, 0, 0, 0, 0, 0, 0, 0, 0, 0, 0, 0, 0, 0, 0, 0, 0, 0, 0, 0, 0, 0, 0, 0, 0, 0, 0, 0, 0, 0, 0, 0, 0, 0, 0, 0, 0, 0, 0, 0, 0, 0, 0, 0, 0, 0, 0, 0, 0, 0, 0, 0, 0, 0, 0, 0, 0, 0, 0, 0, 0, 0, 0, 0, 0, 0, 0, 0, 0, 0, 0, 0, 0, 0, 0, 0, 0, 0, 0, 0, 0, 0, 0, 0, 0, 0, 0, 0, 0, 0, 0, 0, 0, 0, 0, 0, 0, 0, 0, 0, 0, 0, 0, 0, 0, 0, 0, 0, 0, 0, 0, 0, 0, 0, 0, 0, 0, 0, 0, 0, 0, 0, 0, 0, 0, 0, 0, 0, 0, 0, 0, 0, 0, 0, 0, 0, 0, 0, 0, 0, 0, 0, 0, 0, 0, 0, 0, 0, 0, 0, 0, 0, 0, 0, 0, 0, 0, 0, 0, 0, 0, 0, 0, 0, 0, 0, 0, 0, 0, 0, 0, 0, 0, 0, 0, 0, 0, 0, 0, 0, 0, 0, 0, 0, 0, 0, 0, 0, 0, 0, 0, 0, 0, 0, 0, 0, 0, 0, 0, 0, 0, 0, 0, 0, 0, 0, 0, 0, 0, 0, 0, 0, 0, 0, 0, 0, 0, 0, 0, 0, 0, 0, 0, 0, 0, 0, 0, 0, 0, 1, 0, 0, 0, 0, 0, 0, 0, 0, 0, 0, 0, 0, 0, 0, 0, 0, 0, 0, 0, 0, 0, 0, 0, 0, 0, 0, 0, 0, 0, 0, 0, 0, 0, 0, 0, 0, 0, 0, 0, 0, 0, 0, 0, 0, 0, 0, 0, 0, 0, 0, 0, 0, 0, 0, 0, 1, 0, 0, 0, 0, 0, 0, 0, 0, 0, 0, 0, 0, 0, 0, 0, 0, 0, 0, 0, 0, 0, 0, 0, 0, 0, 0, 0, 0, 0, 0, 0, 0, 0, 0, 0, 0, 0, 0, 0, 0, 0, 0, 0, 0, 0, 0, 0, 0, 0, 0, 0, 0, 0, 0, 0, 0, 0, 0, 0, 0, 0, 0, 0, 0, 0, 0, 0, 0, 0, 0, 0, 0, 0, 0, 0, 0, 0, 0, 0, 0, 0, 0, 0, 0, 0, 0, 0, 0, 0, 0, 0, 0, 0, 0, 0, 0, 0, 0, 0, 0, 0, 0, 0, 0, 0, 0, 0, 0, 0, 0, 0, 0, 0, 0, 0, 0, 0, 0, 0, 0, 0, 0, 0, 0, 0, 0, 0, 0, 0, 0, 0, 0, 0, 0, 0, 0, 0, 0, 0, 0, 0, 0, 0, 0, 0, 0, 0, 0, 0, 0, 0, 0, 0, 0, 0, 0, 0, 0, 0, 0, 0, 0, 0, 0, 0, 0, 0, 0, 0, 0, 0, 0, 0, 0, 0, 0, 0, 0, 0, 0, 0, 0, 0, 0, 0, 0, 0, 0, 0, 0, 0, 0, 0, 0, 0, 0, 0, 0, 0, 0, 0, 0, 0, 0, 0, 0, 0, 0, 0, 0, 0, 0, 0, 0, 0, 0, 0, 0, 0, 0, 0, 0, 0, 0, 0, 0, 0, 0, 0, 0, 0, 0, 0, 0, 0, 0, 0, 0, 0, 0, 0, 0, 0, 0, 0, 0, 0, 0, 0, 0, 0, 0, 0, 0, 0, 0, 0, 0, 0, 0, 0, 0, 0, 0, 0, 0, 0, 0, 0, 0, 0, 0, 0, 0, 0, 0, 0, 0, 0, 0, 0, 0, 0, 0, 0, 0, 0, 0, 0, 0, 0, 0, 0, 0, 0, 0, 0, 0, 0, 0, 0, 0, 0, 0, 0, 0, 0, 0, 0, 0, 0, 0, 0, 0, 0, 0, 0, 0, 0, 0, 0, 0, 0, 0, 0, 0, 0, 0, 0, 0, 0, 0, 0, 0, 0, 0, 0, 0, 0, 0, 0, 0, 0, 0, 0, 0, 0, 0, 0, 0, 0, 0, 0, 0, 0, 0, 0, 0, 0, 0, 0, 0, 0, 0, 0, 0, 0, 0, 0, 0, 0, 0, 0, 0, 0, 0, 0, 0, 0, 0, 0, 0, 0, 0, 0, 0, 0, 0, 0, 0, 0, 0, 0, 0, 0, 0, 0, 0, 0, 0, 0, 0, 0, 0, 0, 0, 0, 0, 0, 0, 0, 0, 0, 0, 0, 0, 0, 0, 0, 0, 0, 0, 0, 0, 0, 0, 0, 0, 0, 0, 0, 0, 0, 0, 0, 0, 0, 0, 0, 0, 0, 0, 0, 0, 0, 0, 0, 0, 0, 0, 0, 0, 0, 0, 0, 0, 0, 0, 0, 0, 0, 0, 0, 0, 0, 0, 0, 0, 0, 0, 0, 0, 0, 0, 0, 0, 0, 0, 0, 0, 0, 0, 0, 0, 0, 0, 0, 0, 0, 0, 0, 0, 0, 0, 0, 0, 0, 0, 0, 0, 0, 0, 0, 0, 0, 0, 0, 0, 0, 0, 0, 0, 0, 0, 0, 0, 0, 0, 0, 0, 0, 0, 0, 0, 0, 0, 0, 0, 0, 0, 0, 0, 0, 0, 0, 0, 0, 0, 0, 0, 0, 0, 0, 0, 0, 0, 0, 0, 0, 0, 0, 0, 0, 0, 0, 0, 0, 0, 0, 0, 0, 0, 0, 0, 0, 0, 0, 0, 0, 0, 0, 0, 0, 0, 0, 0, 0, 0, 0, 0, 0, 0, 0, 0, 0, 0, 0, 0, 0, 0, 0, 0, 0, 0, 0, 0, 0, 0, 0, 0, 0, 0, 0, 0, 0, 0, 0, 0, 0, 0, 0, 0, 0, 0, 0, 0, 0, 0, 0, 0, 0, 0, 0, 0, 0, 0, 0, 0, 0, 0, 0, 0, 0, 0, 0, 0, 0, 0, 0, 0, 0, 0, 0, 0, 0, 0, 0, 0, 0, 0, 0, 0, 0, 0, 0, 0, 0, 0, 0, 0, 0, 0, 0, 0, 0, 0, 0, 0, 0, 0, 0, 0, 0, 0, 0, 0, 0, 0, 0, 0, 0, 1, 0, 0, 0, 0, 0, 0, 0, 0, 0, 0, 0, 0, 0, 0, 0, 0, 0, 0, 0, 0, 0, 0, 0, 0, 0, 0, 0, 0, 0, 0, 0, 0, 0, 0, 0, 0, 0, 0, 0, 0, 0, 0, 0, 0, 0, 0, 0, 0, 0, 0, 0, 0, 0, 0, 0, 0, 0, 0, 0, 0, 0, 0, 0, 0, 0, 0, 0, 0, 0, 0, 0, 0, 0, 0, 1, 0, 0, 0, 0, 0, 0, 0, 0, 0, 0, 0, 0, 0, 0, 0, 0, 0, 0, 0, 0, 1, 0, 0, 1, 0, 0, 0, 0, 0, 0, 0, 0, 0, 0, 0, 0, 0, 0, 0, 0, 0, 0, 0, 0, 0, 0, 0, 0, 0, 0, 0, 0, 0, 0, 0, 0, 0, 0, 0, 0, 0, 0, 0, 0, 0, 0, 0, 0, 0, 0, 0, 0, 0, 0, 0, 0, 0, 0, 0, 0, 0, 0, 0, 0, 0, 0, 0, 0, 0, 0, 0, 0, 0, 0, 0, 0, 0, 0, 0, 0, 0, 0, 0, 0, 0, 0, 0, 0, 0, 0, 0, 0, 0, 0, 0, 0, 0, 0, 0, 0, 0, 0, 0, 0, 0, 0, 0, 0, 0, 0, 0, 0, 0, 0, 0, 0, 0, 0, 0, 0, 0, 0, 0, 0, 0, 0, 0, 0, 0, 0, 0, 0, 0, 0, 0, 0, 0, 0, 0, 0, 0, 0, 0, 0, 0, 0, 0, 0, 0, 0, 0, 0, 0, 0, 0, 0, 0, 0, 0, 0, 0, 0, 0, 0, 0, 0, 0, 0, 0, 0, 0, 0, 0, 0, 0, 0, 0, 0, 0, 0, 0, 0, 0, 0, 0, 0, 0, 0, 0, 0, 0, 0, 0, 0, 0, 0, 0, 0, 0, 0, 0, 0, 0, 0, 0, 0, 0, 0, 0, 0, 0, 0, 0, 0, 0, 0, 0, 0, 0, 0, 0, 0, 0, 0, 0, 0, 0, 0, 0, 0, 0, 0, 0, 0, 0, 0, 0, 0, 0, 0, 0, 0, 0, 0, 0, 0, 0, 0, 0, 0, 0, 0, 0, 0, 0, 0, 0, 0, 0, 0, 0, 0, 0, 0, 0, 0, 0, 0, 0, 0, 0, 0, 0, 0, 0, 0, 0, 0, 0, 0, 0, 0, 0, 0, 0, 0, 0, 0, 0, 0, 0, 0, 0, 0, 0, 0, 0, 0, 0, 0, 0, 0, 0, 0, 0, 0, 0, 0, 0, 0, 0, 0, 0, 0, 0, 0, 0, 0, 0, 0, 0, 0, 0, 0, 0, 0, 0, 0, 0, 0, 0, 0, 0, 0, 0, 0, 0, 0, 0, 0, 0, 0, 0, 0, 0, 0, 0, 0, 0, 0, 0, 0, 0, 0, 0, 0, 0, 0, 0, 0, 0, 0, 0, 0, 0, 0, 0, 0, 0, 0, 0, 0, 0, 0, 0, 0, 0, 0, 0, 0, 0, 0, 0, 0, 0, 0, 0, 0, 0, 0, 0, 0, 0, 0, 0, 0, 0, 0, 0, 0, 0, 0, 0, 0, 0, 0, 0, 0, 0, 0, 0, 0, 0, 0, 0, 0, 0, 0, 0, 0, 0, 0, 0, 0, 0, 0, 0, 0, 0, 0, 0, 0, 0, 0, 0, 0, 0, 0, 0, 0, 0, 0, 0, 0, 0, 0, 0, 0, 0, 0, 0, 0, 0, 0, 0, 0, 0, 0, 0, 0, 0, 0, 0, 0, 0, 0, 0, 0, 0, 0, 1, 0, 0, 0, 0, 0, 0, 0, 0, 0, 0, 0, 0, 0, 0, 0, 0, 0, 0, 0, 0, 0, 0, 0, 0, 0, 0, 0, 0, 0, 0, 0, 0, 0, 0, 0, 0, 0, 0, 0, 0, 0, 0, 0, 0, 0, 0, 0, 0, 0, 0, 0, 0, 0, 0, 0, 0, 0, 0, 0, 0, 0, 0, 0, 0, 0, 0, 0, 0, 0, 0, 0, 0, 0, 0, 0, 0, 0, 0, 0, 0, 0, 0, 0, 0, 0, 0, 0, 0, 0, 0, 0, 0, 0, 0, 0, 0, 0, 0, 0, 0, 0, 0, 0, 0, 0, 0, 0, 0, 0, 0, 0, 0, 0, 0, 0, 0, 0, 0, 0, 0, 0, 0, 0, 0, 0, 0, 0, 0, 0, 0, 0, 0, 0, 0, 0, 0, 0, 0, 0, 0, 0, 0, 0, 0, 0, 0, 0, 0, 0, 0, 0, 0, 0, 0, 0, 0, 0, 0, 0, 0, 0, 0, 0, 0, 0, 0, 0, 0, 0, 0, 0, 0, 0, 0, 0, 0, 0, 0, 0, 0, 0, 0, 0, 0, 0, 0, 0, 0, 0, 0, 0, 0, 0, 0, 0, 0, 0, 0, 0, 0, 0, 0, 0, 0, 0, 0, 0, 0, 0, 0, 0, 0, 0, 0, 0, 0, 0, 0, 0, 0, 0, 0, 0, 0, 0, 0, 0, 0, 0, 0, 0, 0, 0, 0, 0, 0, 0, 0, 0, 0, 0, 0, 0, 0, 0, 0, 0, 0, 0, 0, 0, 0, 0, 0, 0, 0, 0, 0, 0, 0, 0, 0, 0, 0, 0, 0, 0, 0, 0, 0, 0, 0, 0, 0, 0, 0, 0, 0, 0, 0, 0, 0, 0, 0, 0, 0, 0, 0, 0, 0, 0, 0, 0, 0, 0, 0, 0, 0, 0, 0, 0, 0, 0, 0, 0, 0, 0, 0, 0, 0, 0, 0, 0, 0, 0, 0, 0, 0, 0, 0, 0, 0, 0, 0, 0, 0, 0, 0, 0, 0, 0, 0, 0, 0, 0, 0, 0, 0, 0, 0, 0, 0, 0, 0, 0, 0, 0, 0, 0, 0, 0, 0, 0, 0, 0, 0, 0, 0, 0, 0, 0, 0, 0, 0, 0, 0, 0, 0, 0, 0, 0, 0, 0, 0, 0, 0, 0, 0, 0, 0, 0, 0, 0, 0, 0, 0, 0, 0, 0, 0, 0, 0, 0, 0, 0, 0, 0, 0, 0, 0, 0, 0, 0, 0, 0, 0, 0, 0, 0, 0, 0, 0, 0, 0, 0, 0, 0, 0, 0, 0, 0, 0, 0, 0, 0, 0, 0, 0, 0, 0, 0, 0, 0, 0, 0, 0, 0, 0, 0, 0, 0, 0, 0, 0, 0, 0, 0, 0, 0, 0, 0, 0, 0, 0, 0, 0, 0, 0, 0, 0, 0, 0, 0, 0, 0, 0, 0, 0, 0, 0, 0, 0, 0, 0, 0, 0, 0, 0, 0, 0, 0, 0, 0, 0, 0, 0, 0, 0, 0, 0, 0, 0, 0, 0, 0, 0, 0, 0, 0, 0, 0, 0, 0, 0, 0, 0, 0, 0, 0, 0, 0, 0, 1, 0, 0, 0, 0, 0, 0, 0, 0, 0, 0, 0, 0, 0, 0, 0, 0, 0, 0, 0, 0, 0, 0, 0, 0, 0, 0, 0, 0, 0, 0, 0, 0, 0, 0, 0, 2, 0, 0, 0, 0, 0, 0, 0, 0, 0, 0, 0, 0, 0, 0, 0, 0, 0, 0, 0, 0, 0, 0, 0, 0, 0, 0, 0, 0, 0, 0, 0, 0, 0, 0, 0, 0, 0, 0, 0, 0, 1, 0, 0, 0, 0, 0, 0, 0, 0, 0, 0, 0, 0, 0, 0, 0, 0, 0, 0, 0, 0, 0, 0, 0, 0, 0, 0, 0, 0, 0, 0, 0, 0, 0, 0, 0, 0, 0, 0, 0, 0, 0, 0, 0, 0, 0, 0, 0, 0, 0, 0, 0, 0, 0, 0, 0, 0, 0, 0, 0, 0, 0, 0, 0, 0, 0, 0, 0, 0, 0, 0, 0, 0, 0, 0, 0, 0, 0, 0, 0, 0, 0, 0, 0, 0, 0, 0, 0, 0, 0, 0, 0, 0, 0, 0, 0, 0, 0, 0, 0, 0, 0, 0, 0, 0, 0, 0, 0, 0, 0, 0, 0, 0, 0, 0, 0, 0, 0, 0, 0, 0, 0, 0, 0, 0, 0, 0, 0, 0, 0, 0, 0, 0, 0, 0, 0, 0, 0, 0, 0, 0, 0, 0, 0, 0, 0, 0, 0, 0, 0, 0, 0, 0, 0, 0, 0, 0, 0, 0, 0, 0, 0, 0, 0, 0, 0, 0, 0, 0, 0, 0, 0, 0, 0, 0, 0, 0, 0, 0, 0, 0, 0, 0, 0, 0, 0, 0, 0, 0, 0, 0, 0, 0, 0, 0, 0, 0, 0, 0, 0, 0, 0, 0, 0, 0, 0, 0, 0, 0, 0, 0, 0, 0, 0, 0, 0, 0, 0, 0, 0, 0, 0, 0, 0, 0, 0, 0, 0, 0, 0, 0, 0, 0, 0, 0, 0, 0, 0, 0, 0, 0, 0, 0, 0, 0, 0, 0, 0, 0, 0, 0, 0, 0, 0, 0, 0, 0, 0, 0, 0, 0, 0, 0, 0, 0, 0, 0, 0, 0, 0, 0, 0, 0, 0, 0, 0, 0, 0, 0, 0, 0, 0, 0, 0, 0, 0, 0, 0, 0, 0, 0, 0, 0, 0, 0, 0, 0, 0, 0, 0, 0, 0, 0, 0, 0, 0, 0, 0, 0, 0, 0, 0, 0, 0, 0, 0, 0, 0, 0, 0, 0, 0, 0, 0, 0, 0, 0, 0, 0, 0, 0, 0, 0, 0, 0, 0, 0, 0, 0, 0, 0, 0, 0, 0, 0, 0, 0, 0, 0, 0, 0, 0, 0, 0, 0, 0, 0, 0, 0, 0, 0, 0, 0, 0, 0, 0, 0, 0, 0, 0, 0, 0, 0, 0, 0, 0, 0, 0, 0, 0, 0, 0, 0, 0, 0, 0, 0, 0, 0, 0, 0, 0, 0, 0, 0, 0, 0, 0, 0, 0, 0, 0, 0, 0, 0, 0, 0, 0, 0, 0, 0, 0, 0, 0, 0, 0, 0, 0, 0, 0, 0, 0, 0, 0, 0, 0, 0, 0, 0, 0, 0, 0, 0, 0, 0, 0, 0, 0, 0, 0, 0, 0, 0, 0, 0, 0, 0, 0, 0, 0, 0, 0, 0, 0, 0, 0, 0, 0, 0, 0, 0, 0, 0, 0, 0, 0, 0, 0, 0, 0, 0, 0, 0, 0, 0, 0, 0, 0, 0, 0, 0, 0, 0, 0, 0, 0, 0, 0, 0, 0, 0, 0, 0, 0, 0, 0, 0, 0, 1, 0, 0, 0, 0, 0, 0, 0, 0, 0, 0, 0, 0, 0, 0, 0, 0, 0, 0, 0, 0, 0, 0, 0, 0, 0, 0, 0, 0, 0, 0, 0, 0, 0, 0, 0, 0, 0, 0, 0, 0, 0, 0, 0, 0, 0, 0, 0, 0, 0, 0, 0, 0, 0, 0, 0, 0, 0, 0, 0, 0, 0, 0, 0, 0, 0, 0, 0, 0, 0, 0, 0, 0, 0, 0, 0, 0, 0, 0, 0, 0, 0, 0, 0, 0, 0, 0, 0, 0, 0, 0, 0, 0, 0, 0, 0, 0, 0, 0, 0, 0, 0, 0, 0, 0, 0, 0, 0, 0, 0, 0, 2, 0, 0, 0, 0, 0, 0, 0, 0, 0, 0, 0, 0, 0, 0, 0, 0, 0, 0, 0, 0, 0, 0, 0, 0, 0, 0, 0, 0, 0, 0, 0, 0, 0, 0, 0, 0, 0, 0, 0, 0, 0, 0, 0, 0, 0, 0, 0, 0, 0, 0, 0, 0, 0, 0, 0, 0, 0, 0, 0, 0, 0, 0, 0, 0, 0, 0, 0, 0, 0, 0, 0, 0, 0, 0, 0, 0, 0, 0, 0, 0, 0, 0, 0, 0, 0, 0, 0, 0, 0, 0, 0, 0, 0, 0, 0, 0, 0, 0, 0, 0, 0, 0, 0, 0, 0, 0, 0, 0, 0, 0, 0, 0, 0, 0, 0, 0, 0, 0, 0, 0, 0, 0, 0, 0, 0, 0, 0, 0, 0, 0, 0, 0, 0, 0, 0, 0, 0, 0, 0, 0, 0, 0, 0, 0, 0, 0, 0, 0, 0, 0, 0, 0, 0, 0, 0, 0, 0, 0, 0, 0, 0, 0, 0, 0, 0, 0, 0, 0, 0, 0, 0, 0, 0, 0, 0, 0, 0, 0, 0, 0, 0, 0, 0, 0, 0, 0, 0, 0, 0, 0, 0, 0, 0, 0, 0, 0, 0, 0, 0, 0, 0, 0, 0, 0, 0, 0, 0, 0, 0, 0, 0, 0, 0, 0, 0, 0, 0, 0, 0, 0, 0, 0, 0, 0, 0, 0, 0, 0, 0, 0, 0, 0, 0, 0, 0, 0, 0, 0, 0, 0, 0, 0, 0, 0, 0, 0, 0, 0, 0, 0, 0, 0, 0, 0, 0, 0, 0, 0, 0, 0, 0, 0, 0, 0, 0, 0, 0, 0, 0, 0, 0, 0, 0, 0, 0, 0, 0, 0, 0, 0, 0, 0, 0, 0, 0, 0, 0, 0, 0, 0, 0, 0, 0, 0, 0, 0, 0, 0, 0, 0, 0, 0, 0, 0, 0, 0, 0, 0, 0, 0, 0, 0, 0, 0, 0, 0, 0, 0, 0, 0, 0, 0, 0, 0, 0, 0, 0, 0, 0, 0, 0, 0, 0, 0, 0, 0, 0, 0, 0, 0, 0, 0, 0, 0, 0, 0, 0, 0, 0, 0, 0, 0, 0, 0, 0, 0, 0, 0, 0, 0, 0, 0, 0, 0, 0, 0, 0, 0, 0, 0, 0, 0, 0, 0, 0, 0, 0, 0, 0, 0, 0, 0, 0, 0, 0, 0, 0, 0, 0, 0, 0, 0, 0, 0, 0, 0, 0, 0, 0, 0, 0, 0, 0, 0, 0, 0, 0, 0, 0, 0, 0, 0, 0, 0, 0, 0, 0, 0, 0, 0, 0, 0, 0, 0, 0, 0, 0, 0, 0, 0, 0, 0, 0, 0, 0, 0, 0, 0, 0, 0, 0, 0, 0, 0, 0, 0, 0, 0, 0, 0, 0, 0, 0, 0, 0, 0, 0, 0, 0, 0, 0, 0, 0, 0, 0, 0, 0, 0, 0, 0, 0, 0, 0, 0, 0, 0, 0, 0, 0, 0, 0, 0, 0, 0, 0, 0, 0, 0, 0, 0, 0, 0, 0, 0, 0, 0, 0, 0, 0, 0, 0, 0, 0, 0, 0, 0, 0, 0, 0, 0, 0, 0, 0, 0, 0, 0, 0, 0, 0, 0, 0, 0, 0, 0, 0, 0, 0, 0, 0, 0, 0, 0, 0, 0, 0, 0, 0, 0, 0, 0, 0, 0, 0, 0, 0, 0, 0, 0, 0, 0, 0, 0, 0, 0, 0, 0, 0, 0, 0, 0, 0, 0, 0, 0, 0, 0, 0, 0, 0, 0, 0, 0, 0, 0, 0, 0, 0, 0, 0, 0, 0, 0, 0, 0, 0, 0, 0, 0, 0, 0, 0, 0, 0, 0, 0, 0, 0, 0, 0, 0, 0, 0, 0, 0, 0, 0, 0, 0, 0, 0, 0, 0, 0, 0, 0, 0, 0, 0, 0, 0, 0, 0, 0, 0, 0, 0, 0, 0, 0, 0, 0, 0, 0, 0, 0, 0, 0, 0, 0, 0, 0, 0, 0, 0, 0, 0, 0, 0, 0, 0, 0, 0, 0, 0, 0, 0, 0, 0, 0, 0, 0, 0, 0, 0, 0, 0, 0, 0, 0, 0, 0, 0, 0, 0, 0, 0, 0, 0, 0, 0, 0, 0, 0, 0, 0, 0, 0, 0, 0, 0, 1, 0, 0, 0, 0, 0, 0, 0, 0, 0, 0, 0, 0, 0, 0, 0, 0, 0, 0, 0, 0, 0, 0, 0, 0, 0, 0, 0, 0, 0, 0, 0, 0, 0, 0, 0, 0, 0, 0, 0, 0, 0, 0, 0, 0, 0, 0, 0, 0, 0, 0, 0, 0, 0, 0, 0, 0, 0, 0, 0, 0, 0, 0, 0, 0, 0, 0, 0, 0, 0, 0, 0, 0, 0, 0, 0, 0, 0, 0, 0, 0, 0, 0, 0, 0, 0, 0, 0, 0, 0, 0, 0, 0, 0, 0, 0, 0, 0, 0, 0, 0, 0, 0, 0, 0, 0, 0, 0, 1, 0, 0, 0, 0, 0, 0, 0, 0, 0, 0, 0, 0, 0, 0, 0, 0, 0, 0, 0, 0, 0, 0, 0, 0, 0, 0, 0, 0, 0, 0, 0, 0, 0, 0, 0, 0, 0, 0, 0, 0, 0, 0, 0, 0, 0, 0, 0, 0, 0, 0, 0, 0, 0, 0, 0, 0, 0, 0, 0, 0, 0, 0, 0, 0, 0, 0, 0, 0, 0, 0, 0, 0, 0, 0, 0, 0, 0, 0, 0, 0, 0, 0, 0, 0, 0, 0, 0, 0, 0, 0, 0, 0, 0, 0, 0, 0, 0, 0, 0, 0, 0, 0, 0, 0, 0, 0, 0, 0, 0, 0, 0, 0, 0, 0, 0, 0, 0, 0, 0, 0, 0, 0, 0, 0, 0, 0, 0, 0, 0, 0, 0, 0, 0, 0, 0, 0, 0, 0, 0, 0, 0, 0, 0, 0, 0, 0, 0, 0, 0, 0, 0, 0, 0, 0, 0, 0, 0, 0, 0, 0, 0, 0, 0, 0, 0, 0, 0, 0, 0, 0, 0, 0, 0, 0, 0, 0, 0, 0, 0, 0, 0, 0, 0, 0, 0, 0, 0, 0, 0, 0, 0, 0, 0, 0, 0, 0, 0, 0, 0, 0, 0, 0, 0, 0, 0, 0, 0, 0, 0, 0, 0, 0, 0, 0, 0, 0, 0, 0, 0, 0, 0, 0, 0, 0, 0, 0, 0, 0, 0, 0, 0, 0, 0, 0, 0, 0, 0, 0, 0, 0, 0, 0, 0, 0, 0, 0, 0, 0, 0, 0, 0, 0, 0, 0, 0, 0, 0, 0, 0, 0, 0, 0, 0, 0, 0, 0, 0, 0, 0, 0, 0, 0, 0, 0, 0, 0, 0, 0, 0, 0, 0, 0, 0, 0, 0, 0, 0, 0, 0, 0, 0, 0, 0, 0, 0, 0, 0, 0, 0, 0, 0, 0, 0, 0, 0, 0, 0, 0, 0, 0, 0, 0, 0, 0, 0, 0, 0, 0, 0, 0, 0, 0, 0, 0, 0, 0, 0, 0, 0, 0, 0, 0, 0, 0, 0, 0, 0, 0, 0, 0, 0, 0, 0, 0, 0, 0, 0, 0, 0, 0, 0, 0, 0, 0, 0, 0, 0, 0, 0, 0, 0, 0, 0, 0, 0, 0, 0, 0, 0, 0, 0, 0, 0, 0, 0, 0, 0, 0, 0, 0, 0, 0, 0, 0, 0, 0, 0, 0, 0, 0, 0, 0, 0, 0, 0, 0, 0, 0, 0, 0, 0, 0, 0, 0, 0, 0, 0, 0, 0, 0, 0, 0, 0, 0, 0, 0, 0, 0, 0, 0, 0, 0, 0, 0, 0, 0, 0, 0, 0, 0, 0, 0, 0, 0, 0, 0, 0, 0, 0, 0, 0, 0, 0, 0, 0, 0, 0, 0, 0, 0, 0, 0, 0, 0, 0, 0, 0, 0, 0, 0, 0, 0, 0, 2, 0, 1, 0]\n"
     ]
    }
   ],
   "source": [
    "test_bow = bow_encoding(test_words, vocabulary)\n",
    "print(test_bow)"
   ]
  },
  {
   "cell_type": "code",
   "execution_count": 40,
   "metadata": {},
   "outputs": [
    {
     "data": {
      "text/plain": [
       "5000"
      ]
     },
     "execution_count": 40,
     "metadata": {},
     "output_type": "execute_result"
    }
   ],
   "source": [
    "len(test_bow)"
   ]
  },
  {
   "cell_type": "markdown",
   "metadata": {},
   "source": [
    "So now we know how to construct a bag of words encoding of a user provided review, how to we send it to our endpoint? First, we need to start the endpoint back up."
   ]
  },
  {
   "cell_type": "code",
   "execution_count": 41,
   "metadata": {},
   "outputs": [
    {
     "name": "stderr",
     "output_type": "stream",
     "text": [
      "WARNING:sagemaker:Using already existing model: xgboost-2020-02-22-00-08-09-184\n"
     ]
    },
    {
     "name": "stdout",
     "output_type": "stream",
     "text": [
      "---------------------!"
     ]
    }
   ],
   "source": [
    "xgb_predictor = xgb.deploy(initial_instance_count = 1, instance_type = 'ml.m4.xlarge')"
   ]
  },
  {
   "cell_type": "markdown",
   "metadata": {},
   "source": [
    "At this point we could just do the same thing that we did earlier when we tested our deployed model and send `test_bow` to our endpoint using the `xgb_predictor` object. However, when we eventually construct our Lambda function we won't have access to this object, so how do we call a SageMaker endpoint?\n",
    "\n",
    "It turns out that Python functions that are used in Lambda have access to another Amazon library called `boto3`. This library provides an API for working with Amazon services, including SageMaker. To start with, we need to get a handle to the SageMaker runtime."
   ]
  },
  {
   "cell_type": "code",
   "execution_count": 42,
   "metadata": {},
   "outputs": [],
   "source": [
    "import boto3\n",
    "\n",
    "runtime = boto3.Session().client('sagemaker-runtime')"
   ]
  },
  {
   "cell_type": "markdown",
   "metadata": {},
   "source": [
    "And now that we have access to the SageMaker runtime, we can ask it to make use of (invoke) an endpoint that has already been created. However, we need to provide SageMaker with the name of the deployed endpoint. To find this out we can print it out using the `xgb_predictor` object."
   ]
  },
  {
   "cell_type": "code",
   "execution_count": 43,
   "metadata": {},
   "outputs": [
    {
     "data": {
      "text/plain": [
       "'xgboost-2020-02-22-00-08-09-184'"
      ]
     },
     "execution_count": 43,
     "metadata": {},
     "output_type": "execute_result"
    }
   ],
   "source": [
    "xgb_predictor.endpoint"
   ]
  },
  {
   "cell_type": "markdown",
   "metadata": {},
   "source": [
    "Using the SageMaker runtime and the name of our endpoint, we can invoke the endpoint and send it the `test_bow` data."
   ]
  },
  {
   "cell_type": "code",
   "execution_count": 50,
   "metadata": {},
   "outputs": [
    {
     "ename": "ParamValidationError",
     "evalue": "Parameter validation failed:\nInvalid type for parameter Body, value: [0, 0, 0, 0, 0, 0, 0, 0, 0, 0, 0, 0, 0, 0, 0, 0, 0, 0, 0, 0, 0, 0, 0, 0, 0, 0, 0, 0, 0, 0, 0, 0, 0, 0, 0, 0, 0, 0, 0, 0, 0, 0, 0, 0, 0, 0, 0, 0, 0, 0, 0, 0, 0, 0, 0, 0, 0, 0, 0, 0, 0, 0, 0, 0, 0, 0, 0, 0, 0, 0, 0, 0, 0, 0, 0, 0, 0, 0, 0, 0, 0, 0, 0, 0, 0, 0, 0, 0, 0, 0, 0, 0, 0, 0, 0, 0, 0, 0, 0, 0, 0, 0, 0, 0, 0, 0, 0, 0, 0, 0, 0, 0, 0, 0, 0, 0, 0, 0, 0, 0, 0, 0, 0, 0, 0, 0, 0, 0, 0, 0, 0, 0, 0, 0, 0, 0, 0, 0, 0, 0, 0, 0, 0, 0, 0, 0, 0, 0, 0, 0, 0, 0, 0, 0, 0, 0, 0, 0, 0, 0, 0, 0, 0, 0, 0, 0, 0, 0, 0, 0, 0, 0, 0, 0, 0, 0, 0, 0, 0, 0, 0, 0, 0, 0, 0, 0, 0, 0, 0, 0, 0, 0, 0, 0, 0, 0, 0, 0, 0, 0, 0, 0, 0, 0, 0, 0, 0, 0, 0, 0, 0, 0, 0, 0, 0, 0, 0, 0, 0, 0, 0, 0, 0, 0, 0, 0, 1, 0, 0, 0, 0, 0, 0, 0, 0, 0, 0, 0, 0, 0, 0, 0, 0, 0, 0, 0, 0, 0, 0, 0, 0, 0, 0, 0, 0, 0, 1, 0, 0, 0, 0, 0, 0, 0, 0, 0, 0, 0, 0, 0, 0, 0, 0, 0, 0, 0, 0, 0, 0, 0, 0, 0, 0, 0, 0, 0, 0, 0, 0, 0, 0, 0, 0, 0, 0, 0, 0, 0, 0, 0, 0, 0, 0, 0, 0, 0, 0, 0, 0, 0, 0, 0, 0, 0, 0, 0, 0, 0, 0, 0, 0, 0, 0, 0, 0, 0, 0, 0, 0, 0, 0, 0, 0, 0, 0, 0, 0, 0, 0, 0, 0, 0, 0, 0, 0, 0, 0, 0, 0, 0, 0, 0, 0, 0, 0, 0, 0, 0, 0, 0, 0, 0, 0, 0, 0, 0, 0, 0, 0, 0, 0, 0, 0, 0, 0, 0, 0, 0, 0, 0, 0, 0, 0, 0, 0, 0, 0, 0, 0, 0, 0, 0, 0, 0, 0, 0, 0, 0, 0, 0, 0, 0, 0, 0, 0, 0, 0, 0, 0, 0, 0, 0, 0, 0, 0, 0, 0, 0, 0, 0, 0, 0, 0, 0, 0, 0, 0, 0, 0, 0, 0, 0, 0, 0, 0, 0, 0, 0, 0, 0, 0, 0, 0, 0, 0, 0, 0, 0, 0, 0, 0, 0, 0, 0, 0, 0, 0, 0, 0, 0, 0, 0, 0, 0, 0, 0, 0, 0, 0, 0, 0, 0, 0, 0, 0, 0, 0, 0, 0, 0, 0, 0, 0, 0, 0, 0, 0, 0, 0, 0, 0, 0, 0, 0, 0, 0, 0, 0, 0, 0, 0, 0, 0, 0, 0, 0, 0, 0, 0, 0, 0, 0, 0, 0, 0, 0, 0, 0, 0, 0, 0, 0, 0, 0, 0, 0, 0, 0, 0, 0, 0, 0, 0, 0, 0, 0, 0, 0, 0, 0, 0, 0, 0, 0, 0, 0, 0, 0, 0, 0, 0, 0, 0, 0, 0, 0, 0, 0, 0, 0, 0, 0, 0, 0, 0, 0, 0, 0, 0, 0, 0, 0, 0, 0, 0, 0, 0, 0, 0, 0, 0, 0, 0, 0, 0, 0, 0, 0, 0, 0, 0, 0, 0, 0, 0, 0, 0, 0, 0, 0, 0, 0, 0, 0, 0, 0, 0, 0, 0, 0, 0, 0, 0, 0, 0, 0, 0, 0, 0, 0, 0, 0, 0, 0, 0, 0, 0, 0, 0, 0, 0, 0, 0, 0, 0, 0, 1, 0, 0, 0, 0, 0, 0, 0, 0, 0, 0, 0, 0, 0, 0, 0, 0, 0, 0, 0, 0, 0, 0, 0, 0, 0, 0, 0, 0, 0, 0, 0, 0, 0, 0, 0, 0, 0, 0, 0, 0, 0, 0, 0, 0, 0, 0, 0, 0, 0, 0, 0, 0, 0, 0, 0, 0, 0, 0, 0, 0, 0, 0, 0, 0, 0, 0, 0, 0, 0, 0, 0, 0, 0, 0, 0, 0, 0, 0, 0, 0, 0, 0, 0, 0, 0, 0, 0, 0, 0, 0, 0, 0, 0, 0, 0, 0, 0, 0, 0, 0, 0, 0, 0, 0, 0, 0, 0, 0, 0, 0, 0, 0, 0, 0, 0, 0, 0, 0, 0, 0, 0, 0, 0, 0, 0, 0, 0, 0, 0, 0, 0, 0, 0, 0, 0, 0, 0, 0, 0, 0, 0, 0, 0, 0, 0, 0, 0, 0, 0, 0, 0, 0, 0, 0, 0, 0, 0, 0, 0, 0, 0, 0, 0, 0, 0, 0, 0, 0, 0, 0, 0, 0, 0, 0, 0, 0, 0, 0, 0, 0, 0, 0, 0, 0, 0, 0, 0, 0, 0, 0, 0, 0, 0, 0, 0, 0, 0, 0, 0, 0, 0, 0, 0, 0, 0, 0, 0, 0, 0, 0, 0, 0, 0, 0, 0, 0, 0, 0, 0, 0, 0, 0, 0, 0, 0, 0, 0, 0, 0, 0, 0, 0, 0, 0, 0, 0, 0, 0, 0, 0, 0, 0, 0, 0, 0, 0, 0, 0, 0, 0, 0, 0, 0, 1, 0, 0, 0, 0, 0, 0, 0, 0, 0, 0, 0, 0, 0, 0, 0, 0, 0, 0, 0, 0, 0, 0, 0, 0, 0, 0, 0, 0, 0, 0, 0, 0, 0, 0, 0, 0, 0, 0, 0, 0, 0, 0, 0, 0, 0, 0, 0, 0, 0, 0, 0, 0, 0, 0, 0, 0, 0, 0, 0, 0, 0, 0, 0, 0, 0, 0, 0, 0, 0, 0, 0, 0, 0, 0, 0, 0, 0, 0, 0, 0, 0, 0, 0, 0, 0, 0, 1, 0, 0, 0, 0, 0, 0, 0, 0, 0, 0, 0, 0, 0, 0, 0, 0, 0, 0, 0, 0, 0, 0, 0, 0, 0, 0, 0, 0, 0, 0, 0, 0, 0, 0, 0, 0, 0, 0, 0, 0, 0, 0, 0, 0, 0, 0, 0, 0, 0, 0, 0, 0, 0, 0, 0, 0, 0, 0, 0, 0, 0, 0, 0, 0, 0, 0, 0, 0, 0, 0, 0, 0, 0, 0, 0, 0, 0, 0, 0, 0, 0, 0, 0, 0, 0, 0, 0, 0, 0, 0, 0, 0, 0, 0, 0, 0, 0, 0, 0, 0, 0, 0, 0, 0, 0, 0, 0, 0, 0, 0, 0, 0, 0, 0, 0, 0, 0, 0, 0, 0, 0, 0, 0, 0, 0, 0, 0, 0, 0, 0, 0, 0, 0, 0, 0, 0, 0, 0, 0, 0, 0, 0, 0, 0, 0, 0, 0, 0, 0, 0, 0, 0, 0, 0, 0, 0, 0, 0, 0, 0, 0, 0, 0, 0, 0, 0, 0, 0, 0, 0, 0, 0, 0, 0, 0, 0, 0, 0, 0, 0, 0, 0, 0, 0, 0, 0, 0, 0, 0, 0, 0, 0, 0, 0, 0, 0, 0, 0, 0, 0, 0, 0, 0, 0, 0, 0, 0, 0, 0, 0, 0, 0, 0, 0, 0, 0, 0, 0, 0, 0, 0, 0, 0, 0, 0, 0, 0, 0, 0, 0, 0, 0, 0, 0, 0, 0, 0, 0, 0, 0, 0, 0, 0, 0, 0, 0, 0, 0, 0, 0, 0, 0, 1, 0, 0, 0, 0, 0, 0, 0, 0, 0, 0, 0, 0, 0, 0, 0, 0, 0, 0, 0, 0, 0, 0, 0, 0, 0, 0, 0, 0, 0, 0, 0, 0, 0, 0, 0, 0, 0, 0, 0, 0, 0, 0, 0, 0, 0, 0, 0, 0, 0, 0, 0, 0, 0, 0, 0, 1, 0, 0, 0, 0, 0, 0, 0, 0, 0, 0, 0, 0, 0, 0, 0, 0, 0, 0, 0, 0, 0, 0, 0, 0, 0, 0, 0, 0, 0, 0, 0, 0, 0, 0, 0, 0, 0, 0, 0, 0, 0, 0, 0, 0, 0, 0, 0, 0, 0, 0, 0, 0, 0, 0, 0, 0, 0, 0, 0, 0, 0, 0, 0, 0, 0, 0, 0, 0, 0, 0, 0, 0, 0, 0, 0, 0, 0, 0, 0, 0, 0, 0, 0, 0, 0, 0, 0, 0, 0, 0, 0, 0, 0, 0, 0, 0, 0, 0, 0, 0, 0, 0, 0, 0, 0, 0, 0, 0, 0, 0, 0, 0, 0, 0, 0, 0, 0, 0, 0, 0, 0, 0, 0, 0, 0, 0, 0, 0, 0, 0, 0, 0, 0, 0, 0, 0, 0, 0, 0, 0, 0, 0, 0, 0, 0, 0, 0, 0, 0, 0, 0, 0, 0, 0, 0, 0, 0, 0, 0, 0, 0, 0, 0, 0, 0, 0, 0, 0, 0, 0, 0, 0, 0, 0, 0, 0, 0, 0, 0, 0, 0, 0, 0, 0, 0, 0, 0, 0, 0, 0, 0, 0, 0, 0, 0, 0, 0, 0, 0, 0, 0, 0, 0, 0, 0, 0, 0, 0, 0, 0, 0, 0, 0, 0, 0, 0, 0, 0, 0, 0, 0, 0, 0, 0, 0, 0, 0, 0, 0, 0, 0, 0, 0, 0, 0, 0, 0, 0, 0, 0, 0, 0, 0, 0, 0, 0, 0, 0, 0, 0, 0, 0, 0, 0, 0, 0, 0, 0, 0, 0, 0, 0, 0, 0, 0, 0, 0, 0, 0, 0, 0, 0, 0, 0, 0, 0, 0, 0, 0, 0, 0, 0, 0, 0, 0, 0, 0, 0, 0, 0, 0, 0, 0, 0, 0, 0, 0, 0, 0, 0, 0, 0, 0, 0, 0, 0, 0, 0, 0, 0, 0, 0, 0, 0, 0, 0, 0, 0, 0, 0, 0, 0, 0, 0, 0, 0, 0, 0, 0, 0, 0, 0, 0, 0, 0, 0, 0, 0, 0, 0, 0, 0, 0, 0, 0, 0, 0, 0, 0, 0, 0, 0, 0, 0, 0, 0, 0, 0, 0, 0, 0, 0, 0, 0, 0, 0, 0, 0, 0, 0, 0, 0, 0, 0, 0, 0, 0, 0, 0, 0, 0, 0, 0, 0, 0, 0, 0, 0, 0, 0, 0, 0, 0, 0, 0, 0, 0, 0, 0, 0, 0, 0, 0, 0, 0, 0, 0, 0, 0, 0, 0, 0, 0, 0, 0, 0, 0, 0, 0, 0, 0, 0, 0, 0, 0, 0, 0, 0, 0, 0, 0, 0, 0, 0, 0, 0, 0, 0, 0, 0, 0, 0, 0, 0, 0, 0, 0, 0, 0, 0, 0, 0, 0, 0, 0, 0, 0, 0, 0, 0, 0, 0, 0, 0, 0, 0, 0, 0, 0, 0, 0, 0, 0, 0, 0, 0, 0, 0, 0, 0, 0, 0, 0, 0, 0, 0, 0, 0, 0, 0, 0, 0, 0, 0, 0, 0, 0, 0, 0, 0, 0, 0, 0, 0, 0, 0, 0, 0, 0, 0, 0, 0, 0, 0, 0, 0, 0, 0, 0, 0, 0, 0, 0, 0, 0, 0, 0, 0, 0, 0, 0, 0, 0, 0, 0, 0, 0, 0, 0, 0, 0, 0, 0, 0, 0, 0, 0, 0, 0, 0, 0, 0, 0, 0, 0, 0, 0, 0, 0, 0, 0, 0, 0, 0, 0, 0, 0, 0, 0, 0, 0, 0, 0, 0, 0, 0, 0, 0, 0, 0, 0, 0, 0, 0, 0, 0, 0, 0, 0, 0, 0, 0, 0, 0, 0, 0, 0, 0, 0, 0, 0, 0, 0, 0, 0, 0, 0, 0, 0, 0, 0, 0, 0, 0, 0, 0, 0, 0, 0, 0, 0, 0, 0, 0, 0, 0, 0, 0, 0, 0, 0, 0, 0, 0, 0, 0, 0, 0, 0, 0, 0, 0, 0, 0, 0, 0, 0, 0, 0, 0, 0, 0, 0, 0, 0, 0, 0, 0, 0, 0, 0, 0, 0, 0, 0, 0, 0, 0, 0, 0, 0, 0, 0, 0, 0, 0, 0, 0, 0, 0, 0, 1, 0, 0, 0, 0, 0, 0, 0, 0, 0, 0, 0, 0, 0, 0, 0, 0, 0, 0, 0, 0, 0, 0, 0, 0, 0, 0, 0, 0, 0, 0, 0, 0, 0, 0, 0, 0, 0, 0, 0, 0, 0, 0, 0, 0, 0, 0, 0, 0, 0, 0, 0, 0, 0, 0, 0, 0, 0, 0, 0, 0, 0, 0, 0, 0, 0, 0, 0, 0, 0, 0, 0, 0, 0, 0, 1, 0, 0, 0, 0, 0, 0, 0, 0, 0, 0, 0, 0, 0, 0, 0, 0, 0, 0, 0, 0, 1, 0, 0, 1, 0, 0, 0, 0, 0, 0, 0, 0, 0, 0, 0, 0, 0, 0, 0, 0, 0, 0, 0, 0, 0, 0, 0, 0, 0, 0, 0, 0, 0, 0, 0, 0, 0, 0, 0, 0, 0, 0, 0, 0, 0, 0, 0, 0, 0, 0, 0, 0, 0, 0, 0, 0, 0, 0, 0, 0, 0, 0, 0, 0, 0, 0, 0, 0, 0, 0, 0, 0, 0, 0, 0, 0, 0, 0, 0, 0, 0, 0, 0, 0, 0, 0, 0, 0, 0, 0, 0, 0, 0, 0, 0, 0, 0, 0, 0, 0, 0, 0, 0, 0, 0, 0, 0, 0, 0, 0, 0, 0, 0, 0, 0, 0, 0, 0, 0, 0, 0, 0, 0, 0, 0, 0, 0, 0, 0, 0, 0, 0, 0, 0, 0, 0, 0, 0, 0, 0, 0, 0, 0, 0, 0, 0, 0, 0, 0, 0, 0, 0, 0, 0, 0, 0, 0, 0, 0, 0, 0, 0, 0, 0, 0, 0, 0, 0, 0, 0, 0, 0, 0, 0, 0, 0, 0, 0, 0, 0, 0, 0, 0, 0, 0, 0, 0, 0, 0, 0, 0, 0, 0, 0, 0, 0, 0, 0, 0, 0, 0, 0, 0, 0, 0, 0, 0, 0, 0, 0, 0, 0, 0, 0, 0, 0, 0, 0, 0, 0, 0, 0, 0, 0, 0, 0, 0, 0, 0, 0, 0, 0, 0, 0, 0, 0, 0, 0, 0, 0, 0, 0, 0, 0, 0, 0, 0, 0, 0, 0, 0, 0, 0, 0, 0, 0, 0, 0, 0, 0, 0, 0, 0, 0, 0, 0, 0, 0, 0, 0, 0, 0, 0, 0, 0, 0, 0, 0, 0, 0, 0, 0, 0, 0, 0, 0, 0, 0, 0, 0, 0, 0, 0, 0, 0, 0, 0, 0, 0, 0, 0, 0, 0, 0, 0, 0, 0, 0, 0, 0, 0, 0, 0, 0, 0, 0, 0, 0, 0, 0, 0, 0, 0, 0, 0, 0, 0, 0, 0, 0, 0, 0, 0, 0, 0, 0, 0, 0, 0, 0, 0, 0, 0, 0, 0, 0, 0, 0, 0, 0, 0, 0, 0, 0, 0, 0, 0, 0, 0, 0, 0, 0, 0, 0, 0, 0, 0, 0, 0, 0, 0, 0, 0, 0, 0, 0, 0, 0, 0, 0, 0, 0, 0, 0, 0, 0, 0, 0, 0, 0, 0, 0, 0, 0, 0, 0, 0, 0, 0, 0, 0, 0, 0, 0, 0, 0, 0, 0, 0, 0, 0, 0, 0, 0, 0, 0, 0, 0, 0, 0, 0, 0, 0, 0, 0, 0, 0, 0, 0, 0, 0, 0, 0, 0, 0, 0, 0, 0, 0, 0, 0, 0, 0, 0, 0, 0, 0, 0, 0, 0, 0, 0, 0, 0, 0, 0, 0, 0, 0, 0, 0, 0, 0, 0, 0, 0, 0, 0, 0, 0, 1, 0, 0, 0, 0, 0, 0, 0, 0, 0, 0, 0, 0, 0, 0, 0, 0, 0, 0, 0, 0, 0, 0, 0, 0, 0, 0, 0, 0, 0, 0, 0, 0, 0, 0, 0, 0, 0, 0, 0, 0, 0, 0, 0, 0, 0, 0, 0, 0, 0, 0, 0, 0, 0, 0, 0, 0, 0, 0, 0, 0, 0, 0, 0, 0, 0, 0, 0, 0, 0, 0, 0, 0, 0, 0, 0, 0, 0, 0, 0, 0, 0, 0, 0, 0, 0, 0, 0, 0, 0, 0, 0, 0, 0, 0, 0, 0, 0, 0, 0, 0, 0, 0, 0, 0, 0, 0, 0, 0, 0, 0, 0, 0, 0, 0, 0, 0, 0, 0, 0, 0, 0, 0, 0, 0, 0, 0, 0, 0, 0, 0, 0, 0, 0, 0, 0, 0, 0, 0, 0, 0, 0, 0, 0, 0, 0, 0, 0, 0, 0, 0, 0, 0, 0, 0, 0, 0, 0, 0, 0, 0, 0, 0, 0, 0, 0, 0, 0, 0, 0, 0, 0, 0, 0, 0, 0, 0, 0, 0, 0, 0, 0, 0, 0, 0, 0, 0, 0, 0, 0, 0, 0, 0, 0, 0, 0, 0, 0, 0, 0, 0, 0, 0, 0, 0, 0, 0, 0, 0, 0, 0, 0, 0, 0, 0, 0, 0, 0, 0, 0, 0, 0, 0, 0, 0, 0, 0, 0, 0, 0, 0, 0, 0, 0, 0, 0, 0, 0, 0, 0, 0, 0, 0, 0, 0, 0, 0, 0, 0, 0, 0, 0, 0, 0, 0, 0, 0, 0, 0, 0, 0, 0, 0, 0, 0, 0, 0, 0, 0, 0, 0, 0, 0, 0, 0, 0, 0, 0, 0, 0, 0, 0, 0, 0, 0, 0, 0, 0, 0, 0, 0, 0, 0, 0, 0, 0, 0, 0, 0, 0, 0, 0, 0, 0, 0, 0, 0, 0, 0, 0, 0, 0, 0, 0, 0, 0, 0, 0, 0, 0, 0, 0, 0, 0, 0, 0, 0, 0, 0, 0, 0, 0, 0, 0, 0, 0, 0, 0, 0, 0, 0, 0, 0, 0, 0, 0, 0, 0, 0, 0, 0, 0, 0, 0, 0, 0, 0, 0, 0, 0, 0, 0, 0, 0, 0, 0, 0, 0, 0, 0, 0, 0, 0, 0, 0, 0, 0, 0, 0, 0, 0, 0, 0, 0, 0, 0, 0, 0, 0, 0, 0, 0, 0, 0, 0, 0, 0, 0, 0, 0, 0, 0, 0, 0, 0, 0, 0, 0, 0, 0, 0, 0, 0, 0, 0, 0, 0, 0, 0, 0, 0, 0, 0, 0, 0, 0, 0, 0, 0, 0, 0, 0, 0, 0, 0, 0, 0, 0, 0, 0, 0, 0, 0, 0, 0, 0, 0, 0, 0, 0, 0, 0, 0, 0, 0, 0, 0, 0, 0, 0, 0, 0, 0, 0, 0, 0, 0, 0, 0, 0, 0, 0, 0, 0, 0, 0, 0, 0, 0, 0, 0, 0, 0, 0, 0, 0, 0, 0, 0, 0, 0, 0, 0, 0, 0, 0, 0, 0, 0, 0, 0, 0, 0, 0, 0, 0, 0, 0, 0, 0, 0, 0, 0, 1, 0, 0, 0, 0, 0, 0, 0, 0, 0, 0, 0, 0, 0, 0, 0, 0, 0, 0, 0, 0, 0, 0, 0, 0, 0, 0, 0, 0, 0, 0, 0, 0, 0, 0, 0, 2, 0, 0, 0, 0, 0, 0, 0, 0, 0, 0, 0, 0, 0, 0, 0, 0, 0, 0, 0, 0, 0, 0, 0, 0, 0, 0, 0, 0, 0, 0, 0, 0, 0, 0, 0, 0, 0, 0, 0, 0, 1, 0, 0, 0, 0, 0, 0, 0, 0, 0, 0, 0, 0, 0, 0, 0, 0, 0, 0, 0, 0, 0, 0, 0, 0, 0, 0, 0, 0, 0, 0, 0, 0, 0, 0, 0, 0, 0, 0, 0, 0, 0, 0, 0, 0, 0, 0, 0, 0, 0, 0, 0, 0, 0, 0, 0, 0, 0, 0, 0, 0, 0, 0, 0, 0, 0, 0, 0, 0, 0, 0, 0, 0, 0, 0, 0, 0, 0, 0, 0, 0, 0, 0, 0, 0, 0, 0, 0, 0, 0, 0, 0, 0, 0, 0, 0, 0, 0, 0, 0, 0, 0, 0, 0, 0, 0, 0, 0, 0, 0, 0, 0, 0, 0, 0, 0, 0, 0, 0, 0, 0, 0, 0, 0, 0, 0, 0, 0, 0, 0, 0, 0, 0, 0, 0, 0, 0, 0, 0, 0, 0, 0, 0, 0, 0, 0, 0, 0, 0, 0, 0, 0, 0, 0, 0, 0, 0, 0, 0, 0, 0, 0, 0, 0, 0, 0, 0, 0, 0, 0, 0, 0, 0, 0, 0, 0, 0, 0, 0, 0, 0, 0, 0, 0, 0, 0, 0, 0, 0, 0, 0, 0, 0, 0, 0, 0, 0, 0, 0, 0, 0, 0, 0, 0, 0, 0, 0, 0, 0, 0, 0, 0, 0, 0, 0, 0, 0, 0, 0, 0, 0, 0, 0, 0, 0, 0, 0, 0, 0, 0, 0, 0, 0, 0, 0, 0, 0, 0, 0, 0, 0, 0, 0, 0, 0, 0, 0, 0, 0, 0, 0, 0, 0, 0, 0, 0, 0, 0, 0, 0, 0, 0, 0, 0, 0, 0, 0, 0, 0, 0, 0, 0, 0, 0, 0, 0, 0, 0, 0, 0, 0, 0, 0, 0, 0, 0, 0, 0, 0, 0, 0, 0, 0, 0, 0, 0, 0, 0, 0, 0, 0, 0, 0, 0, 0, 0, 0, 0, 0, 0, 0, 0, 0, 0, 0, 0, 0, 0, 0, 0, 0, 0, 0, 0, 0, 0, 0, 0, 0, 0, 0, 0, 0, 0, 0, 0, 0, 0, 0, 0, 0, 0, 0, 0, 0, 0, 0, 0, 0, 0, 0, 0, 0, 0, 0, 0, 0, 0, 0, 0, 0, 0, 0, 0, 0, 0, 0, 0, 0, 0, 0, 0, 0, 0, 0, 0, 0, 0, 0, 0, 0, 0, 0, 0, 0, 0, 0, 0, 0, 0, 0, 0, 0, 0, 0, 0, 0, 0, 0, 0, 0, 0, 0, 0, 0, 0, 0, 0, 0, 0, 0, 0, 0, 0, 0, 0, 0, 0, 0, 0, 0, 0, 0, 0, 0, 0, 0, 0, 0, 0, 0, 0, 0, 0, 0, 0, 0, 0, 0, 0, 0, 0, 0, 0, 0, 0, 0, 0, 0, 0, 0, 0, 0, 0, 0, 0, 0, 0, 0, 0, 0, 0, 0, 0, 0, 0, 0, 0, 0, 0, 0, 0, 0, 0, 0, 0, 0, 0, 0, 0, 0, 0, 0, 0, 0, 0, 0, 0, 0, 0, 0, 0, 0, 0, 0, 0, 0, 0, 1, 0, 0, 0, 0, 0, 0, 0, 0, 0, 0, 0, 0, 0, 0, 0, 0, 0, 0, 0, 0, 0, 0, 0, 0, 0, 0, 0, 0, 0, 0, 0, 0, 0, 0, 0, 0, 0, 0, 0, 0, 0, 0, 0, 0, 0, 0, 0, 0, 0, 0, 0, 0, 0, 0, 0, 0, 0, 0, 0, 0, 0, 0, 0, 0, 0, 0, 0, 0, 0, 0, 0, 0, 0, 0, 0, 0, 0, 0, 0, 0, 0, 0, 0, 0, 0, 0, 0, 0, 0, 0, 0, 0, 0, 0, 0, 0, 0, 0, 0, 0, 0, 0, 0, 0, 0, 0, 0, 0, 0, 0, 2, 0, 0, 0, 0, 0, 0, 0, 0, 0, 0, 0, 0, 0, 0, 0, 0, 0, 0, 0, 0, 0, 0, 0, 0, 0, 0, 0, 0, 0, 0, 0, 0, 0, 0, 0, 0, 0, 0, 0, 0, 0, 0, 0, 0, 0, 0, 0, 0, 0, 0, 0, 0, 0, 0, 0, 0, 0, 0, 0, 0, 0, 0, 0, 0, 0, 0, 0, 0, 0, 0, 0, 0, 0, 0, 0, 0, 0, 0, 0, 0, 0, 0, 0, 0, 0, 0, 0, 0, 0, 0, 0, 0, 0, 0, 0, 0, 0, 0, 0, 0, 0, 0, 0, 0, 0, 0, 0, 0, 0, 0, 0, 0, 0, 0, 0, 0, 0, 0, 0, 0, 0, 0, 0, 0, 0, 0, 0, 0, 0, 0, 0, 0, 0, 0, 0, 0, 0, 0, 0, 0, 0, 0, 0, 0, 0, 0, 0, 0, 0, 0, 0, 0, 0, 0, 0, 0, 0, 0, 0, 0, 0, 0, 0, 0, 0, 0, 0, 0, 0, 0, 0, 0, 0, 0, 0, 0, 0, 0, 0, 0, 0, 0, 0, 0, 0, 0, 0, 0, 0, 0, 0, 0, 0, 0, 0, 0, 0, 0, 0, 0, 0, 0, 0, 0, 0, 0, 0, 0, 0, 0, 0, 0, 0, 0, 0, 0, 0, 0, 0, 0, 0, 0, 0, 0, 0, 0, 0, 0, 0, 0, 0, 0, 0, 0, 0, 0, 0, 0, 0, 0, 0, 0, 0, 0, 0, 0, 0, 0, 0, 0, 0, 0, 0, 0, 0, 0, 0, 0, 0, 0, 0, 0, 0, 0, 0, 0, 0, 0, 0, 0, 0, 0, 0, 0, 0, 0, 0, 0, 0, 0, 0, 0, 0, 0, 0, 0, 0, 0, 0, 0, 0, 0, 0, 0, 0, 0, 0, 0, 0, 0, 0, 0, 0, 0, 0, 0, 0, 0, 0, 0, 0, 0, 0, 0, 0, 0, 0, 0, 0, 0, 0, 0, 0, 0, 0, 0, 0, 0, 0, 0, 0, 0, 0, 0, 0, 0, 0, 0, 0, 0, 0, 0, 0, 0, 0, 0, 0, 0, 0, 0, 0, 0, 0, 0, 0, 0, 0, 0, 0, 0, 0, 0, 0, 0, 0, 0, 0, 0, 0, 0, 0, 0, 0, 0, 0, 0, 0, 0, 0, 0, 0, 0, 0, 0, 0, 0, 0, 0, 0, 0, 0, 0, 0, 0, 0, 0, 0, 0, 0, 0, 0, 0, 0, 0, 0, 0, 0, 0, 0, 0, 0, 0, 0, 0, 0, 0, 0, 0, 0, 0, 0, 0, 0, 0, 0, 0, 0, 0, 0, 0, 0, 0, 0, 0, 0, 0, 0, 0, 0, 0, 0, 0, 0, 0, 0, 0, 0, 0, 0, 0, 0, 0, 0, 0, 0, 0, 0, 0, 0, 0, 0, 0, 0, 0, 0, 0, 0, 0, 0, 0, 0, 0, 0, 0, 0, 0, 0, 0, 0, 0, 0, 0, 0, 0, 0, 0, 0, 0, 0, 0, 0, 0, 0, 0, 0, 0, 0, 0, 0, 0, 0, 0, 0, 0, 0, 0, 0, 0, 0, 0, 0, 0, 0, 0, 0, 0, 0, 0, 0, 0, 0, 0, 0, 0, 0, 0, 0, 0, 0, 0, 0, 0, 0, 0, 0, 0, 0, 0, 0, 0, 0, 0, 0, 0, 0, 0, 0, 0, 0, 0, 0, 0, 0, 0, 0, 0, 0, 0, 0, 0, 0, 0, 0, 0, 0, 0, 0, 0, 0, 0, 0, 0, 0, 0, 0, 0, 0, 0, 0, 0, 0, 0, 0, 0, 0, 0, 0, 0, 0, 0, 0, 0, 0, 0, 0, 0, 0, 0, 0, 0, 0, 0, 0, 0, 0, 0, 0, 0, 0, 0, 0, 0, 0, 0, 0, 0, 0, 0, 0, 0, 0, 0, 0, 0, 0, 0, 0, 0, 0, 0, 0, 0, 0, 0, 0, 0, 0, 0, 0, 0, 0, 0, 0, 0, 0, 0, 0, 0, 0, 0, 0, 0, 0, 0, 0, 0, 0, 0, 0, 0, 0, 0, 0, 0, 0, 0, 0, 0, 0, 0, 0, 0, 0, 0, 0, 0, 0, 0, 0, 0, 0, 0, 0, 0, 0, 0, 0, 0, 0, 0, 1, 0, 0, 0, 0, 0, 0, 0, 0, 0, 0, 0, 0, 0, 0, 0, 0, 0, 0, 0, 0, 0, 0, 0, 0, 0, 0, 0, 0, 0, 0, 0, 0, 0, 0, 0, 0, 0, 0, 0, 0, 0, 0, 0, 0, 0, 0, 0, 0, 0, 0, 0, 0, 0, 0, 0, 0, 0, 0, 0, 0, 0, 0, 0, 0, 0, 0, 0, 0, 0, 0, 0, 0, 0, 0, 0, 0, 0, 0, 0, 0, 0, 0, 0, 0, 0, 0, 0, 0, 0, 0, 0, 0, 0, 0, 0, 0, 0, 0, 0, 0, 0, 0, 0, 0, 0, 0, 0, 1, 0, 0, 0, 0, 0, 0, 0, 0, 0, 0, 0, 0, 0, 0, 0, 0, 0, 0, 0, 0, 0, 0, 0, 0, 0, 0, 0, 0, 0, 0, 0, 0, 0, 0, 0, 0, 0, 0, 0, 0, 0, 0, 0, 0, 0, 0, 0, 0, 0, 0, 0, 0, 0, 0, 0, 0, 0, 0, 0, 0, 0, 0, 0, 0, 0, 0, 0, 0, 0, 0, 0, 0, 0, 0, 0, 0, 0, 0, 0, 0, 0, 0, 0, 0, 0, 0, 0, 0, 0, 0, 0, 0, 0, 0, 0, 0, 0, 0, 0, 0, 0, 0, 0, 0, 0, 0, 0, 0, 0, 0, 0, 0, 0, 0, 0, 0, 0, 0, 0, 0, 0, 0, 0, 0, 0, 0, 0, 0, 0, 0, 0, 0, 0, 0, 0, 0, 0, 0, 0, 0, 0, 0, 0, 0, 0, 0, 0, 0, 0, 0, 0, 0, 0, 0, 0, 0, 0, 0, 0, 0, 0, 0, 0, 0, 0, 0, 0, 0, 0, 0, 0, 0, 0, 0, 0, 0, 0, 0, 0, 0, 0, 0, 0, 0, 0, 0, 0, 0, 0, 0, 0, 0, 0, 0, 0, 0, 0, 0, 0, 0, 0, 0, 0, 0, 0, 0, 0, 0, 0, 0, 0, 0, 0, 0, 0, 0, 0, 0, 0, 0, 0, 0, 0, 0, 0, 0, 0, 0, 0, 0, 0, 0, 0, 0, 0, 0, 0, 0, 0, 0, 0, 0, 0, 0, 0, 0, 0, 0, 0, 0, 0, 0, 0, 0, 0, 0, 0, 0, 0, 0, 0, 0, 0, 0, 0, 0, 0, 0, 0, 0, 0, 0, 0, 0, 0, 0, 0, 0, 0, 0, 0, 0, 0, 0, 0, 0, 0, 0, 0, 0, 0, 0, 0, 0, 0, 0, 0, 0, 0, 0, 0, 0, 0, 0, 0, 0, 0, 0, 0, 0, 0, 0, 0, 0, 0, 0, 0, 0, 0, 0, 0, 0, 0, 0, 0, 0, 0, 0, 0, 0, 0, 0, 0, 0, 0, 0, 0, 0, 0, 0, 0, 0, 0, 0, 0, 0, 0, 0, 0, 0, 0, 0, 0, 0, 0, 0, 0, 0, 0, 0, 0, 0, 0, 0, 0, 0, 0, 0, 0, 0, 0, 0, 0, 0, 0, 0, 0, 0, 0, 0, 0, 0, 0, 0, 0, 0, 0, 0, 0, 0, 0, 0, 0, 0, 0, 0, 0, 0, 0, 0, 0, 0, 0, 0, 0, 0, 0, 0, 0, 0, 0, 0, 0, 0, 0, 0, 0, 0, 0, 0, 0, 0, 0, 0, 0, 0, 0, 0, 0, 0, 0, 0, 0, 0, 0, 0, 0, 0, 0, 0, 0, 0, 0, 0, 0, 0, 0, 0, 0, 0, 0, 0, 0, 0, 0, 0, 0, 0, 0, 0, 0, 0, 0, 2, 0, 1, 0], type: <class 'list'>, valid types: <class 'bytes'>, <class 'bytearray'>, file-like object",
     "output_type": "error",
     "traceback": [
      "\u001b[0;31m---------------------------------------------------------------------------\u001b[0m",
      "\u001b[0;31mParamValidationError\u001b[0m                      Traceback (most recent call last)",
      "\u001b[0;32m<ipython-input-50-c9ab54ae3a48>\u001b[0m in \u001b[0;36m<module>\u001b[0;34m()\u001b[0m\n\u001b[1;32m      1\u001b[0m response = runtime.invoke_endpoint(EndpointName = xgb_predictor.endpoint, # The name of the endpoint we created\n\u001b[1;32m      2\u001b[0m                                        \u001b[0mContentType\u001b[0m \u001b[0;34m=\u001b[0m \u001b[0;34m'text/csv'\u001b[0m\u001b[0;34m,\u001b[0m                     \u001b[0;31m# The data format that is expected\u001b[0m\u001b[0;34m\u001b[0m\u001b[0m\n\u001b[0;32m----> 3\u001b[0;31m                                        Body = test_bow)\n\u001b[0m",
      "\u001b[0;32m~/anaconda3/envs/python3/lib/python3.6/site-packages/botocore/client.py\u001b[0m in \u001b[0;36m_api_call\u001b[0;34m(self, *args, **kwargs)\u001b[0m\n\u001b[1;32m    274\u001b[0m                     \"%s() only accepts keyword arguments.\" % py_operation_name)\n\u001b[1;32m    275\u001b[0m             \u001b[0;31m# The \"self\" in this scope is referring to the BaseClient.\u001b[0m\u001b[0;34m\u001b[0m\u001b[0;34m\u001b[0m\u001b[0m\n\u001b[0;32m--> 276\u001b[0;31m             \u001b[0;32mreturn\u001b[0m \u001b[0mself\u001b[0m\u001b[0;34m.\u001b[0m\u001b[0m_make_api_call\u001b[0m\u001b[0;34m(\u001b[0m\u001b[0moperation_name\u001b[0m\u001b[0;34m,\u001b[0m \u001b[0mkwargs\u001b[0m\u001b[0;34m)\u001b[0m\u001b[0;34m\u001b[0m\u001b[0m\n\u001b[0m\u001b[1;32m    277\u001b[0m \u001b[0;34m\u001b[0m\u001b[0m\n\u001b[1;32m    278\u001b[0m         \u001b[0m_api_call\u001b[0m\u001b[0;34m.\u001b[0m\u001b[0m__name__\u001b[0m \u001b[0;34m=\u001b[0m \u001b[0mstr\u001b[0m\u001b[0;34m(\u001b[0m\u001b[0mpy_operation_name\u001b[0m\u001b[0;34m)\u001b[0m\u001b[0;34m\u001b[0m\u001b[0m\n",
      "\u001b[0;32m~/anaconda3/envs/python3/lib/python3.6/site-packages/botocore/client.py\u001b[0m in \u001b[0;36m_make_api_call\u001b[0;34m(self, operation_name, api_params)\u001b[0m\n\u001b[1;32m    557\u001b[0m         }\n\u001b[1;32m    558\u001b[0m         request_dict = self._convert_to_request_dict(\n\u001b[0;32m--> 559\u001b[0;31m             api_params, operation_model, context=request_context)\n\u001b[0m\u001b[1;32m    560\u001b[0m \u001b[0;34m\u001b[0m\u001b[0m\n\u001b[1;32m    561\u001b[0m         \u001b[0mservice_id\u001b[0m \u001b[0;34m=\u001b[0m \u001b[0mself\u001b[0m\u001b[0;34m.\u001b[0m\u001b[0m_service_model\u001b[0m\u001b[0;34m.\u001b[0m\u001b[0mservice_id\u001b[0m\u001b[0;34m.\u001b[0m\u001b[0mhyphenize\u001b[0m\u001b[0;34m(\u001b[0m\u001b[0;34m)\u001b[0m\u001b[0;34m\u001b[0m\u001b[0m\n",
      "\u001b[0;32m~/anaconda3/envs/python3/lib/python3.6/site-packages/botocore/client.py\u001b[0m in \u001b[0;36m_convert_to_request_dict\u001b[0;34m(self, api_params, operation_model, context)\u001b[0m\n\u001b[1;32m    605\u001b[0m             api_params, operation_model, context)\n\u001b[1;32m    606\u001b[0m         request_dict = self._serializer.serialize_to_request(\n\u001b[0;32m--> 607\u001b[0;31m             api_params, operation_model)\n\u001b[0m\u001b[1;32m    608\u001b[0m         \u001b[0;32mif\u001b[0m \u001b[0;32mnot\u001b[0m \u001b[0mself\u001b[0m\u001b[0;34m.\u001b[0m\u001b[0m_client_config\u001b[0m\u001b[0;34m.\u001b[0m\u001b[0minject_host_prefix\u001b[0m\u001b[0;34m:\u001b[0m\u001b[0;34m\u001b[0m\u001b[0m\n\u001b[1;32m    609\u001b[0m             \u001b[0mrequest_dict\u001b[0m\u001b[0;34m.\u001b[0m\u001b[0mpop\u001b[0m\u001b[0;34m(\u001b[0m\u001b[0;34m'host_prefix'\u001b[0m\u001b[0;34m,\u001b[0m \u001b[0;32mNone\u001b[0m\u001b[0;34m)\u001b[0m\u001b[0;34m\u001b[0m\u001b[0m\n",
      "\u001b[0;32m~/anaconda3/envs/python3/lib/python3.6/site-packages/botocore/validate.py\u001b[0m in \u001b[0;36mserialize_to_request\u001b[0;34m(self, parameters, operation_model)\u001b[0m\n\u001b[1;32m    295\u001b[0m                                                     operation_model.input_shape)\n\u001b[1;32m    296\u001b[0m             \u001b[0;32mif\u001b[0m \u001b[0mreport\u001b[0m\u001b[0;34m.\u001b[0m\u001b[0mhas_errors\u001b[0m\u001b[0;34m(\u001b[0m\u001b[0;34m)\u001b[0m\u001b[0;34m:\u001b[0m\u001b[0;34m\u001b[0m\u001b[0m\n\u001b[0;32m--> 297\u001b[0;31m                 \u001b[0;32mraise\u001b[0m \u001b[0mParamValidationError\u001b[0m\u001b[0;34m(\u001b[0m\u001b[0mreport\u001b[0m\u001b[0;34m=\u001b[0m\u001b[0mreport\u001b[0m\u001b[0;34m.\u001b[0m\u001b[0mgenerate_report\u001b[0m\u001b[0;34m(\u001b[0m\u001b[0;34m)\u001b[0m\u001b[0;34m)\u001b[0m\u001b[0;34m\u001b[0m\u001b[0m\n\u001b[0m\u001b[1;32m    298\u001b[0m         return self._serializer.serialize_to_request(parameters,\n\u001b[1;32m    299\u001b[0m                                                      operation_model)\n",
      "\u001b[0;31mParamValidationError\u001b[0m: Parameter validation failed:\nInvalid type for parameter Body, value: [0, 0, 0, 0, 0, 0, 0, 0, 0, 0, 0, 0, 0, 0, 0, 0, 0, 0, 0, 0, 0, 0, 0, 0, 0, 0, 0, 0, 0, 0, 0, 0, 0, 0, 0, 0, 0, 0, 0, 0, 0, 0, 0, 0, 0, 0, 0, 0, 0, 0, 0, 0, 0, 0, 0, 0, 0, 0, 0, 0, 0, 0, 0, 0, 0, 0, 0, 0, 0, 0, 0, 0, 0, 0, 0, 0, 0, 0, 0, 0, 0, 0, 0, 0, 0, 0, 0, 0, 0, 0, 0, 0, 0, 0, 0, 0, 0, 0, 0, 0, 0, 0, 0, 0, 0, 0, 0, 0, 0, 0, 0, 0, 0, 0, 0, 0, 0, 0, 0, 0, 0, 0, 0, 0, 0, 0, 0, 0, 0, 0, 0, 0, 0, 0, 0, 0, 0, 0, 0, 0, 0, 0, 0, 0, 0, 0, 0, 0, 0, 0, 0, 0, 0, 0, 0, 0, 0, 0, 0, 0, 0, 0, 0, 0, 0, 0, 0, 0, 0, 0, 0, 0, 0, 0, 0, 0, 0, 0, 0, 0, 0, 0, 0, 0, 0, 0, 0, 0, 0, 0, 0, 0, 0, 0, 0, 0, 0, 0, 0, 0, 0, 0, 0, 0, 0, 0, 0, 0, 0, 0, 0, 0, 0, 0, 0, 0, 0, 0, 0, 0, 0, 0, 0, 0, 0, 0, 1, 0, 0, 0, 0, 0, 0, 0, 0, 0, 0, 0, 0, 0, 0, 0, 0, 0, 0, 0, 0, 0, 0, 0, 0, 0, 0, 0, 0, 0, 1, 0, 0, 0, 0, 0, 0, 0, 0, 0, 0, 0, 0, 0, 0, 0, 0, 0, 0, 0, 0, 0, 0, 0, 0, 0, 0, 0, 0, 0, 0, 0, 0, 0, 0, 0, 0, 0, 0, 0, 0, 0, 0, 0, 0, 0, 0, 0, 0, 0, 0, 0, 0, 0, 0, 0, 0, 0, 0, 0, 0, 0, 0, 0, 0, 0, 0, 0, 0, 0, 0, 0, 0, 0, 0, 0, 0, 0, 0, 0, 0, 0, 0, 0, 0, 0, 0, 0, 0, 0, 0, 0, 0, 0, 0, 0, 0, 0, 0, 0, 0, 0, 0, 0, 0, 0, 0, 0, 0, 0, 0, 0, 0, 0, 0, 0, 0, 0, 0, 0, 0, 0, 0, 0, 0, 0, 0, 0, 0, 0, 0, 0, 0, 0, 0, 0, 0, 0, 0, 0, 0, 0, 0, 0, 0, 0, 0, 0, 0, 0, 0, 0, 0, 0, 0, 0, 0, 0, 0, 0, 0, 0, 0, 0, 0, 0, 0, 0, 0, 0, 0, 0, 0, 0, 0, 0, 0, 0, 0, 0, 0, 0, 0, 0, 0, 0, 0, 0, 0, 0, 0, 0, 0, 0, 0, 0, 0, 0, 0, 0, 0, 0, 0, 0, 0, 0, 0, 0, 0, 0, 0, 0, 0, 0, 0, 0, 0, 0, 0, 0, 0, 0, 0, 0, 0, 0, 0, 0, 0, 0, 0, 0, 0, 0, 0, 0, 0, 0, 0, 0, 0, 0, 0, 0, 0, 0, 0, 0, 0, 0, 0, 0, 0, 0, 0, 0, 0, 0, 0, 0, 0, 0, 0, 0, 0, 0, 0, 0, 0, 0, 0, 0, 0, 0, 0, 0, 0, 0, 0, 0, 0, 0, 0, 0, 0, 0, 0, 0, 0, 0, 0, 0, 0, 0, 0, 0, 0, 0, 0, 0, 0, 0, 0, 0, 0, 0, 0, 0, 0, 0, 0, 0, 0, 0, 0, 0, 0, 0, 0, 0, 0, 0, 0, 0, 0, 0, 0, 0, 0, 0, 0, 0, 0, 0, 0, 0, 0, 0, 0, 0, 0, 0, 0, 0, 0, 0, 0, 0, 0, 0, 0, 0, 0, 0, 0, 0, 0, 0, 0, 0, 0, 0, 0, 0, 0, 0, 0, 0, 0, 0, 0, 0, 0, 0, 0, 0, 0, 0, 0, 0, 1, 0, 0, 0, 0, 0, 0, 0, 0, 0, 0, 0, 0, 0, 0, 0, 0, 0, 0, 0, 0, 0, 0, 0, 0, 0, 0, 0, 0, 0, 0, 0, 0, 0, 0, 0, 0, 0, 0, 0, 0, 0, 0, 0, 0, 0, 0, 0, 0, 0, 0, 0, 0, 0, 0, 0, 0, 0, 0, 0, 0, 0, 0, 0, 0, 0, 0, 0, 0, 0, 0, 0, 0, 0, 0, 0, 0, 0, 0, 0, 0, 0, 0, 0, 0, 0, 0, 0, 0, 0, 0, 0, 0, 0, 0, 0, 0, 0, 0, 0, 0, 0, 0, 0, 0, 0, 0, 0, 0, 0, 0, 0, 0, 0, 0, 0, 0, 0, 0, 0, 0, 0, 0, 0, 0, 0, 0, 0, 0, 0, 0, 0, 0, 0, 0, 0, 0, 0, 0, 0, 0, 0, 0, 0, 0, 0, 0, 0, 0, 0, 0, 0, 0, 0, 0, 0, 0, 0, 0, 0, 0, 0, 0, 0, 0, 0, 0, 0, 0, 0, 0, 0, 0, 0, 0, 0, 0, 0, 0, 0, 0, 0, 0, 0, 0, 0, 0, 0, 0, 0, 0, 0, 0, 0, 0, 0, 0, 0, 0, 0, 0, 0, 0, 0, 0, 0, 0, 0, 0, 0, 0, 0, 0, 0, 0, 0, 0, 0, 0, 0, 0, 0, 0, 0, 0, 0, 0, 0, 0, 0, 0, 0, 0, 0, 0, 0, 0, 0, 0, 0, 0, 0, 0, 0, 0, 0, 0, 0, 0, 0, 0, 0, 0, 0, 1, 0, 0, 0, 0, 0, 0, 0, 0, 0, 0, 0, 0, 0, 0, 0, 0, 0, 0, 0, 0, 0, 0, 0, 0, 0, 0, 0, 0, 0, 0, 0, 0, 0, 0, 0, 0, 0, 0, 0, 0, 0, 0, 0, 0, 0, 0, 0, 0, 0, 0, 0, 0, 0, 0, 0, 0, 0, 0, 0, 0, 0, 0, 0, 0, 0, 0, 0, 0, 0, 0, 0, 0, 0, 0, 0, 0, 0, 0, 0, 0, 0, 0, 0, 0, 0, 0, 1, 0, 0, 0, 0, 0, 0, 0, 0, 0, 0, 0, 0, 0, 0, 0, 0, 0, 0, 0, 0, 0, 0, 0, 0, 0, 0, 0, 0, 0, 0, 0, 0, 0, 0, 0, 0, 0, 0, 0, 0, 0, 0, 0, 0, 0, 0, 0, 0, 0, 0, 0, 0, 0, 0, 0, 0, 0, 0, 0, 0, 0, 0, 0, 0, 0, 0, 0, 0, 0, 0, 0, 0, 0, 0, 0, 0, 0, 0, 0, 0, 0, 0, 0, 0, 0, 0, 0, 0, 0, 0, 0, 0, 0, 0, 0, 0, 0, 0, 0, 0, 0, 0, 0, 0, 0, 0, 0, 0, 0, 0, 0, 0, 0, 0, 0, 0, 0, 0, 0, 0, 0, 0, 0, 0, 0, 0, 0, 0, 0, 0, 0, 0, 0, 0, 0, 0, 0, 0, 0, 0, 0, 0, 0, 0, 0, 0, 0, 0, 0, 0, 0, 0, 0, 0, 0, 0, 0, 0, 0, 0, 0, 0, 0, 0, 0, 0, 0, 0, 0, 0, 0, 0, 0, 0, 0, 0, 0, 0, 0, 0, 0, 0, 0, 0, 0, 0, 0, 0, 0, 0, 0, 0, 0, 0, 0, 0, 0, 0, 0, 0, 0, 0, 0, 0, 0, 0, 0, 0, 0, 0, 0, 0, 0, 0, 0, 0, 0, 0, 0, 0, 0, 0, 0, 0, 0, 0, 0, 0, 0, 0, 0, 0, 0, 0, 0, 0, 0, 0, 0, 0, 0, 0, 0, 0, 0, 0, 0, 0, 0, 0, 0, 0, 1, 0, 0, 0, 0, 0, 0, 0, 0, 0, 0, 0, 0, 0, 0, 0, 0, 0, 0, 0, 0, 0, 0, 0, 0, 0, 0, 0, 0, 0, 0, 0, 0, 0, 0, 0, 0, 0, 0, 0, 0, 0, 0, 0, 0, 0, 0, 0, 0, 0, 0, 0, 0, 0, 0, 0, 1, 0, 0, 0, 0, 0, 0, 0, 0, 0, 0, 0, 0, 0, 0, 0, 0, 0, 0, 0, 0, 0, 0, 0, 0, 0, 0, 0, 0, 0, 0, 0, 0, 0, 0, 0, 0, 0, 0, 0, 0, 0, 0, 0, 0, 0, 0, 0, 0, 0, 0, 0, 0, 0, 0, 0, 0, 0, 0, 0, 0, 0, 0, 0, 0, 0, 0, 0, 0, 0, 0, 0, 0, 0, 0, 0, 0, 0, 0, 0, 0, 0, 0, 0, 0, 0, 0, 0, 0, 0, 0, 0, 0, 0, 0, 0, 0, 0, 0, 0, 0, 0, 0, 0, 0, 0, 0, 0, 0, 0, 0, 0, 0, 0, 0, 0, 0, 0, 0, 0, 0, 0, 0, 0, 0, 0, 0, 0, 0, 0, 0, 0, 0, 0, 0, 0, 0, 0, 0, 0, 0, 0, 0, 0, 0, 0, 0, 0, 0, 0, 0, 0, 0, 0, 0, 0, 0, 0, 0, 0, 0, 0, 0, 0, 0, 0, 0, 0, 0, 0, 0, 0, 0, 0, 0, 0, 0, 0, 0, 0, 0, 0, 0, 0, 0, 0, 0, 0, 0, 0, 0, 0, 0, 0, 0, 0, 0, 0, 0, 0, 0, 0, 0, 0, 0, 0, 0, 0, 0, 0, 0, 0, 0, 0, 0, 0, 0, 0, 0, 0, 0, 0, 0, 0, 0, 0, 0, 0, 0, 0, 0, 0, 0, 0, 0, 0, 0, 0, 0, 0, 0, 0, 0, 0, 0, 0, 0, 0, 0, 0, 0, 0, 0, 0, 0, 0, 0, 0, 0, 0, 0, 0, 0, 0, 0, 0, 0, 0, 0, 0, 0, 0, 0, 0, 0, 0, 0, 0, 0, 0, 0, 0, 0, 0, 0, 0, 0, 0, 0, 0, 0, 0, 0, 0, 0, 0, 0, 0, 0, 0, 0, 0, 0, 0, 0, 0, 0, 0, 0, 0, 0, 0, 0, 0, 0, 0, 0, 0, 0, 0, 0, 0, 0, 0, 0, 0, 0, 0, 0, 0, 0, 0, 0, 0, 0, 0, 0, 0, 0, 0, 0, 0, 0, 0, 0, 0, 0, 0, 0, 0, 0, 0, 0, 0, 0, 0, 0, 0, 0, 0, 0, 0, 0, 0, 0, 0, 0, 0, 0, 0, 0, 0, 0, 0, 0, 0, 0, 0, 0, 0, 0, 0, 0, 0, 0, 0, 0, 0, 0, 0, 0, 0, 0, 0, 0, 0, 0, 0, 0, 0, 0, 0, 0, 0, 0, 0, 0, 0, 0, 0, 0, 0, 0, 0, 0, 0, 0, 0, 0, 0, 0, 0, 0, 0, 0, 0, 0, 0, 0, 0, 0, 0, 0, 0, 0, 0, 0, 0, 0, 0, 0, 0, 0, 0, 0, 0, 0, 0, 0, 0, 0, 0, 0, 0, 0, 0, 0, 0, 0, 0, 0, 0, 0, 0, 0, 0, 0, 0, 0, 0, 0, 0, 0, 0, 0, 0, 0, 0, 0, 0, 0, 0, 0, 0, 0, 0, 0, 0, 0, 0, 0, 0, 0, 0, 0, 0, 0, 0, 0, 0, 0, 0, 0, 0, 0, 0, 0, 0, 0, 0, 0, 0, 0, 0, 0, 0, 0, 0, 0, 0, 0, 0, 0, 0, 0, 0, 0, 0, 0, 0, 0, 0, 0, 0, 0, 0, 0, 0, 0, 0, 0, 0, 0, 0, 0, 0, 0, 0, 0, 0, 0, 0, 0, 0, 0, 0, 0, 0, 0, 0, 0, 0, 0, 0, 0, 0, 0, 0, 0, 0, 0, 0, 0, 0, 0, 0, 0, 0, 0, 0, 0, 0, 0, 0, 0, 0, 0, 0, 0, 0, 0, 0, 0, 0, 0, 0, 0, 0, 0, 0, 0, 0, 0, 0, 0, 0, 0, 0, 0, 0, 0, 0, 0, 0, 0, 0, 0, 0, 0, 0, 0, 0, 0, 0, 0, 0, 0, 0, 0, 0, 0, 0, 0, 0, 0, 0, 0, 0, 0, 0, 0, 0, 0, 0, 0, 0, 0, 0, 0, 0, 0, 0, 0, 0, 0, 0, 0, 0, 0, 0, 0, 0, 0, 0, 0, 0, 0, 0, 0, 0, 0, 0, 0, 0, 0, 0, 0, 0, 0, 0, 0, 0, 1, 0, 0, 0, 0, 0, 0, 0, 0, 0, 0, 0, 0, 0, 0, 0, 0, 0, 0, 0, 0, 0, 0, 0, 0, 0, 0, 0, 0, 0, 0, 0, 0, 0, 0, 0, 0, 0, 0, 0, 0, 0, 0, 0, 0, 0, 0, 0, 0, 0, 0, 0, 0, 0, 0, 0, 0, 0, 0, 0, 0, 0, 0, 0, 0, 0, 0, 0, 0, 0, 0, 0, 0, 0, 0, 1, 0, 0, 0, 0, 0, 0, 0, 0, 0, 0, 0, 0, 0, 0, 0, 0, 0, 0, 0, 0, 1, 0, 0, 1, 0, 0, 0, 0, 0, 0, 0, 0, 0, 0, 0, 0, 0, 0, 0, 0, 0, 0, 0, 0, 0, 0, 0, 0, 0, 0, 0, 0, 0, 0, 0, 0, 0, 0, 0, 0, 0, 0, 0, 0, 0, 0, 0, 0, 0, 0, 0, 0, 0, 0, 0, 0, 0, 0, 0, 0, 0, 0, 0, 0, 0, 0, 0, 0, 0, 0, 0, 0, 0, 0, 0, 0, 0, 0, 0, 0, 0, 0, 0, 0, 0, 0, 0, 0, 0, 0, 0, 0, 0, 0, 0, 0, 0, 0, 0, 0, 0, 0, 0, 0, 0, 0, 0, 0, 0, 0, 0, 0, 0, 0, 0, 0, 0, 0, 0, 0, 0, 0, 0, 0, 0, 0, 0, 0, 0, 0, 0, 0, 0, 0, 0, 0, 0, 0, 0, 0, 0, 0, 0, 0, 0, 0, 0, 0, 0, 0, 0, 0, 0, 0, 0, 0, 0, 0, 0, 0, 0, 0, 0, 0, 0, 0, 0, 0, 0, 0, 0, 0, 0, 0, 0, 0, 0, 0, 0, 0, 0, 0, 0, 0, 0, 0, 0, 0, 0, 0, 0, 0, 0, 0, 0, 0, 0, 0, 0, 0, 0, 0, 0, 0, 0, 0, 0, 0, 0, 0, 0, 0, 0, 0, 0, 0, 0, 0, 0, 0, 0, 0, 0, 0, 0, 0, 0, 0, 0, 0, 0, 0, 0, 0, 0, 0, 0, 0, 0, 0, 0, 0, 0, 0, 0, 0, 0, 0, 0, 0, 0, 0, 0, 0, 0, 0, 0, 0, 0, 0, 0, 0, 0, 0, 0, 0, 0, 0, 0, 0, 0, 0, 0, 0, 0, 0, 0, 0, 0, 0, 0, 0, 0, 0, 0, 0, 0, 0, 0, 0, 0, 0, 0, 0, 0, 0, 0, 0, 0, 0, 0, 0, 0, 0, 0, 0, 0, 0, 0, 0, 0, 0, 0, 0, 0, 0, 0, 0, 0, 0, 0, 0, 0, 0, 0, 0, 0, 0, 0, 0, 0, 0, 0, 0, 0, 0, 0, 0, 0, 0, 0, 0, 0, 0, 0, 0, 0, 0, 0, 0, 0, 0, 0, 0, 0, 0, 0, 0, 0, 0, 0, 0, 0, 0, 0, 0, 0, 0, 0, 0, 0, 0, 0, 0, 0, 0, 0, 0, 0, 0, 0, 0, 0, 0, 0, 0, 0, 0, 0, 0, 0, 0, 0, 0, 0, 0, 0, 0, 0, 0, 0, 0, 0, 0, 0, 0, 0, 0, 0, 0, 0, 0, 0, 0, 0, 0, 0, 0, 0, 0, 0, 0, 0, 0, 0, 0, 0, 0, 0, 0, 0, 0, 0, 0, 0, 0, 0, 0, 0, 0, 0, 0, 0, 0, 0, 0, 0, 0, 0, 0, 0, 0, 0, 0, 0, 0, 0, 0, 0, 0, 0, 0, 0, 0, 0, 0, 0, 0, 0, 0, 1, 0, 0, 0, 0, 0, 0, 0, 0, 0, 0, 0, 0, 0, 0, 0, 0, 0, 0, 0, 0, 0, 0, 0, 0, 0, 0, 0, 0, 0, 0, 0, 0, 0, 0, 0, 0, 0, 0, 0, 0, 0, 0, 0, 0, 0, 0, 0, 0, 0, 0, 0, 0, 0, 0, 0, 0, 0, 0, 0, 0, 0, 0, 0, 0, 0, 0, 0, 0, 0, 0, 0, 0, 0, 0, 0, 0, 0, 0, 0, 0, 0, 0, 0, 0, 0, 0, 0, 0, 0, 0, 0, 0, 0, 0, 0, 0, 0, 0, 0, 0, 0, 0, 0, 0, 0, 0, 0, 0, 0, 0, 0, 0, 0, 0, 0, 0, 0, 0, 0, 0, 0, 0, 0, 0, 0, 0, 0, 0, 0, 0, 0, 0, 0, 0, 0, 0, 0, 0, 0, 0, 0, 0, 0, 0, 0, 0, 0, 0, 0, 0, 0, 0, 0, 0, 0, 0, 0, 0, 0, 0, 0, 0, 0, 0, 0, 0, 0, 0, 0, 0, 0, 0, 0, 0, 0, 0, 0, 0, 0, 0, 0, 0, 0, 0, 0, 0, 0, 0, 0, 0, 0, 0, 0, 0, 0, 0, 0, 0, 0, 0, 0, 0, 0, 0, 0, 0, 0, 0, 0, 0, 0, 0, 0, 0, 0, 0, 0, 0, 0, 0, 0, 0, 0, 0, 0, 0, 0, 0, 0, 0, 0, 0, 0, 0, 0, 0, 0, 0, 0, 0, 0, 0, 0, 0, 0, 0, 0, 0, 0, 0, 0, 0, 0, 0, 0, 0, 0, 0, 0, 0, 0, 0, 0, 0, 0, 0, 0, 0, 0, 0, 0, 0, 0, 0, 0, 0, 0, 0, 0, 0, 0, 0, 0, 0, 0, 0, 0, 0, 0, 0, 0, 0, 0, 0, 0, 0, 0, 0, 0, 0, 0, 0, 0, 0, 0, 0, 0, 0, 0, 0, 0, 0, 0, 0, 0, 0, 0, 0, 0, 0, 0, 0, 0, 0, 0, 0, 0, 0, 0, 0, 0, 0, 0, 0, 0, 0, 0, 0, 0, 0, 0, 0, 0, 0, 0, 0, 0, 0, 0, 0, 0, 0, 0, 0, 0, 0, 0, 0, 0, 0, 0, 0, 0, 0, 0, 0, 0, 0, 0, 0, 0, 0, 0, 0, 0, 0, 0, 0, 0, 0, 0, 0, 0, 0, 0, 0, 0, 0, 0, 0, 0, 0, 0, 0, 0, 0, 0, 0, 0, 0, 0, 0, 0, 0, 0, 0, 0, 0, 0, 0, 0, 0, 0, 0, 0, 0, 0, 0, 0, 0, 0, 0, 0, 0, 0, 0, 0, 0, 0, 0, 0, 0, 0, 0, 0, 0, 0, 0, 0, 0, 0, 0, 0, 0, 0, 0, 0, 0, 0, 0, 0, 0, 0, 0, 0, 0, 0, 0, 0, 0, 0, 0, 0, 0, 0, 0, 0, 0, 0, 0, 0, 0, 0, 0, 0, 0, 0, 0, 0, 0, 0, 0, 0, 0, 0, 0, 0, 0, 0, 0, 0, 0, 0, 0, 0, 0, 0, 0, 0, 0, 0, 0, 0, 0, 0, 0, 0, 0, 0, 0, 0, 0, 1, 0, 0, 0, 0, 0, 0, 0, 0, 0, 0, 0, 0, 0, 0, 0, 0, 0, 0, 0, 0, 0, 0, 0, 0, 0, 0, 0, 0, 0, 0, 0, 0, 0, 0, 0, 2, 0, 0, 0, 0, 0, 0, 0, 0, 0, 0, 0, 0, 0, 0, 0, 0, 0, 0, 0, 0, 0, 0, 0, 0, 0, 0, 0, 0, 0, 0, 0, 0, 0, 0, 0, 0, 0, 0, 0, 0, 1, 0, 0, 0, 0, 0, 0, 0, 0, 0, 0, 0, 0, 0, 0, 0, 0, 0, 0, 0, 0, 0, 0, 0, 0, 0, 0, 0, 0, 0, 0, 0, 0, 0, 0, 0, 0, 0, 0, 0, 0, 0, 0, 0, 0, 0, 0, 0, 0, 0, 0, 0, 0, 0, 0, 0, 0, 0, 0, 0, 0, 0, 0, 0, 0, 0, 0, 0, 0, 0, 0, 0, 0, 0, 0, 0, 0, 0, 0, 0, 0, 0, 0, 0, 0, 0, 0, 0, 0, 0, 0, 0, 0, 0, 0, 0, 0, 0, 0, 0, 0, 0, 0, 0, 0, 0, 0, 0, 0, 0, 0, 0, 0, 0, 0, 0, 0, 0, 0, 0, 0, 0, 0, 0, 0, 0, 0, 0, 0, 0, 0, 0, 0, 0, 0, 0, 0, 0, 0, 0, 0, 0, 0, 0, 0, 0, 0, 0, 0, 0, 0, 0, 0, 0, 0, 0, 0, 0, 0, 0, 0, 0, 0, 0, 0, 0, 0, 0, 0, 0, 0, 0, 0, 0, 0, 0, 0, 0, 0, 0, 0, 0, 0, 0, 0, 0, 0, 0, 0, 0, 0, 0, 0, 0, 0, 0, 0, 0, 0, 0, 0, 0, 0, 0, 0, 0, 0, 0, 0, 0, 0, 0, 0, 0, 0, 0, 0, 0, 0, 0, 0, 0, 0, 0, 0, 0, 0, 0, 0, 0, 0, 0, 0, 0, 0, 0, 0, 0, 0, 0, 0, 0, 0, 0, 0, 0, 0, 0, 0, 0, 0, 0, 0, 0, 0, 0, 0, 0, 0, 0, 0, 0, 0, 0, 0, 0, 0, 0, 0, 0, 0, 0, 0, 0, 0, 0, 0, 0, 0, 0, 0, 0, 0, 0, 0, 0, 0, 0, 0, 0, 0, 0, 0, 0, 0, 0, 0, 0, 0, 0, 0, 0, 0, 0, 0, 0, 0, 0, 0, 0, 0, 0, 0, 0, 0, 0, 0, 0, 0, 0, 0, 0, 0, 0, 0, 0, 0, 0, 0, 0, 0, 0, 0, 0, 0, 0, 0, 0, 0, 0, 0, 0, 0, 0, 0, 0, 0, 0, 0, 0, 0, 0, 0, 0, 0, 0, 0, 0, 0, 0, 0, 0, 0, 0, 0, 0, 0, 0, 0, 0, 0, 0, 0, 0, 0, 0, 0, 0, 0, 0, 0, 0, 0, 0, 0, 0, 0, 0, 0, 0, 0, 0, 0, 0, 0, 0, 0, 0, 0, 0, 0, 0, 0, 0, 0, 0, 0, 0, 0, 0, 0, 0, 0, 0, 0, 0, 0, 0, 0, 0, 0, 0, 0, 0, 0, 0, 0, 0, 0, 0, 0, 0, 0, 0, 0, 0, 0, 0, 0, 0, 0, 0, 0, 0, 0, 0, 0, 0, 0, 0, 0, 0, 0, 0, 0, 0, 0, 0, 0, 0, 0, 0, 0, 0, 0, 0, 0, 0, 0, 0, 0, 0, 0, 0, 0, 0, 0, 0, 0, 0, 0, 0, 0, 0, 0, 0, 0, 0, 0, 0, 0, 0, 0, 0, 0, 0, 0, 0, 1, 0, 0, 0, 0, 0, 0, 0, 0, 0, 0, 0, 0, 0, 0, 0, 0, 0, 0, 0, 0, 0, 0, 0, 0, 0, 0, 0, 0, 0, 0, 0, 0, 0, 0, 0, 0, 0, 0, 0, 0, 0, 0, 0, 0, 0, 0, 0, 0, 0, 0, 0, 0, 0, 0, 0, 0, 0, 0, 0, 0, 0, 0, 0, 0, 0, 0, 0, 0, 0, 0, 0, 0, 0, 0, 0, 0, 0, 0, 0, 0, 0, 0, 0, 0, 0, 0, 0, 0, 0, 0, 0, 0, 0, 0, 0, 0, 0, 0, 0, 0, 0, 0, 0, 0, 0, 0, 0, 0, 0, 0, 2, 0, 0, 0, 0, 0, 0, 0, 0, 0, 0, 0, 0, 0, 0, 0, 0, 0, 0, 0, 0, 0, 0, 0, 0, 0, 0, 0, 0, 0, 0, 0, 0, 0, 0, 0, 0, 0, 0, 0, 0, 0, 0, 0, 0, 0, 0, 0, 0, 0, 0, 0, 0, 0, 0, 0, 0, 0, 0, 0, 0, 0, 0, 0, 0, 0, 0, 0, 0, 0, 0, 0, 0, 0, 0, 0, 0, 0, 0, 0, 0, 0, 0, 0, 0, 0, 0, 0, 0, 0, 0, 0, 0, 0, 0, 0, 0, 0, 0, 0, 0, 0, 0, 0, 0, 0, 0, 0, 0, 0, 0, 0, 0, 0, 0, 0, 0, 0, 0, 0, 0, 0, 0, 0, 0, 0, 0, 0, 0, 0, 0, 0, 0, 0, 0, 0, 0, 0, 0, 0, 0, 0, 0, 0, 0, 0, 0, 0, 0, 0, 0, 0, 0, 0, 0, 0, 0, 0, 0, 0, 0, 0, 0, 0, 0, 0, 0, 0, 0, 0, 0, 0, 0, 0, 0, 0, 0, 0, 0, 0, 0, 0, 0, 0, 0, 0, 0, 0, 0, 0, 0, 0, 0, 0, 0, 0, 0, 0, 0, 0, 0, 0, 0, 0, 0, 0, 0, 0, 0, 0, 0, 0, 0, 0, 0, 0, 0, 0, 0, 0, 0, 0, 0, 0, 0, 0, 0, 0, 0, 0, 0, 0, 0, 0, 0, 0, 0, 0, 0, 0, 0, 0, 0, 0, 0, 0, 0, 0, 0, 0, 0, 0, 0, 0, 0, 0, 0, 0, 0, 0, 0, 0, 0, 0, 0, 0, 0, 0, 0, 0, 0, 0, 0, 0, 0, 0, 0, 0, 0, 0, 0, 0, 0, 0, 0, 0, 0, 0, 0, 0, 0, 0, 0, 0, 0, 0, 0, 0, 0, 0, 0, 0, 0, 0, 0, 0, 0, 0, 0, 0, 0, 0, 0, 0, 0, 0, 0, 0, 0, 0, 0, 0, 0, 0, 0, 0, 0, 0, 0, 0, 0, 0, 0, 0, 0, 0, 0, 0, 0, 0, 0, 0, 0, 0, 0, 0, 0, 0, 0, 0, 0, 0, 0, 0, 0, 0, 0, 0, 0, 0, 0, 0, 0, 0, 0, 0, 0, 0, 0, 0, 0, 0, 0, 0, 0, 0, 0, 0, 0, 0, 0, 0, 0, 0, 0, 0, 0, 0, 0, 0, 0, 0, 0, 0, 0, 0, 0, 0, 0, 0, 0, 0, 0, 0, 0, 0, 0, 0, 0, 0, 0, 0, 0, 0, 0, 0, 0, 0, 0, 0, 0, 0, 0, 0, 0, 0, 0, 0, 0, 0, 0, 0, 0, 0, 0, 0, 0, 0, 0, 0, 0, 0, 0, 0, 0, 0, 0, 0, 0, 0, 0, 0, 0, 0, 0, 0, 0, 0, 0, 0, 0, 0, 0, 0, 0, 0, 0, 0, 0, 0, 0, 0, 0, 0, 0, 0, 0, 0, 0, 0, 0, 0, 0, 0, 0, 0, 0, 0, 0, 0, 0, 0, 0, 0, 0, 0, 0, 0, 0, 0, 0, 0, 0, 0, 0, 0, 0, 0, 0, 0, 0, 0, 0, 0, 0, 0, 0, 0, 0, 0, 0, 0, 0, 0, 0, 0, 0, 0, 0, 0, 0, 0, 0, 0, 0, 0, 0, 0, 0, 0, 0, 0, 0, 0, 0, 0, 0, 0, 0, 0, 0, 0, 0, 0, 0, 0, 0, 0, 0, 0, 0, 0, 0, 0, 0, 0, 0, 0, 0, 0, 0, 0, 0, 0, 0, 0, 0, 0, 0, 0, 0, 0, 0, 0, 0, 0, 0, 0, 0, 0, 0, 0, 0, 0, 0, 0, 0, 0, 0, 0, 0, 0, 0, 0, 0, 0, 0, 0, 0, 0, 0, 0, 0, 0, 0, 0, 0, 0, 0, 0, 0, 0, 0, 0, 0, 0, 0, 0, 0, 0, 0, 0, 0, 0, 0, 0, 0, 0, 0, 0, 0, 0, 0, 0, 0, 0, 0, 0, 0, 0, 0, 0, 0, 0, 0, 0, 0, 0, 0, 0, 0, 0, 0, 0, 0, 0, 0, 0, 0, 0, 0, 0, 0, 0, 0, 0, 0, 0, 0, 0, 0, 0, 0, 0, 0, 0, 0, 0, 0, 0, 0, 1, 0, 0, 0, 0, 0, 0, 0, 0, 0, 0, 0, 0, 0, 0, 0, 0, 0, 0, 0, 0, 0, 0, 0, 0, 0, 0, 0, 0, 0, 0, 0, 0, 0, 0, 0, 0, 0, 0, 0, 0, 0, 0, 0, 0, 0, 0, 0, 0, 0, 0, 0, 0, 0, 0, 0, 0, 0, 0, 0, 0, 0, 0, 0, 0, 0, 0, 0, 0, 0, 0, 0, 0, 0, 0, 0, 0, 0, 0, 0, 0, 0, 0, 0, 0, 0, 0, 0, 0, 0, 0, 0, 0, 0, 0, 0, 0, 0, 0, 0, 0, 0, 0, 0, 0, 0, 0, 0, 1, 0, 0, 0, 0, 0, 0, 0, 0, 0, 0, 0, 0, 0, 0, 0, 0, 0, 0, 0, 0, 0, 0, 0, 0, 0, 0, 0, 0, 0, 0, 0, 0, 0, 0, 0, 0, 0, 0, 0, 0, 0, 0, 0, 0, 0, 0, 0, 0, 0, 0, 0, 0, 0, 0, 0, 0, 0, 0, 0, 0, 0, 0, 0, 0, 0, 0, 0, 0, 0, 0, 0, 0, 0, 0, 0, 0, 0, 0, 0, 0, 0, 0, 0, 0, 0, 0, 0, 0, 0, 0, 0, 0, 0, 0, 0, 0, 0, 0, 0, 0, 0, 0, 0, 0, 0, 0, 0, 0, 0, 0, 0, 0, 0, 0, 0, 0, 0, 0, 0, 0, 0, 0, 0, 0, 0, 0, 0, 0, 0, 0, 0, 0, 0, 0, 0, 0, 0, 0, 0, 0, 0, 0, 0, 0, 0, 0, 0, 0, 0, 0, 0, 0, 0, 0, 0, 0, 0, 0, 0, 0, 0, 0, 0, 0, 0, 0, 0, 0, 0, 0, 0, 0, 0, 0, 0, 0, 0, 0, 0, 0, 0, 0, 0, 0, 0, 0, 0, 0, 0, 0, 0, 0, 0, 0, 0, 0, 0, 0, 0, 0, 0, 0, 0, 0, 0, 0, 0, 0, 0, 0, 0, 0, 0, 0, 0, 0, 0, 0, 0, 0, 0, 0, 0, 0, 0, 0, 0, 0, 0, 0, 0, 0, 0, 0, 0, 0, 0, 0, 0, 0, 0, 0, 0, 0, 0, 0, 0, 0, 0, 0, 0, 0, 0, 0, 0, 0, 0, 0, 0, 0, 0, 0, 0, 0, 0, 0, 0, 0, 0, 0, 0, 0, 0, 0, 0, 0, 0, 0, 0, 0, 0, 0, 0, 0, 0, 0, 0, 0, 0, 0, 0, 0, 0, 0, 0, 0, 0, 0, 0, 0, 0, 0, 0, 0, 0, 0, 0, 0, 0, 0, 0, 0, 0, 0, 0, 0, 0, 0, 0, 0, 0, 0, 0, 0, 0, 0, 0, 0, 0, 0, 0, 0, 0, 0, 0, 0, 0, 0, 0, 0, 0, 0, 0, 0, 0, 0, 0, 0, 0, 0, 0, 0, 0, 0, 0, 0, 0, 0, 0, 0, 0, 0, 0, 0, 0, 0, 0, 0, 0, 0, 0, 0, 0, 0, 0, 0, 0, 0, 0, 0, 0, 0, 0, 0, 0, 0, 0, 0, 0, 0, 0, 0, 0, 0, 0, 0, 0, 0, 0, 0, 0, 0, 0, 0, 0, 0, 0, 0, 0, 0, 0, 0, 0, 0, 0, 0, 0, 0, 0, 0, 0, 0, 0, 0, 0, 0, 0, 0, 0, 0, 0, 0, 0, 0, 0, 0, 0, 0, 0, 0, 0, 0, 0, 0, 0, 0, 0, 0, 0, 0, 0, 0, 0, 0, 0, 0, 0, 0, 0, 0, 0, 0, 0, 2, 0, 1, 0], type: <class 'list'>, valid types: <class 'bytes'>, <class 'bytearray'>, file-like object"
     ]
    }
   ],
   "source": [
    "response = runtime.invoke_endpoint(EndpointName = xgb_predictor.endpoint, # The name of the endpoint we created\n",
    "                                       ContentType = 'text/csv',                     # The data format that is expected\n",
    "                                       Body = test_bow)"
   ]
  },
  {
   "cell_type": "markdown",
   "metadata": {},
   "source": [
    "So why did we get an error?\n",
    "\n",
    "Because we tried to send the endpoint a list of integers but it expected us to send data of type `text/csv`. So, we need to convert it."
   ]
  },
  {
   "cell_type": "code",
   "execution_count": 51,
   "metadata": {},
   "outputs": [],
   "source": [
    "response = runtime.invoke_endpoint(EndpointName = xgb_predictor.endpoint, # The name of the endpoint we created\n",
    "                                       ContentType = 'text/csv',                     # The data format that is expected\n",
    "                                       Body = ','.join([str(val) for val in test_bow]).encode('utf-8'))"
   ]
  },
  {
   "cell_type": "code",
   "execution_count": 52,
   "metadata": {},
   "outputs": [
    {
     "name": "stdout",
     "output_type": "stream",
     "text": [
      "{'ResponseMetadata': {'RequestId': '137a76c8-514d-4a28-9f51-f5a8f07cbf55', 'HTTPStatusCode': 200, 'HTTPHeaders': {'x-amzn-requestid': '137a76c8-514d-4a28-9f51-f5a8f07cbf55', 'x-amzn-invoked-production-variant': 'AllTraffic', 'date': 'Sat, 22 Feb 2020 01:06:43 GMT', 'content-type': 'text/csv; charset=utf-8', 'content-length': '14'}, 'RetryAttempts': 0}, 'ContentType': 'text/csv; charset=utf-8', 'InvokedProductionVariant': 'AllTraffic', 'Body': <botocore.response.StreamingBody object at 0x7f1695d126a0>}\n"
     ]
    }
   ],
   "source": [
    "print(response)"
   ]
  },
  {
   "cell_type": "markdown",
   "metadata": {},
   "source": [
    "As we can see, the response from our model is a somewhat complicated looking dict that contains a bunch of information. The bit that we are most interested in is `'Body'` object which is a streaming object that we need to `read` in order to make use of."
   ]
  },
  {
   "cell_type": "code",
   "execution_count": 53,
   "metadata": {},
   "outputs": [
    {
     "name": "stdout",
     "output_type": "stream",
     "text": [
      "0.317339599133\n"
     ]
    }
   ],
   "source": [
    "response = response['Body'].read().decode('utf-8')\n",
    "print(response)"
   ]
  },
  {
   "cell_type": "code",
   "execution_count": 54,
   "metadata": {},
   "outputs": [],
   "source": [
    "xgb_predictor.delete_endpoint()"
   ]
  },
  {
   "cell_type": "markdown",
   "metadata": {},
   "source": [
    "Now that we know how to process the incoming user data we can start setting up the infrastructure to make our simple web app work. To do this we will make use of two different services. Amazon's Lambda and API Gateway services.\n",
    "\n",
    "Lambda is a service which allows someone to write some relatively simple code and have it executed whenever a chosen trigger occurs. For example, you may want to update a database whenever new data is uploaded to a folder stored on S3.\n",
    "\n",
    "API Gateway is a service that allows you to create HTTP endpoints (url addresses) which are connected to other AWS services. One of the benefits to this is that you get to decide what credentials, if any, are required to access these endpoints.\n",
    "\n",
    "In our case we are going to set up an HTTP endpoint through API Gateway which is open to the public. Then, whenever anyone sends data to our public endpoint we will trigger a Lambda function which will send the input (in our case a review) to our model's endpoint and then return the result."
   ]
  },
  {
   "cell_type": "markdown",
   "metadata": {},
   "source": [
    "### Setting up a Lambda function\n",
    "\n",
    "The first thing we are going to do is set up a Lambda function. This Lambda function will be executed whenever our public API has data sent to it. When it is executed it will receive the data, perform any sort of processing that is required, send the data (the review) to the SageMaker endpoint we've created and then return the result.\n",
    "\n",
    "#### Part A: Create an IAM Role for the Lambda function\n",
    "\n",
    "Since we want the Lambda function to call a SageMaker endpoint, we need to make sure that it has permission to do so. To do this, we will construct a role that we can later give the Lambda function.\n",
    "\n",
    "Using the AWS Console, navigate to the **IAM** page and click on **Roles**. Then, click on **Create role**. Make sure that the **AWS service** is the type of trusted entity selected and choose **Lambda** as the service that will use this role, then click **Next: Permissions**.\n",
    "\n",
    "In the search box type `sagemaker` and select the check box next to the **AmazonSageMakerFullAccess** policy. Then, click on **Next: Review**.\n",
    "\n",
    "Lastly, give this role a name. Make sure you use a name that you will remember later on, for example `LambdaSageMakerRole`. Then, click on **Create role**."
   ]
  },
  {
   "cell_type": "markdown",
   "metadata": {},
   "source": [
    "#### Part B: Create a Lambda function\n",
    "\n",
    "Now it is time to actually create the Lambda function. Remember from earlier that in order to process the user provided input and send it to our endpoint we need to gather two pieces of information:\n",
    "\n",
    " - The name of the endpoint, and\n",
    " - the vocabulary object.\n",
    "\n",
    "We will copy these pieces of information to our Lambda function after we create it.\n",
    "\n",
    "To start, using the AWS Console, navigate to the AWS Lambda page and click on **Create a function**. When you get to the next page, make sure that **Author from scratch** is selected. Now, name your Lambda function, using a name that you will remember later on, for example `sentiment_analysis_xgboost_func`. Make sure that the **Python 3.6** runtime is selected and then choose the role that you created in the previous part. Then, click on **Create Function**.\n",
    "\n",
    "On the next page you will see some information about the Lambda function you've just created. If you scroll down you should see an editor in which you can write the code that will be executed when your Lambda function is triggered. Collecting the code we wrote above to process a single review and adding it to the provided example `lambda_handler` we arrive at the following.\n",
    "\n",
    "```python\n",
    "# We need to use the low-level library to interact with SageMaker since the SageMaker API\n",
    "# is not available natively through Lambda.\n",
    "import boto3\n",
    "\n",
    "# And we need the regular expression library to do some of the data processing\n",
    "import re\n",
    "\n",
    "REPLACE_NO_SPACE = re.compile(\"(\\.)|(\\;)|(\\:)|(\\!)|(\\')|(\\?)|(\\,)|(\\\")|(\\()|(\\))|(\\[)|(\\])\")\n",
    "REPLACE_WITH_SPACE = re.compile(\"(<br\\s*/><br\\s*/>)|(\\-)|(\\/)\")\n",
    "\n",
    "def review_to_words(review):\n",
    "    words = REPLACE_NO_SPACE.sub(\"\", review.lower())\n",
    "    words = REPLACE_WITH_SPACE.sub(\" \", words)\n",
    "    return words\n",
    "    \n",
    "def bow_encoding(words, vocabulary):\n",
    "    bow = [0] * len(vocabulary) # Start by setting the count for each word in the vocabulary to zero.\n",
    "    for word in words.split():  # For each word in the string\n",
    "        if word in vocabulary:  # If the word is one that occurs in the vocabulary, increase its count.\n",
    "            bow[vocabulary[word]] += 1\n",
    "    return bow\n",
    "\n",
    "\n",
    "def lambda_handler(event, context):\n",
    "    \n",
    "    vocab = \"*** ACTUAL VOCABULARY GOES HERE ***\"\n",
    "    \n",
    "    words = review_to_words(event['body'])\n",
    "    bow = bow_encoding(words, vocab)\n",
    "\n",
    "    # The SageMaker runtime is what allows us to invoke the endpoint that we've created.\n",
    "    runtime = boto3.Session().client('sagemaker-runtime')\n",
    "\n",
    "    # Now we use the SageMaker runtime to invoke our endpoint, sending the review we were given\n",
    "    response = runtime.invoke_endpoint(EndpointName = '***ENDPOINT NAME HERE***',# The name of the endpoint we created\n",
    "                                       ContentType = 'text/csv',                 # The data format that is expected\n",
    "                                       Body = ','.join([str(val) for val in bow]).encode('utf-8')) # The actual review\n",
    "\n",
    "    # The response is an HTTP response whose body contains the result of our inference\n",
    "    result = response['Body'].read().decode('utf-8')\n",
    "    \n",
    "    # Round the result so that our web app only gets '1' or '0' as a response.\n",
    "    result = round(float(result))\n",
    "\n",
    "    return {\n",
    "        'statusCode' : 200,\n",
    "        'headers' : { 'Content-Type' : 'text/plain', 'Access-Control-Allow-Origin' : '*' },\n",
    "        'body' : str(result)\n",
    "    }\n",
    "```"
   ]
  },
  {
   "cell_type": "markdown",
   "metadata": {},
   "source": [
    "Once you have copy and pasted the code above into the Lambda code editor, replace the `**ENDPOINT NAME HERE**` portion with the name of the endpoint that we deployed earlier. You can determine the name of the endpoint using the code cell below."
   ]
  },
  {
   "cell_type": "code",
   "execution_count": null,
   "metadata": {},
   "outputs": [],
   "source": [
    "xgb_predictor.endpoint"
   ]
  },
  {
   "cell_type": "markdown",
   "metadata": {},
   "source": [
    "In addition, you will need to copy the vocabulary dict to the appropriate place in the code at the beginning of the `lambda_handler` method. The cell below prints out the vocabulary dict in a way that is easy to copy and paste."
   ]
  },
  {
   "cell_type": "code",
   "execution_count": 14,
   "metadata": {},
   "outputs": [
    {
     "name": "stdout",
     "output_type": "stream",
     "text": [
      "{'this': 4457, 'film': 1716, 'concerns': 934, 'very': 4723, 'young': 4989, 'girl': 1909, 'who': 4871, 'leaves': 2556, 'her': 2085, 'family': 1645, 'and': 226, 'heads': 2059, 'off': 3084, 'to': 4507, 'become': 433, 'college': 875, 'one': 3107, 'night': 3013, 'friends': 1837, 'decide': 1148, 'go': 1924, 'wild': 4885, 'party': 3200, 'with': 4911, 'plenty': 3307, 'of': 3083, 'drinking': 1362, 'dancing': 1107, 'is': 2360, 'riding': 3695, 'boyfriend': 558, 'she': 3923, 'likes': 2602, 'but': 636, 'never': 3001, 'told': 4513, 'him': 2110, 'loved': 2670, 'as': 311, 'was': 4805, 'driving': 1368, 'car': 680, 'stopped': 4202, 'in': 2257, 'the': 4426, 'middle': 2833, 'road': 3709, 'unable': 4631, 'avoid': 363, 'an': 223, 'accident': 84, 'result': 3660, 'there': 4438, 'bloody': 513, 'loss': 2659, 'lives': 2628, 'along': 195, 'becomes': 434, 'emotionally': 1460, 'upset': 4687, 'has': 2043, 'nightmares': 3015, 'which': 4867, 'cause': 723, 'have': 2052, 'about': 67, 'coming': 896, 'back': 378, 'life': 2592, 'encounters': 1467, 'men': 2805, 'trying': 4601, 'murder': 2939, 'struggling': 4236, 'find': 1726, 'out': 3141, 'real': 3547, 'are': 285, 'wants': 4791, 'dead': 1132, 'will': 4886, 'survive': 4321, 'entire': 1502, 'horror': 2168, 'dreams': 1355, 'being': 448, 'made': 2697, 'love': 2669, 'by': 642, 'after': 143, 'he': 2056, 'died': 1244, 'finds': 1728, 'another': 250, 'guy': 2000, 'bed': 436, 'asking': 318, 'make': 2713, 'way': 4820, 'not': 3040, 'good': 1937, 'at': 331, 'all': 187, 'movie': 2926, 'bad': 382, 'attempt': 340, 'original': 3129, 'fans': 1650, 'feel': 1684, 'complete': 921, 'thing': 4450, 'people': 3221, 'forgotten': 1797, 'fact': 1621, 'that': 4424, 'reason': 3557, 'won': 4925, 'such': 4268, 'strictly': 4223, 'do': 1302, 'it': 2366, 'supposed': 4306, 'you': 4986, 'makes': 2716, 'me': 2778, 'want': 4788, 'am': 204, 'negative': 2991, 'type': 4621, 'man': 2721, 'acting': 99, 'flick': 1754, 'no': 3020, 'comment': 898, 'plot': 3309, 'reflection': 3585, 'sorry': 4076, 'had': 2003, 'two': 4620, 'hours': 2177, 'my': 2951, 'time': 4495, 'money': 2888, 'wasted': 4809, 'on': 3105, 'still': 4188, 'best': 469, 'let': 2579, 'ruin': 3750, 'opinion': 3118, 'when': 4862, 'cartoon': 704, 'first': 1736, 'aired': 165, 'under': 4639, 'impression': 2252, 'would': 4957, 'be': 418, 'least': 2554, 'half': 2007, 'descent': 1193, 'boy': 557, 'wrong': 4973, 'must': 2950, 'admit': 122, 'watching': 4815, 'almost': 193, 'painful': 3171, 'batman': 413, 'robin': 3715, 'george': 1893, 'those': 4460, 'years': 4979, 'ago': 154, 'watched': 4813, 'few': 1700, 'episodes': 1508, 'them': 4432, 'literally': 2622, 'get': 1899, 'his': 2118, 'ass': 323, 'kicked': 2461, 'left': 2561, 'right': 3696, 'like': 2599, 'jet': 2400, 'li': 2587, 'beat': 423, 'crap': 1031, 'episode': 1507, 'where': 4864, 'got': 1944, 'butt': 638, 'again': 146, 'apparently': 270, 'using': 4698, 'jackie': 2374, 'chan': 746, 'moves': 2925, 'while': 4868, 'air': 164, 'ninja': 3018, 'since': 3990, 'were': 4848, 'or': 3124, 'ever': 1538, 'match': 2762, 'for': 1784, 'worse': 4951, 'yet': 4984, 'kung': 2498, 'fu': 1844, 'its': 2370, 'truly': 4597, 'embarrassing': 1454, 'depressing': 1188, 'sad': 3767, 'image': 2233, 'portrayed': 3342, 'show': 3953, 'animation': 242, 'awful': 372, 'dialog': 1232, 'terrible': 4407, 'fan': 1648, 'can': 665, 'honestly': 2147, 'strongly': 4231, 'advise': 134, 'stay': 4166, 'away': 369, 'cost': 1003, 'because': 432, 'doesnt': 1309, 'project': 3427, 'true': 4596, 'more': 2904, 'wannabe': 4787, 'if': 2222, 'really': 3556, 'wanna': 4786, 'see': 3855, 'classic': 835, 'recommend': 3571, 'animated': 241, 'series': 3890, 'nothing': 3047, 'than': 4420, 'piece': 3272, 'dont': 1324, 'waste': 4808, 'your': 4991, 'meant': 2784, 'comedy': 890, 'mainly': 2708, 'taste': 4369, 'remotely': 3623, 'causing': 726, 'smile': 4036, 'couple': 1016, 'child': 789, 'situation': 4008, 'instance': 2304, 'scenes': 3811, 'funny': 1852, 'quite': 3495, 'frankly': 1823, 'male': 2719, 'lead': 2545, 'plays': 3301, 'construction': 960, 'worker': 4942, 'hard': 2033, 'hat': 2045, 'comes': 891, 'across': 96, 'poor': 3328, 'excuse': 1564, 'from': 1840, 'village': 4743, 'female': 1693, 'look': 2646, '20': 29, 'younger': 4990, 'both': 547, 'leads': 2548, 'come': 886, 'completely': 922, 'unconvincing': 4638, 'various': 4715, 'ridiculous': 3693, 'totally': 4532, 'gratuitous': 1961, 'example': 1553, 'budget': 610, 'devoid': 1230, 'any': 256, 'humor': 2192, 'only': 3110, 'give': 1912, '10': 0, 'instead': 2307, 'mark': 2739, 'shirley': 3936, 'class': 833, 'above': 68, 'anything': 260, 'else': 1448, 'some': 4061, 'old': 3100, 'music': 2946, 'actually': 109, 'sat': 3786, 'independent': 2272, 'films': 1721, 'whole': 4873, 'zombie': 4997, 'general': 1880, 'add': 115, 'youve': 4995, 'line': 2610, 'should': 3951, 'hope': 2155, 'great': 1964, 'making': 2718, 'then': 4436, 'wasnt': 4807, 'total': 4531, 'youd': 4987, 'know': 2489, 'though': 4461, 'script': 3834, 'kidding': 2465, 'think': 4452, 'even': 1533, 'trees': 4577, 'cinematography': 820, 'well': 4843, 'been': 438, 'camera': 659, 'period': 3236, 'actual': 108, 'planning': 3291, 'involved': 2346, 'wont': 4932, 'further': 1853, 'start': 4156, 'finish': 1732, 'cant': 671, 'take': 4349, 'eyes': 1613, 'clips': 852, 'michael': 2829, 'singing': 3995, 'just': 2437, 'studio': 4240, 'tour': 4538, 'mini': 2854, 'cool': 989, 'special': 4097, 'fx': 1858, 'genius': 1887, 'always': 203, 'we': 4823, 'enjoyed': 1486, 'grey': 1973, 'simple': 3983, 'tale': 4353, 'fashion': 1659, 'little': 2624, 'over': 3148, 'stress': 4220, 'dignity': 1252, 'values': 4710, 'beautifully': 429, 'shot': 3949, 'nice': 3008, 'pace': 3161, 'story': 4207, 'turned': 4606, 'native': 2972, 'indian': 2274, 'went': 4847, 'live': 2625, 'trap': 4563, 'canada': 666, 'solid': 4057, 'performances': 3229, 'message': 2819, 'easy': 1410, 'viewing': 4740, 'stars': 4155, 'without': 4913, 'doubt': 1332, 'seen': 3865, 'meet': 2793, 'read': 3543, '1930s': 11, 'unique': 4662, 'character': 758, 'fitting': 1742, 'tribute': 4581, 'fair': 1630, 'share': 3920, 'movies': 2927, 'so': 4046, 'fresh': 1833, 'wonder': 4926, 'why': 4878, 'walked': 4776, 'pass': 3201, 'video': 4733, 'store': 4204, 'murphy': 2944, 'pretty': 3384, 'jokes': 2415, 'too': 4522, 'every': 1539, 'could': 1007, 'called': 652, 'minutes': 2859, 'most': 2909, 'incredible': 2269, 'comic': 893, 'say': 3799, 'did': 1241, 'dr': 1340, 'ice': 2210, 'throwing': 4480, 'mothers': 2912, 'aunt': 355, 'racism': 3502, 'everything': 1544, 'possibly': 3351, 'ones': 3108, 'couldnt': 1008, 'please': 3304, 'theres': 4440, 'direct': 1258, 'quality': 3484, 'written': 4972, 'stephen': 4176, 'often': 3095, 'used': 4693, 'fully': 1847, 'aware': 368, 'says': 3801, 'lets': 2580, 'hell': 2077, 'break': 569, 'loose': 2650, 'fifteen': 1706, 'into': 2332, 'forget': 1793, 'development': 1225, 'needs': 2990, 'anyway': 261, 'violent': 4748, 'mother': 2911, 'son': 4070, 'pair': 3176, 'human': 2188, 'creatures': 1046, 'suck': 4269, 'moving': 2928, 'town': 4541, 'living': 2629, 'existence': 1571, 'their': 4431, 'teenager': 4390, 'fight': 1707, 'before': 440, 'said': 3774, 'done': 1322, 'many': 2732, 'possible': 3350, 'death': 1141, 'beloved': 461, 'setting': 3900, 'up': 4683, 'executed': 1565, 'handsome': 2021, 'american': 213, 'charles': 764, 'someone': 4064, 'entirely': 1503, 'different': 1248, 'claims': 830, 'gets': 1900, 'hand': 2015, 'ripped': 3701, 'neck': 2985, 'torn': 4528, 'arms': 294, 'drawing': 1350, 'energy': 1478, 'turn': 4605, 'new': 3003, 'target': 4366, 'seems': 3864, 'case': 707, 'seriously': 3892, 'cat': 713, 'vengeance': 4719, 'mary': 2751, 'high': 2100, 'water': 4816, 'goal': 1925, 'refreshing': 3586, 'dying': 1393, 'teenagers': 4391, 'crush': 1072, 'certain': 737, 'actresses': 106, 'amy': 222, 'shes': 3930, 'simply': 3986, 'adorable': 124, 'how': 2181, 'lower': 2677, 'obvious': 3071, 'attraction': 350, 'towards': 4540, 'unaware': 4632, 'motives': 2916, 'knew': 2486, 'scream': 3826, 'queen': 3485, 'wouldve': 4959, 'genre': 1888, 'open': 3112, 'menacing': 2807, 'damn': 1100, 'sexy': 3911, 'vicious': 4728, 'mean': 2779, 'police': 3322, 'force': 1786, 'parents': 3188, 'fail': 1625, 'less': 2575, 'ten': 4399, 'ron': 3734, 'bone': 533, 'own': 3158, 'mom': 2885, 'through': 4477, 'window': 4894, 'breaking': 570, 'rose': 3739, 'fathers': 1667, 'face': 1616, 'ear': 1397, 'falling': 1639, 'extra': 1606, 'impact': 2244, 'dragged': 1343, 'hair': 2005, 'home': 2142, 'driven': 1365, 'brady': 561, 'forced': 1787, 'dance': 1103, 'monster': 2892, 'sheriff': 3929, 'onto': 3111, 'cats': 721, 'combat': 882, 'unlike': 4670, 'humans': 2190, 'abilities': 64, 'themselves': 4435, 'power': 3359, 'writer': 4968, 'king': 2479, 'include': 2261, 'himself': 2111, 'director': 1264, 'buddies': 608, 'crime': 1055, 'scene': 3809, 'sequence': 3887, 'officers': 3093, 'joe': 2407, 'john': 2409, 'tongue': 4518, 'cheek': 779, 'hang': 2022, 'manner': 2729, 'technique': 4383, 'ultra': 4629, 'violence': 4747, 'behavior': 446, 'black': 493, 'direction': 1261, 'kings': 2481, 'screenplay': 3831, 'angle': 236, 'bit': 488, 'complexity': 924, 'closer': 856, 'demented': 1176, 'serious': 3891, 'works': 4945, 'sun': 4292, 'shining': 3933, 'brilliantly': 584, 'quiet': 3492, 'sunday': 4293, 'wake': 4774, 'felt': 1692, 'soft': 4051, 'past': 3207, 'feet': 1688, 'walk': 4775, 'alongside': 196, 'perfect': 3224, 'day': 1129, 'stop': 4201, 'city': 825, 'lights': 2597, 'course': 1019, 'flight': 1757, 'paris': 3189, 'reasonably': 3559, 'humble': 2191, 'critics': 1064, 'next': 3007, 'collection': 874, '18': 10, 'short': 3946, 'variety': 4714, 'international': 2326, 'directors': 1266, 'each': 1395, 'named': 2961, 'neighborhood': 2993, 'careful': 688, 'powerful': 3360, 'emotions': 1461, 'game': 1864, 'results': 3662, 'romantic': 3733, 'surprisingly': 4316, 'consistent': 953, 'what': 4858, 'better': 472, 'express': 1600, 'nature': 2975, 'moment': 2886, 'change': 749, 'filmed': 1717, 'moments': 2887, 'poetic': 3313, 'quote': 3496, 'taken': 4350, 'tom': 4514, 'form': 1798, 'run': 3755, 'uses': 4697, 'photography': 3260, 'originally': 3131, '2004': 34, 'down': 1335, 'actress': 105, 'part': 3193, 'thomas': 4458, 'blind': 506, 'falls': 1640, 'here': 2086, 'other': 3135, 'point': 3316, 'nearly': 2981, 'lose': 2654, 'reminds': 3620, 'us': 4690, 'tricks': 4583, 'play': 3296, 'our': 3139, 'minds': 2852, 'create': 1036, 'perhaps': 3235, 'offering': 3089, 'title': 4504, 'de': 1131, 'gives': 1914, 'tells': 4397, 'met': 2822, 'fell': 1690, 'father': 1666, 'paul': 3214, 'surreal': 4317, 'scenario': 3808, 'eventually': 1537, 'jail': 2376, 'meets': 2795, 'woman': 4921, 'something': 4066, 'art': 304, 'isnt': 2362, 'already': 197, 'points': 3319, 'silent': 3975, 'finger': 1731, 'act': 97, 'absurd': 73, 'might': 2835, 'likely': 2601, 'circumstances': 822, 'ourselves': 3140, 'keeps': 2451, 'flow': 1762, 'lively': 2627, 'focusing': 1769, 'between': 475, 'lovers': 2673, 'three': 4469, 'memorable': 2802, 'shorts': 3948, 'focus': 1766, 'parent': 3187, 'walter': 4784, 'sing': 3992, 'same': 3778, 'song': 4071, 'distant': 1295, 'watches': 4814, 'un': 4630, 'desperately': 1209, 'overcome': 3151, 'feels': 1687, 'losing': 2658, 'given': 1913, 'talent': 4354, 'struggle': 4234, 'evident': 1547, 'learns': 2553, 'sometimes': 4067, 'means': 2783, 'letting': 2583, 'children': 792, 'nick': 3012, 'grown': 1984, 'daughter': 1121, 'walking': 4779, 'together': 4511, 'long': 2644, 'street': 4216, 'close': 853, 'distance': 1294, 'characters': 760, 'place': 3282, 'last': 2521, 'screen': 3829, 'alexander': 180, 'usual': 4699, 'takes': 4351, 'ordinary': 3128, 'person': 3238, 'shows': 3960, 'extraordinary': 1607, 'carol': 693, 'alone': 194, 'liked': 2600, 'dogs': 1311, 'waiting': 4772, 'plain': 3286, 'herself': 2092, 'rich': 3685, 'delivered': 1170, 'french': 1830, 'spends': 4107, 'much': 2934, 'happy': 2032, 'despite': 1211, 'numerous': 3062, 'sits': 4006, 'realizes': 3554, 'loves': 2674, 'itself': 2371, 'appear': 273, 'center': 732, 'universe': 4666, 'they': 4442, 'helping': 2081, 'fall': 1637, 'reaching': 3539, 'touching': 4536, 'knowledge': 2491, 'outside': 3146, 'miss': 2866, 'these': 4441, 'remind': 3618, 'shine': 3931, 'sky': 4017, 'keep': 2449, 'heart': 2064, 'believe': 454, 'door': 1328, 'ive': 2372, 'bought': 552, 'disc': 1278, 'second': 3846, 'rate': 3526, 'presentation': 3375, 'company': 910, 'identify': 2216, 'put': 3480, 'several': 3905, 'pan': 3180, 'dvds': 1392, 'clean': 838, 'star': 4150, '80': 58, 'name': 2960, 'anyone': 259, 'format': 1799, 'viewer': 4738, 'choice': 797, 'full': 1846, 'others': 3136, 'theatrical': 4430, 'release': 3602, 'chest': 784, 'ill': 2228, 'spooky': 4128, 'oddly': 3081, 'enough': 1491, 'amusing': 221, 'picture': 3269, 'score': 3822, 'usually': 4700, 'set': 3898, 'century': 736, 'france': 1816, 'screaming': 3827, 'regular': 3592, 'minor': 2857, 'able': 66, 'fast': 1661, 'forward': 1808, 'beyond': 476, 'things': 4451, 'saw': 3798, 'staged': 4140, 'version': 4720, 'having': 2054, 'folks': 1771, 'roles': 3727, 'sets': 3899, 'careers': 687, 'broadway': 592, 'arm': 292, 'leg': 2562, 'theatre': 4429, 'average': 362, 'now': 3054, 'paying': 3217, 'entertainment': 1500, 'probably': 3407, 'going': 1931, 'hit': 2122, 'caine': 647, 'christopher': 811, 'large': 2517, 'early': 1400, '80s': 59, 'thats': 4425, 'react': 3540, 'overall': 3150, 'theyre': 4445, 'definitely': 1162, 'equally': 1510, 'criminal': 1057, 'ultimate': 4627, 'recently': 3567, 'forty': 1807, 'holds': 2131, 'especially': 1520, 'outstanding': 3147, 'songs': 4072, 'buy': 640, 'magical': 2704, 'disagree': 1269, 'post': 3352, 'rating': 3529, 'ratings': 3530, 'system': 4345, 'brand': 565, 'intended': 2315, 'conflict': 939, 'kids': 2467, 'description': 1197, 'once': 3106, 'wizard': 4919, 'oz': 3160, 'arrives': 302, 'strange': 4211, 'land': 2511, 'kills': 2474, 'goes': 1930, 'trip': 4588, 'amazed': 208, 'evil': 1548, 'history': 2121, 'world': 4946, 'religion': 3607, 'catholic': 720, 'church': 813, 'ireland': 2352, 'rank': 3518, 'near': 2979, 'top': 4525, 'considering': 952, 'wisdom': 4902, 'modern': 2882, 'times': 4497, 'effect': 1428, 'ignorant': 2223, 'inane': 2258, 'beginning': 443, 'offered': 3088, 'view': 4736, 'small': 4033, 'irish': 2353, 'sean': 3840, 'happily': 2030, 'married': 2744, 'raised': 3508, 'sign': 3970, 'loving': 2675, 'relationships': 3598, 'soon': 4074, 'desire': 1205, 'older': 3101, 'attend': 344, 'school': 3813, 'local': 2634, 'priest': 3392, 'upon': 4684, 'sin': 3988, 'husband': 2204, 'population': 3335, 'against': 147, 'desperation': 1210, 'daughters': 1122, 'area': 286, 'note': 3044, 'extremely': 1610, 'performance': 3228, 'drawn': 1351, 'emotional': 1459, 'decides': 1150, 'wishes': 4906, 'deeply': 1156, 'order': 3126, 'equal': 1509, 'realistic': 3550, 'portrait': 3339, 'complex': 923, 'wife': 4884, 'influence': 2286, 'community': 908, 'fiction': 1702, 'compelling': 916, 'interesting': 2325, 'drama': 1346, 'changes': 751, 'horrific': 2166, 'tragedy': 4551, 'events': 1536, 'took': 4523, 'role': 3726, 'lived': 2626, 'religious': 3608, 'fellow': 1691, 'whether': 4866, 'basic': 406, 'rights': 3697, 'education': 1424, 'buildings': 616, 'women': 4923, 'torture': 4529, 'certainly': 738, 'ability': 65, 'use': 4692, 'society': 4050, 'barbara': 397, 'beautiful': 428, 'incredibly': 2270, 'creepy': 1052, 'house': 2178, 'unexpected': 4650, 'unseen': 4678, 'picked': 3266, 'copy': 994, 'interested': 2324, 'seeing': 3857, 'whom': 4875, 'id': 2212, 'viewed': 4737, 'spy': 4135, 'appreciate': 279, 'premise': 3370, 'tv': 4610, 'reporter': 3636, 'walks': 4780, 'cover': 1022, 'festival': 1697, 'california': 650, 'swedish': 4335, 'putting': 3482, 'big': 478, 'folk': 1770, 'brings': 587, 'happens': 2029, 'sister': 4001, 'late': 2523, 'karen': 2444, 'ladies': 2506, 'mrs': 2930, 'dennis': 1179, 'wilson': 4891, 'follows': 1775, 'hes': 2093, 'lot': 2661, 'feeling': 1685, 'watch': 4811, 'tear': 4379, 'anymore': 258, 'football': 1783, 'career': 686, 'arrive': 300, 'station': 4164, 'maybe': 2776, 'gonna': 1936, 'ask': 316, 'around': 297, 'nowhere': 3056, 'hotel': 2175, 'serves': 3895, 'museum': 2945, 'catch': 714, 'interest': 2323, 'mr': 2929, 'sidney': 3968, 'receive': 3563, 'oh': 3096, 'phone': 3255, 'call': 651, 'warning': 4800, 'threatening': 4468, 'shed': 3924, 'trouble': 4592, 'eager': 1396, 'settle': 3902, 'shoot': 3942, 'footage': 1782, 'interview': 2329, 'girls': 1911, 'leave': 2555, 'behind': 447, 'wondering': 4930, 'played': 3297, 'looks': 2649, 'lost': 2660, 'pal': 3177, 'speaking': 4095, 'clothes': 860, 'hot': 2174, 'realizing': 3555, 'room': 3735, 'thinks': 4454, 'deliver': 1169, 'calls': 654, 'thanks': 4423, 'job': 2405, 'fat': 1663, 'didnt': 1242, 'decent': 1147, 'frightening': 1839, 'round': 3742, 'action': 100, 'floor': 1759, 'argument': 291, 'kitchen': 2485, 'hands': 2020, 'getting': 1901, 'flashback': 1746, 'sick': 3963, 'sadistic': 3768, 'background': 380, 'finally': 1724, 'meanwhile': 2785, 'reveal': 3670, 'secret': 3849, 'basement': 405, 'opens': 3115, 'cannot': 670, 'methods': 2825, 'expression': 1602, 'brain': 562, 'winds': 4895, 'satisfying': 3791, 'resolution': 3649, 'stupid': 4247, 'cheap': 774, 'rolling': 3730, 'cut': 1089, 'treat': 4572, 'killers': 2471, 'seemed': 3862, 'cheesy': 781, 'dialogue': 1234, 'martial': 2747, 'arts': 310, 'sequences': 3888, 'aged': 149, 'chuck': 812, 'playing': 3300, 'beach': 419, 'try': 4600, 'sneak': 4043, 'intent': 2318, 'hitting': 2126, 'ball': 388, 'notice': 3048, 'suddenly': 4273, 'reaches': 3538, 'bag': 384, 'spoil': 4121, 'youll': 4988, 'thank': 4421, 'nonsense': 3030, 'stolen': 4195, 'bunch': 623, 'heroes': 2089, 'trained': 4557, 'ways': 4822, 'guys': 2001, 'seem': 3861, 'training': 4558, 'does': 1308, 'move': 2921, 'may': 2775, 'overdone': 3152, 'sound': 4081, 'effects': 1431, 'boring': 543, 'cliché': 844, 'lines': 2612, 'documentary': 1307, 'main': 2707, 'thin': 4449, 'cia': 814, 'agent': 150, 'kill': 2468, 'oil': 3097, 'prince': 3396, 'caught': 722, 'therefore': 4439, 'elements': 1443, 'added': 116, 'kid': 2464, 'dies': 1245, 'natural': 2973, 'response': 3654, 'responsible': 3656, 'sons': 4073, 'lawyer': 2541, 'drunk': 1375, 'friend': 1835, 'knows': 2493, 'suicide': 4283, 'terrorists': 4414, 'blow': 514, 'ship': 3934, 'worst': 4952, 'neither': 2996, 'entertained': 1498, 'nor': 3032, 'laughed': 2532, 'cried': 1054, 'gain': 1863, 'understanding': 4645, 'compelled': 915, 'learn': 2550, 'starts': 4159, 'head': 2057, 'deal': 1135, 'ghosts': 1903, 'demons': 1178, 'brother': 598, 'found': 1811, 'york': 4985, 'alex': 179, 'peter': 3247, 'asks': 319, 'investigate': 2342, 'mysterious': 2955, 'surrounding': 4319, 'girlfriend': 1910, 'travels': 4569, 'italy': 2368, 'truth': 4599, 'begins': 444, 'appears': 278, 'die': 1243, 'activities': 102, 'whats': 4860, 'believes': 456, 'also': 199, 'german': 1896, 'co': 867, 'production': 3419, 'produced': 3414, 'directed': 1259, 'im': 2232, 'honest': 2146, 'mess': 2818, 'ok': 3098, 'ideas': 2215, 'predictable': 3367, 'dull': 1384, 'silly': 3976, 'far': 1653, 'concept': 930, 'clever': 841, 'neat': 2982, 'twist': 4617, 'ending': 1471, 'ties': 4490, 'circle': 821, 'thought': 4462, 'lazy': 2543, 'end': 1468, 'themes': 4434, 'morality': 2903, 'faith': 1633, 'belief': 451, 'blah': 496, 'sort': 4077, 'twists': 4619, 'arent': 288, 'abuse': 74, 'corruption': 1002, 'greed': 1968, 'etc': 1527, 'clichéd': 845, 'hollywood': 2137, 'deals': 1137, 'sucks': 4271, 'sure': 4308, 'appeal': 271, 'thriller': 4472, 'thrilling': 4474, 'mystery': 2956, 'maintain': 2710, 'figure': 1711, 'imdb': 2240, 'exciting': 1563, 'packed': 3166, 'present': 3374, 'harsh': 2040, 'lighting': 2596, 'scheme': 3812, 'light': 2595, 'scares': 3806, 'either': 1438, 'apart': 264, 'birds': 485, 'apparent': 269, 'gore': 1941, 'fine': 1729, 'helped': 2080, 'somewhat': 4068, 'watchable': 4812, 'according': 88, 'section': 3853, 'date': 1118, 'improved': 2255, 'looked': 2647, 'unintentionally': 4659, 'judging': 2425, 'finished': 1733, 'exactly': 1551, 'brilliant': 583, 'stands': 4147, 'design': 1202, 'utterly': 4702, 'forgettable': 1794, 'although': 201, 'annoying': 249, 'foul': 1810, 'relief': 3605, 'actor': 103, 'deserves': 1201, 'prefer': 3368, 'matters': 2770, 'misses': 2868, 'mile': 2842, 'concerned': 932, '100': 1, 'odd': 3080, 'recommended': 3572, 'reed': 3580, 'don': 1320, 'daring': 1114, 'serial': 3889, 'features': 1680, 'bar': 396, 'none': 3028, 'theme': 4433, 'famous': 1647, 'stunt': 4245, 'stunts': 4246, 'lots': 2662, 'raising': 3509, 'cliff': 847, 'chapter': 757, 'endings': 1472, 're': 3535, 'slow': 4031, 'motion': 2913, 'turns': 4609, 'jones': 2418, 'eat': 1411, 'guess': 1989, 'problem': 3408, '14': 6, 'understand': 4643, 'cared': 685, 'laugh': 2529, 'suggest': 4280, 'youre': 4992, 'flaws': 1752, 'stories': 4205, 'kick': 2460, 'continues': 971, 'cartoons': 705, 'today': 4508, 'wait': 4770, 'track': 4544, 'introduced': 2337, '15': 7, 'awesome': 371, 'dust': 1388, '2007': 37, 'lame': 2510, 'summer': 4291, 'hype': 2207, 'everyone': 1542, 'cinematic': 818, 'shots': 3950, 'otherwise': 3137, 'lacks': 2505, 'fails': 1628, 'okay': 3099, 'write': 4967, 'building': 615, 'cast': 710, 'brothers': 599, 'sitting': 4007, 'wealthy': 4827, 'smoking': 4040, 'river': 3707, 'marvelous': 2750, 'defeat': 1157, 'sympathy': 4343, '60s': 54, 'ends': 1474, 'del': 1165, 'splendid': 4119, 'icon': 2211, 'revolutionary': 3681, 'remains': 3611, 'regardless': 3590, 'success': 4265, 'failure': 1629, 'legend': 2564, 'acted': 98, 'greatest': 1966, 'succeeded': 4263, 'wrote': 4974, 'dark': 1115, 'cgi': 740, 'bugs': 613, 'subtitles': 4259, 'talking': 4360, 'wasting': 4810, 'dumb': 1385, 'throw': 4479, 'zombies': 4998, 'news': 3005, 'yelling': 4980, 'deaths': 1142, 'occur': 3076, 'realize': 3552, 'common': 906, 'impressive': 2253, 'kind': 2476, 'screenwriter': 3833, 'whatever': 4859, 'chose': 804, 'started': 4157, 'care': 684, 'preview': 3386, 'improve': 2254, '3rd': 47, 'andy': 230, 'saturday': 3792, 'jumping': 2431, 'mail': 2706, 'truck': 4595, 'yes': 4982, 'worthy': 4956, 'fisher': 1739, 'slightly': 4029, 'mature': 2773, 'join': 2412, 'crew': 1053, 'snl': 4044, 'kevin': 2457, 'marie': 2737, 'frank': 1821, 'powell': 3358, 'ian': 2209, 'tough': 4537, 'enjoys': 1489, 'beating': 425, 'drag': 1342, 'clear': 839, 'respect': 3652, 'till': 4493, 'determined': 1221, 'raise': 3507, 'prove': 3445, 'mountain': 2917, 'side': 3965, 'seed': 3856, 'doing': 1312, 'cringe': 1059, 'childrens': 793, 'birthday': 487, 'showing': 3958, 'managed': 2723, 'saves': 3796, 'jump': 2429, 'broadcast': 591, 'outfit': 3144, 'tunes': 4603, '90': 60, 'minute': 2858, 'technical': 4381, 'sense': 3877, 'clearly': 840, 'creating': 1039, 'television': 4394, 'impossible': 2249, 'mission': 2870, 'among': 217, 'biggest': 480, 'planet': 3289, 'difficult': 1249, 'pathetic': 3210, 'taking': 4352, 'price': 3389, 'oscars': 3134, 'continue': 969, 'health': 2060, 'listen': 2619, 'press': 3379, 'super': 4295, 'button': 639, 'reviewer': 3677, 'feminist': 1695, 'catherine': 719, 'historically': 2120, 'accurate': 90, 'russian': 3762, 'exception': 1557, 'particular': 3194, 'politically': 3325, 'correct': 1000, 'depiction': 1185, 'boss': 546, 'single': 3996, 'handed': 2016, 'moved': 2922, 'brought': 600, 'bond': 532, 'military': 2844, 'challenge': 743, 'cultural': 1078, 'proof': 3434, 'popular': 3333, 'costume': 1005, 'ted': 4386, 'turner': 4607, 'badly': 383, 'west': 4852, 'wave': 4818, 'japanese': 2382, 'cinema': 816, 'creative': 1041, 'working': 4944, 'pieces': 3273, 'terms': 4406, 'color': 877, 'editing': 1421, 'samurai': 3779, 'allows': 192, 'traditional': 4550, 'beliefs': 452, 'powers': 3361, 'ancient': 225, 'culture': 1079, 'explored': 1595, '2001': 31, 'recent': 3566, 'highly': 2105, 'twilight': 4614, '2002': 32, '2003': 33, 'humour': 2194, 'aimed': 162, 'adults': 126, 'painfully': 3172, 'seasons': 3844, 'season': 3843, 'amazing': 209, 'writing': 4971, 'generous': 1886, 'abysmal': 76, 'became': 431, 'soap': 4047, 'opera': 3116, 'werent': 4849, 'came': 656, 'idea': 2213, 'credits': 1050, 'received': 3564, 'mixed': 2877, 'positive': 3346, 'regarding': 3589, 'attention': 345, 'sensitive': 3879, 'style': 4249, 'surprise': 4312, 'discovered': 1280, 'williams': 4888, 'poignant': 3315, 'scores': 3823, 'list': 2617, 'wars': 4804, 'heard': 2062, 'beauty': 430, 'keeping': 2450, 'tender': 4401, 'lovely': 2671, 'wit': 4908, 'stanley': 4148, 'green': 1971, 'valley': 4707, 'african': 142, 'south': 4087, 'danny': 1112, 'tell': 4395, 'necessary': 2984, 'intellectual': 2312, 'spiritual': 4116, 'excellent': 1555, 'addition': 118, 'based': 404, 'denzel': 1181, 'washington': 4806, 'decade': 1144, 'soldier': 4053, 'civil': 826, 'war': 4792, 'glory': 1922, 'year': 4978, 'academy': 77, 'award': 366, 'wanted': 4789, 'derek': 1192, 'luke': 2687, 'silver': 3977, 'guest': 1992, 'appearances': 275, 'appearing': 277, 'directing': 1260, 'undoubtedly': 4648, 'believed': 455, 'navy': 2976, 'constantly': 958, 'fights': 1710, 'sent': 3880, 'psychiatrist': 3455, 'helps': 2082, 'troubled': 4593, 'finding': 1727, 'birth': 486, 'prison': 3401, 'overly': 3155, 'melodramatic': 2798, 'expecting': 1578, 'hunting': 2201, 'fighting': 1709, 'contrary': 974, 'however': 2183, 'dramatic': 1348, 'affect': 136, 'carrying': 701, 'closing': 859, 'born': 544, 'rock': 3720, 'soul': 4079, 'typical': 4623, 'clichés': 846, 'bring': 585, 'actors': 104, 'complain': 919, 'ludicrous': 2685, 'davis': 1126, 'barely': 399, 'shock': 3938, 'lack': 2502, 'basically': 407, 'havent': 2053, 'elaborate': 1439, 'sight': 3969, 'kate': 2446, 'heaven': 2068, 'steven': 4182, 'remake': 3612, 'scientist': 3818, 'doomed': 1327, 'space': 4090, 'craft': 1028, 'tears': 4380, 'remember': 3616, 'thinking': 4453, 'wow': 4962, 'brief': 579, 'gave': 1875, 'sadness': 3770, 'definite': 1161, 'potential': 3355, 'leading': 2547, 'rather': 3528, 'nonetheless': 3029, 'pulls': 3464, 'directorial': 1265, 'debut': 1143, 'talented': 4355, 'critical': 1062, 'fame': 1642, 'portrayal': 3341, 'public': 3460, 'popularity': 3334, 'lawrence': 2539, 'book': 535, 'fish': 1738, 'dvd': 1391, 'unit': 4663, 'poorly': 3329, 'obviously': 3072, 'filming': 1718, 'location': 2635, 'absolutely': 72, 'need': 2987, 'horrible': 2163, 'disgusting': 1286, 'thumbs': 4485, 'paced': 3162, 'edgar': 1417, 'wallace': 4782, 'cross': 1066, 'pop': 3330, 'thrillers': 4473, 'uncle': 4636, 'outrageous': 3145, 'villain': 4744, 'earlier': 1399, 'stylish': 4251, 'breaks': 571, 'victims': 4730, 'deadly': 1133, 'filled': 1715, 'cops': 993, 'opportunity': 3121, 'wonderfully': 4929, 'link': 2613, 'later': 2525, 'giallo': 1904, 'happened': 2027, 'students': 4239, 'appropriate': 283, 'monk': 2889, 'master': 2757, 'mind': 2849, 'trapped': 4564, 'blows': 517, 'audiences': 353, 'alfred': 181, 'visually': 4758, 'colour': 880, 'white': 4870, 'backgrounds': 381, 'friendly': 1836, 'swimming': 4338, 'pool': 3327, 'backdrop': 379, 'trademark': 4548, 'hiding': 2099, 'card': 681, 'somewhere': 4069, 'eddie': 1416, 'chief': 788, 'inspector': 2299, 'sir': 4000, 'convinced': 984, 'unfortunately': 4654, 'gone': 1935, 'bigger': 479, 'charm': 767, 'worked': 4941, 'blatant': 502, 'level': 2584, 'viewers': 4739, 'fabulous': 1615, 'rented': 3628, 'stunning': 4244, 'work': 4940, 'douglas': 1334, 'hudson': 2184, 'dorothy': 1330, 'oscar': 3133, 'winner': 4897, 'robert': 3713, 'nominated': 3025, 'bacall': 377, 'words': 4938, 'describe': 1194, 'homage': 2141, 'stones': 4198, 'instinct': 2308, 'joke': 2414, 'hilarious': 2106, 'riveting': 3708, 'campy': 664, 'trashy': 4566, 'eye': 1611, 'smooth': 4041, 'polished': 3323, 'breathtaking': 574, 'opening': 3114, 'montage': 2894, 'dimensional': 1253, 'unforgettable': 4652, 'final': 1722, 'sit': 4003, 'wind': 4893, 'contains': 964, 'shame': 3918, 'todd': 4510, 'favorite': 1671, 'achieved': 93, 'cult': 1077, 'status': 4165, 'provoking': 3452, 'pack': 3165, 'winter': 4900, 'myself': 2953, 'pushing': 3479, 'answer': 251, 'question': 3487, 'saying': 3800, 'gothic': 1945, 'suspense': 4330, 'afraid': 140, 'shadows': 3913, 'devil': 1228, 'details': 1219, 'gary': 1873, 'cole': 873, 'followed': 1773, 'miscast': 2862, 'lucas': 2680, 'buck': 605, 'likable': 2598, 'standards': 4145, 'madness': 2698, 'shark': 3921, 'maker': 2714, 'broken': 594, 'turning': 4608, 'whenever': 4863, 'daily': 1097, 'attached': 336, 'showed': 3956, 'caused': 724, 'edge': 1418, 'unfortunate': 4653, 'hed': 2072, 'stuff': 4243, 'flashbacks': 1747, 'conversations': 981, 'four': 1812, 'self': 3869, 'fault': 1668, 'hole': 2132, 'pilot': 3276, 'weve': 4856, 'established': 1524, 'shooting': 3943, 'anti': 254, 'taylor': 4372, 'via': 4726, 'fed': 1682, 'ex': 1549, 'within': 4912, 'five': 1743, 'piano': 3264, 'unnecessary': 4672, 'remarks': 3615, 'producers': 3416, 'quest': 3486, 'network': 3000, 'jerk': 2395, 'suits': 4287, 'alike': 185, 'word': 4937, 'dawn': 1127, 'indeed': 2271, 'term': 4405, 'hate': 2046, 'process': 3412, 'imagination': 2236, 'countless': 1012, 'reasons': 3560, 'audience': 352, 'personally': 3243, 'generally': 1881, 'stealing': 4171, 'someones': 4065, 'pay': 3216, 'notes': 3046, 'curious': 1083, 'artificial': 306, 'marketing': 2741, 'grasp': 1960, 'chaos': 755, 'tried': 4584, 'ruins': 3752, 'thousands': 4466, 'adds': 119, 'except': 1556, 'atmosphere': 333, 'nonsensical': 3031, 'subplots': 4256, 'mall': 2720, 'crucial': 1068, 'purely': 3472, 'pure': 3471, 'joy': 2422, 'yourself': 4993, 'spirit': 4113, 'balls': 390, 'bother': 548, 'rushed': 3760, 'grew': 1972, 'realism': 3549, 'scary': 3807, 'tries': 4585, 'rest': 3657, 'loud': 2664, 'conflicts': 940, 'save': 3794, 'reduced': 3579, 'liners': 2611, 'inferior': 2285, 'inevitable': 2282, 'remembered': 3617, 'passion': 3205, 'christ': 807, 'number': 3060, 'spot': 4131, 'box': 555, 'office': 3091, 'fantastic': 1651, 'wonderful': 4928, 'mostly': 2910, 'thrown': 4481, 'haunting': 2051, 'tragic': 4552, 'reading': 3544, 'shown': 3959, 'answers': 252, 'questions': 3489, 'looking': 2648, 'glass': 1917, 'hear': 2061, 'punk': 3468, 'band': 391, 'sees': 3866, 'opened': 3113, 'gotta': 1946, 'low': 2676, 'props': 3439, 'plus': 3311, 'angel': 231, 'spent': 4108, 'producer': 3415, 'simplicity': 3984, 'subject': 4253, 'lowest': 2678, 'fire': 1734, 'amazingly': 210, 'sticks': 4186, 'body': 527, 'guard': 1988, 'alcoholic': 177, 'duty': 1390, 'latest': 2526, 'smart': 4035, 'acts': 107, 'convincing': 985, 'future': 1856, 'ahead': 159, 'complicated': 925, 'parts': 3199, 'hour': 2176, 'everyones': 1543, 'until': 4680, 'occurs': 3078, 'killed': 2469, 'gruesome': 1986, 'disturbing': 1300, 'severe': 3906, 'chasing': 772, 'killing': 2472, 'criminals': 1058, 'la': 2500, 'execution': 1566, 'talents': 4356, 'hasnt': 2044, 'deserved': 1200, 'visual': 4757, 'suspenseful': 4331, 'wouldnt': 4958, 'rent': 3626, 'dollar': 1314, 'rental': 3627, 'horrid': 2165, 'needless': 2989, 'composed': 926, 'bears': 421, 'united': 4664, 'states': 4163, 'september': 3884, 'attacks': 339, 'presents': 3377, 'disaster': 1276, 'attack': 337, 'countries': 1013, 'widely': 4881, 'terrorist': 4413, 'exceptionally': 1559, 'count': 1010, 'review': 3676, 'contained': 963, 'information': 2288, 'led': 2558, 'gay': 1876, 'team': 4378, 'merits': 2817, 'sexual': 3908, 'quick': 3490, 'expect': 1575, 'commercials': 903, 'faithful': 1634, 'broke': 593, 'free': 1827, 'radio': 3504, 'host': 2173, 'increasingly': 2268, 'poster': 3353, 'difference': 1246, 'opinions': 3119, 'drug': 1373, 'lol': 2640, 'patrick': 3213, 'moody': 2899, 'allowed': 190, 'angles': 237, 'help': 2079, 'feelings': 1686, 'tension': 4404, 'cuts': 1091, 'days': 1130, 'courage': 1018, 'wrap': 4963, 'enjoy': 1484, 'ben': 463, 'gangster': 1868, 'terrific': 4409, 'lee': 2559, 'van': 4713, 'arrested': 298, 'partner': 3198, 'hood': 2151, 'tony': 4521, 'unlikely': 4671, 'friendship': 1838, 'exact': 1550, 'revenge': 3675, 'rival': 3706, 'group': 1980, 'ruthless': 3764, 'louis': 2665, 'jean': 2389, 'constant': 957, 'gritty': 1977, 'occasionally': 3075, 'tone': 4517, 'throughout': 4478, 'considerable': 950, 'rip': 3700, 'shower': 3957, 'chase': 769, 'highlights': 2104, 'display': 1291, 'engaging': 1481, 'chemistry': 782, 'relationship': 3597, 'alas': 172, 'bare': 398, 'gorgeous': 1942, 'appreciated': 280, 'nude': 3058, 'jazz': 2387, 'hits': 2125, 'likewise': 2603, 'entertaining': 1499, 'traveling': 4568, 'league': 2549, 'photographer': 3259, 'abandoned': 62, 'worthwhile': 4955, 'dear': 1140, 'lord': 2652, 'huge': 2185, 'scarecrow': 3804, 'sex': 3907, 'shocking': 3940, 'pile': 3275, 'besides': 468, 'forgot': 1796, 'conclusion': 936, 'thirty': 4456, 'asleep': 320, 'third': 4455, 'laughing': 2533, 'developed': 1223, 'ignored': 2225, 'forever': 1792, 'afternoon': 144, 'sappy': 3784, 'crying': 1074, 'decision': 1151, 'scared': 3805, 'hoping': 2160, 'bobby': 525, 'meat': 2787, 'during': 1387, 'cry': 1073, 'evening': 1534, 'trust': 4598, 'hardly': 2036, 'evidence': 1546, 'pulling': 3463, 'mentioned': 2811, '13': 4, 'row': 3744, 'factor': 1622, 'limited': 2606, 'merit': 2816, 'per': 3223, 'intrigue': 2333, 'seemingly': 3863, 'murders': 2943, 'suspect': 4327, 'standard': 4144, 'engage': 1479, 'particularly': 3195, 'key': 2458, 'mere': 2814, 'week': 4837, 'acceptable': 81, 'celebrity': 729, 'hal': 2006, 'wish': 4904, 'hadnt': 2004, 'nobody': 3022, 'stays': 4169, 'strong': 4229, 'officer': 3092, 'practice': 3363, 'robbery': 3711, 'refuses': 3587, 'dirty': 1268, 'cop': 991, 'names': 2963, 'freeman': 1829, 'et': 1526, 'al': 170, 'promise': 3430, 'justin': 2440, 'repeatedly': 3632, 'teenage': 4389, 'choose': 799, 'former': 1800, 'amount': 219, 'singer': 3993, 'millions': 2848, 'successfully': 4267, 'feature': 1678, 'hardcore': 2034, 'ignore': 2224, 'aside': 315, 'holes': 2133, 'sudden': 4272, 'operation': 3117, 'thoroughly': 4459, 'disappointing': 1274, 'rated': 3527, 'christmas': 810, 'mexican': 2826, 'zero': 4996, 'dubbed': 1379, 'english': 1483, 'mid': 2832, '1960s': 15, 'mood': 2898, 'experience': 1580, 'reviewers': 3678, 'mechanical': 2788, 'plan': 3287, 'running': 3756, 'holiday': 2134, 'aka': 168, 'slowly': 4032, 'touch': 4533, 'expensive': 1579, 'cheese': 780, 'disappointed': 1273, 'guts': 1999, 'speaks': 4096, 'striking': 4226, 'freddy': 1826, 'shape': 3919, 'simon': 3982, 'buddy': 609, 'exist': 1569, 'snake': 4042, 'confused': 941, 'pretentious': 3383, 'technology': 4385, 'stick': 4185, 'romance': 3732, 'sequel': 3885, 'month': 2896, 'baby': 376, 'fun': 1848, 'quickly': 3491, 'toward': 4539, 'excitement': 1562, 'voice': 4761, 'dancer': 1104, 'bird': 484, 'pity': 3281, 'matter': 2769, 'unless': 4669, 'dubbing': 1380, 'amateurish': 207, 'sounded': 4082, 'weird': 4841, 'brando': 566, 'ought': 3138, 'orson': 3132, 'welles': 4844, 'america': 212, 'rural': 3758, 'charge': 761, 'twin': 4615, 'known': 2492, 'pregnant': 3369, 'losers': 2656, 'charlie': 765, 'hearts': 2066, 'belong': 459, 'daddy': 1096, 'fear': 1676, 'willing': 4889, 'jobs': 2406, 'commit': 904, 'train': 4556, 'burned': 626, 'beneath': 464, 'donald': 1321, 'sutherland': 4333, 'corrupt': 1001, 'judge': 2424, 'straight': 4210, 'fbi': 1675, 'presence': 3373, '40': 48, 'drive': 1363, 'red': 3576, 'state': 4160, 'easily': 1406, 'crappy': 1032, 'wed': 4835, 'expected': 1577, 'created': 1037, 'plastic': 3294, 'front': 1841, 'killer': 2470, 'rats': 3531, 'material': 2766, 'compared': 912, 'purchased': 3470, 'nail': 2957, 'wondered': 4927, 'temple': 4398, 'understood': 4647, 'suffice': 4279, 'granted': 1957, 'holy': 2140, 'ring': 3698, 'persons': 3244, 'spite': 4117, 'ie': 2221, 'pleasant': 3302, 'zone': 4999, 'usa': 4691, 'fit': 1740, 'satan': 3787, 'considered': 951, 'offensive': 3086, 'immediately': 2242, 'pulled': 3462, 'buying': 641, 'dad': 1095, 'major': 2711, 'following': 1774, 'compare': 911, 'godfather': 1927, 'sheer': 3925, 'crude': 1069, 'approach': 282, 'gangsters': 1869, 'italian': 2367, 'classics': 837, 'winning': 4898, 'pacino': 3164, 'makers': 2715, 'angry': 238, 'decisions': 1152, 'throws': 4482, 'fits': 1741, 'calm': 655, 'montana': 2895, 'individual': 2277, 'soundtrack': 4085, 'including': 2264, 'push': 3477, 'meeting': 2794, 'visit': 4755, 'wonders': 4931, 'imagine': 2238, 'portraying': 3343, 'effective': 1429, 'shines': 3932, 'abraham': 69, 'candy': 668, 'elvira': 1450, 'michelle': 2830, 'adequate': 120, 'climax': 849, 'revealing': 3672, 'suffers': 4278, 'due': 1382, 'raw': 3532, 'sci': 3815, 'fi': 1701, 'babe': 375, 'pops': 3332, 'science': 3816, 'vague': 4705, 'editor': 1423, 'crack': 1027, 'changed': 750, 'panic': 3181, 'streets': 4217, 'noir': 3023, 'sleazy': 4023, 'players': 3299, 'serving': 3897, 'introduction': 2339, 'contrast': 975, 'immensely': 2243, 'places': 3284, 'paint': 3173, 'offer': 3087, 'naked': 2959, 'previous': 3387, 'rising': 3703, 'favourite': 1673, 'photographed': 3258, 'detailed': 1218, 'environment': 1505, 'widmark': 4882, 'masterpiece': 2759, 'pick': 3265, 'noticed': 3049, 'offers': 3090, 'confusion': 943, 'whereas': 4865, 'heat': 2067, 'hero': 2088, 'destroyed': 1214, 'vice': 4727, 'central': 735, 'ultimately': 4628, 'amounts': 220, 'danger': 1109, 'returns': 3668, 'satisfied': 3789, 'social': 4049, 'balance': 387, 'restored': 3659, 'skills': 4014, 'disease': 1285, 'closely': 855, 'associated': 327, 'cure': 1081, 'context': 968, 'rings': 3699, 'attempts': 343, 'visuals': 4759, 'specifically': 4100, 'similar': 3978, 'menace': 2806, 'presumably': 3380, 'rooms': 3736, 'search': 3841, 'suspects': 4328, 'knowing': 2490, 'plague': 3285, 'adding': 117, 'connected': 945, 'ironically': 2356, 'cousin': 1021, 'sell': 3871, 'steal': 4170, 'logical': 2639, 'normally': 3034, 'illegal': 2229, 'understandable': 4644, 'familiar': 1643, 'protagonist': 3441, 'travel': 4567, 'limits': 2607, 'law': 2538, 'sake': 3775, 'controversial': 978, 'personal': 3240, 'infamous': 2284, 'depicts': 1186, 'actions': 101, 'witch': 4909, 'hunt': 2198, 'communist': 907, 'industry': 2280, 'issues': 2365, 'notable': 3041, 'victim': 4729, 'mans': 2730, 'holding': 2130, 'intimate': 2331, 'moral': 2902, 'physical': 3262, 'villains': 4745, 'uncomfortable': 4637, 'national': 2970, 'government': 1948, 'relevant': 3604, 'spoilers': 4124, 'enjoyable': 1485, 'property': 3438, 'succeeds': 4264, 'writers': 4969, 'slight': 4027, 'island': 2361, 'whose': 4877, 'productions': 3420, 'reputation': 3640, 'neighbor': 2992, 'psychic': 3456, 'million': 2847, 'bucks': 606, 'selling': 3873, 'multi': 2935, 'nine': 3017, 'valuable': 4708, 'earth': 1403, 'anywhere': 263, 'afford': 138, 'step': 4175, 'thick': 4447, 'leaving': 2557, 'foot': 1781, 'fred': 1825, 'superb': 4296, 'pitch': 3279, 'tight': 4492, 'theyd': 4443, 'comfortable': 892, 'murderer': 2941, 'worth': 4953, 'mistake': 2871, 'god': 1926, 'pain': 3170, 'suppose': 4305, 'goofy': 1939, 'mountains': 2918, 'writes': 4970, 'drops': 1372, 'planned': 3290, 'speak': 4094, 'incident': 2260, 'nose': 3037, 'business': 633, 'ironic': 2355, 'confusing': 942, 'lacking': 2504, 'wicked': 4879, 'lumet': 2688, 'hearted': 2065, 'books': 536, 'camp': 662, 'thus': 4486, 'doc': 1303, 'savage': 3793, 'idiot': 2218, 'nights': 3016, 'gold': 1932, 'march': 2734, 'attitude': 346, 'remarkably': 3614, 'superman': 4301, '30s': 44, 'pulp': 3465, 'hey': 2095, 'earl': 1398, 'aint': 163, '90s': 61, 'listed': 2618, 'awards': 367, 'chance': 747, 'honesty': 2148, 'desert': 1198, 'unbelievable': 4634, 'somehow': 4063, 'innocent': 2294, 'guilty': 1995, 'sadly': 3769, 'australian': 357, 'trial': 4580, 'accused': 91, 'innocence': 2293, 'guilt': 1994, 'possibility': 3349, 'appeared': 276, 'media': 2789, 'initial': 2290, 'released': 3603, 'discovery': 1282, 'produce': 3413, 'streep': 4215, 'puts': 3481, 'accent': 78, 'ears': 1402, 'manages': 2725, 'sympathetic': 4342, 'horribly': 2164, 'passing': 3204, 'british': 589, 'appealing': 272, 'directly': 1263, 'legal': 2563, 'current': 1084, 'contemporary': 965, 'pit': 3278, 'voices': 4763, 'bible': 477, 'comedic': 888, 'pictures': 3270, 'imitation': 2241, 'captivating': 675, 'perform': 3227, '1983': 22, 'age': 148, 'comedian': 887, 'cold': 872, 'facts': 1624, 'taught': 4370, 'animals': 240, 'grow': 1982, 'follow': 1772, 'fury': 1855, 'spain': 4091, 'language': 2516, 'account': 89, 'problems': 3409, 'irrelevant': 2358, 'overwhelming': 3157, 'struck': 4232, 'exploitation': 1592, 'magnificent': 2705, 'stage': 4139, 'musical': 2947, 'suffered': 4276, 'plight': 3308, 'mad': 2696, 'depicted': 1183, 'clues': 865, 'insight': 2298, 'achievement': 94, 'hopefully': 2157, 'cable': 644, 'remarkable': 3613, 'ii': 2226, 'detail': 1217, 'discussion': 1284, 'strangely': 4212, 'important': 2247, 'hints': 2113, 'isolated': 2363, 'filmmakers': 1720, 'credit': 1049, 'includes': 2263, 'bonus': 534, 'interviews': 2330, 'commentary': 899, 'blank': 501, 'spots': 4132, 'decided': 1149, 'depression': 1189, 'inspired': 2301, 'scott': 3824, 'check': 777, 'mistakes': 2873, 'core': 995, 'pleasure': 3306, 'laughs': 2534, 'attempting': 342, 'country': 1014, 'twisted': 4618, 'symbolism': 4341, 'forms': 1801, 'destroy': 1213, 'inner': 2292, 'blood': 512, 'sacrifice': 3766, 'ego': 1435, 'burns': 628, 'reality': 3551, 'purpose': 3474, 'cruel': 1070, 'destruction': 1216, 'represents': 3639, 'mundane': 2938, 'india': 2273, 'prostitute': 3440, 'dare': 1113, 'portray': 3340, 'anger': 235, 'endless': 1473, 'western': 4853, 'flicks': 1755, 'caring': 691, 'protect': 3443, 'forces': 1788, 'path': 3209, 'rarely': 3524, 'comments': 901, 'dreadful': 1353, 'earned': 1401, 'dozen': 1338, 'insulting': 2310, 'bear': 420, 'substance': 4258, 'genuinely': 1892, 'dire': 1257, 'student': 4238, 'bet': 470, 'proper': 3436, 'effort': 1432, 'mentioning': 2812, 'dropped': 1370, 'deep': 1154, 'meaningless': 2782, 'embarrassment': 1455, 'uk': 4626, 'santa': 3783, 'committed': 905, 'medium': 2792, 'bringing': 586, 'laughable': 2530, 'elvis': 1451, 'related': 3594, 'unfunny': 4655, 'grave': 1962, 'park': 3190, 'mention': 2810, 'suspicious': 4332, 'examples': 1554, 'mike': 2838, 'hanks': 2025, 'cameo': 657, 'insane': 2296, 'ho': 2127, 'theater': 4427, 'silence': 3974, 'embarrassed': 1453, 'trash': 4565, 'matrix': 2767, 'honor': 2150, 'carl': 692, 'source': 4086, 'memory': 2804, 'carry': 700, 'purchase': 3469, 'rare': 3523, 'shelf': 3926, 'storyline': 4208, 'happen': 2026, 'merely': 2815, 'alan': 171, 'curtis': 1087, 'fay': 1674, 'agrees': 157, 'condition': 937, 'apartment': 265, 'murdered': 2940, 'secretary': 3850, 'eg': 1434, 'pursuit': 3476, 'andrew': 228, 'cook': 988, 'jr': 2423, 'drink': 1361, 'stand': 4143, 'unpleasant': 4674, 'stuck': 4237, 'guessing': 1991, 'halfway': 2008, 'discover': 1279, 'tie': 4488, '1970s': 17, 'corporate': 998, 'segments': 3868, 'segment': 3867, 'object': 3066, 'nudity': 3059, 'clothing': 861, 'styles': 4250, 'dated': 1119, 'timeless': 4496, 'heston': 2094, 'notch': 3043, 'robinson': 3716, 'peters': 3248, 'combined': 885, 'cake': 648, 'significant': 3972, 'dog': 1310, 'build': 614, 'bridge': 578, 'sinister': 3998, 'greatly': 1967, 'ned': 2986, 'beatty': 427, 'jon': 2416, 'voight': 4764, 'burt': 629, 'reynolds': 3684, 'reference': 3582, 'territory': 4411, 'carter': 703, 'handful': 2017, 'comparison': 914, 'tradition': 4549, 'hong': 2149, 'kong': 2494, 'content': 966, 'telling': 4396, 'unpredictable': 4675, 'constructed': 959, 'structure': 4233, 'concern': 931, 'involving': 2349, 'whoever': 4872, 'china': 795, 'demands': 1175, 'larger': 2519, 'spectacular': 4101, 'faults': 1669, 'majority': 2712, 'task': 4368, 'starting': 4158, 'restaurant': 3658, 'pre': 3365, 'talk': 4358, 'device': 1227, 'everybody': 1540, 'load': 2631, 'weapons': 4829, 'covered': 1023, 'behave': 445, 'tea': 4373, 'alcohol': 176, 'friday': 1834, 'chinese': 796, 'settings': 3901, 'perfectly': 3226, 'remaining': 3610, 'europe': 1529, 'justice': 2438, 'racist': 3503, 'professor': 3422, 'defense': 1159, 'attorney': 348, 'false': 1641, 'loses': 2657, 'smoke': 4039, 'satisfy': 3790, 'mental': 2808, 'stronger': 4230, 'longer': 2645, 'guns': 1998, 'grandmother': 1955, 'security': 3854, 'steps': 4177, 'absolute': 71, 'intentions': 2321, 'ruined': 3751, 'involvement': 2347, 'intention': 2319, 'size': 4012, 'hence': 2083, 'justify': 2439, 'americans': 214, 'hold': 2129, 'creator': 1043, 'happiness': 2031, 'arrogant': 303, 'motivation': 2914, 'rendition': 3625, 'peace': 3219, 'pushed': 3478, 'university': 4667, '12': 3, 'convey': 982, 'wise': 4903, 'understated': 4646, 'jamie': 2379, 'wound': 4960, 'ray': 3533, 'alternate': 200, 'melodrama': 2797, 'stone': 4197, 'crafted': 1029, 'dream': 1354, 'seventies': 3904, 'eastern': 1408, 'wendy': 4846, 'study': 4242, 'method': 2824, 'frustrated': 1842, 'bothered': 549, 'kept': 2456, 'moon': 2900, 'talked': 4359, 'explain': 1586, 'depth': 1190, 'lady': 2507, 'exists': 1573, 'intense': 2316, 'versions': 4721, 'eight': 1436, 'heroic': 2090, 'rise': 3702, 'stole': 4194, 'spread': 4133, 'giving': 1915, 'childhood': 790, 'battle': 414, 'teachers': 4376, 'possessed': 3347, 'warriors': 4803, 'soldiers': 4054, 'connection': 946, 'destroying': 1215, 'priceless': 3390, 'resort': 3650, 'research': 3644, 'stereotype': 4178, 'asian': 314, 'woody': 4936, 'return': 3665, 'reaction': 3541, 'distribution': 1298, 'subtle': 4260, 'identity': 2217, 'racial': 3501, 'relations': 3596, 'parties': 3196, 'nostalgic': 3039, 'memories': 2803, 'elegant': 1441, 'hook': 2152, 'brave': 567, 'rubbish': 3748, 'possibilities': 3348, 'hitler': 2124, 'crazy': 1035, 'gun': 1996, 'chicago': 785, 'germany': 1898, 'roll': 3728, 'henry': 2084, 'fonda': 1777, 'warm': 4794, 'charismatic': 763, 'bored': 541, 'described': 1195, 'focuses': 1768, '70s': 56, 'twenty': 4612, 'members': 2801, 'concert': 935, 'basis': 408, 'carefully': 689, 'edited': 1420, 'anthony': 253, 'disjointed': 1287, 'pull': 3461, 'wall': 4781, 'category': 718, '50': 51, 'favor': 1670, 'areas': 287, 'twelve': 4611, 'slasher': 4020, 'cash': 709, 'australia': 356, 'relatively': 3600, 'urban': 4688, 'ready': 3546, 'blonde': 511, 'campbell': 663, 'starring': 4154, 'theyve': 4446, 'nightmare': 3014, 'elm': 1447, 'mask': 2752, 'scare': 3803, 'spoiler': 4123, 'print': 3399, 'consider': 949, 'surprised': 4313, 'tales': 4357, 'eve': 1532, 'elizabeth': 1445, 'ellen': 1446, 'joseph': 2419, 'bell': 458, 'drags': 1345, 'larry': 2520, 'dressed': 1358, 'escaped': 1518, 'dangerous': 1110, 'advantage': 129, 'executive': 1567, 'adapted': 114, '1972': 18, 'starred': 4153, 'joan': 2404, 'murderous': 2942, '25': 40, 'length': 2569, 'provides': 3450, 'hint': 2112, 'splatter': 4118, 'graphic': 1958, 'gem': 1877, 'hidden': 2096, 'pacing': 3163, 'occasional': 3074, 'awkward': 374, 'hart': 2041, 'facial': 1619, 'expressions': 1603, 'witches': 4910, 'timing': 4498, 'principal': 3398, 'aspect': 321, 'bands': 392, 'era': 1513, 'jerry': 2396, 'importance': 2246, 'introduce': 2336, 'remain': 3609, 'magazine': 2701, 'entry': 1504, 'tiresome': 4502, 'fare': 1655, 'corny': 997, 'cases': 708, 'richard': 3686, 'wooden': 4934, 'lies': 2591, 'casting': 711, 'masterful': 2758, 'empty': 1465, 'channel': 753, 'touched': 4534, 'checking': 778, '1996': 26, 'martin': 2748, 'lake': 2509, 'escapes': 1519, 'convince': 983, '2nd': 41, 'adventures': 131, 'toy': 4542, 'psycho': 3457, 'bettie': 473, 'page': 3167, 'bore': 540, 'ms': 2931, 'hopes': 2159, 'ended': 1470, 'becoming': 435, 'notorious': 3051, 'kudos': 2497, 'aspects': 322, 'covers': 1024, 'instantly': 2306, 'freedom': 1828, 'control': 977, 'built': 618, 'fool': 1779, 'breasts': 572, 'sport': 4129, 'bush': 632, 'pages': 3168, 'semi': 3874, 'photos': 3261, 'videos': 4734, 'available': 361, 'cards': 683, 'odds': 3082, 'shop': 3945, 'captures': 678, 'essence': 1521, 'matched': 2763, 'intensity': 2317, 'characterization': 759, 'theaters': 4428, 'devoted': 1231, 'extras': 1608, 'supporting': 4304, 'chris': 806, 'photo': 3257, 'generation': 1883, 'madonna': 2699, 'existed': 1570, 'rescue': 3643, 'lesser': 2576, 'touches': 4535, 'sharp': 3922, 'jack': 2373, 'weak': 4824, 'tommy': 4516, 'questionable': 3488, 'sorts': 4078, 'promising': 3433, 'supernatural': 4302, 'claim': 828, 'solution': 4059, 'blue': 518, 'provide': 3448, 'element': 1442, 'escape': 1517, 'presented': 3376, 'topic': 4526, 'essentially': 1523, 'fooled': 1780, 'desperate': 1208, 'caliber': 649, 'versus': 4722, 'similarities': 3979, 'locations': 2636, 'alive': 186, 'inside': 2297, 'treated': 4573, 'emphasis': 1463, 'random': 3514, 'interaction': 2322, 'animal': 239, 'requires': 3642, 'picks': 3268, 'impressed': 2251, 'rob': 3710, 'fancy': 1649, 'manage': 2722, 'experiment': 1583, 'enterprise': 1495, 'successful': 4266, 'mate': 2765, 'joined': 2413, 'endure': 1475, 'gene': 1879, 'trek': 4578, 'battles': 415, 'stated': 4161, 'higher': 2101, 'seven': 3903, 'terry': 4415, 'accidentally': 85, 'robot': 3717, 'repetitive': 3633, 'twice': 4613, 'eerie': 1427, 'included': 2262, 'failed': 1626, 'quirky': 3493, 'attractive': 351, 'irritating': 2359, 'model': 2880, 'lucky': 2683, 'normal': 3033, 'returned': 3666, 'witnesses': 4916, 'families': 1644, 'witness': 4914, 'non': 3027, 'accept': 80, 'visits': 4756, 'medical': 2790, 'allow': 189, 'sloppy': 4030, 'causes': 725, '1950s': 14, 'david': 1124, 'flawed': 1750, 'facing': 1620, 'susan': 4326, 'raymond': 3534, 'underrated': 4642, 'william': 4887, 'journey': 2421, 'belongs': 460, 'rule': 3753, 'service': 3896, 'jennifer': 2392, 'professional': 3421, 'believable': 453, 'jenny': 2393, 'slave': 4022, 'attempted': 341, 'accents': 79, 'supposedly': 4307, 'blond': 510, 'physically': 3263, 'daniel': 1111, 'sucked': 4270, 'nyc': 3065, 'parker': 3191, 'bizarre': 492, 'neighbors': 2994, 'experiences': 1582, 'struggles': 4235, 'psychological': 3458, 'womans': 4922, 'catching': 716, 'fascinating': 1658, 'ensemble': 1492, 'detective': 1220, 'legendary': 2565, 'arthur': 305, 'kennedy': 2454, 'walken': 4777, 'jeff': 2390, 'faces': 1618, 'miles': 2843, 'prize': 3405, 'novel': 3052, 'jeffrey': 2391, 'asked': 317, 'billy': 482, 'phantom': 3251, 'miller': 2846, 'orders': 3127, 'flying': 1764, 'vs': 4767, 'mouse': 2919, 'politics': 3326, 'pro': 3406, 'rules': 3754, 'simplistic': 3985, 'surprises': 4314, 'whatsoever': 4861, 'featuring': 1681, 'decades': 1145, 'necessarily': 2983, 'pleasantly': 3303, 'obscure': 3068, 'nevertheless': 3002, 'brutal': 603, 'images': 2235, 'downright': 1337, 'ambitious': 211, 'trio': 4587, 'runs': 3757, 'remote': 3622, 'countryside': 1015, 'mansion': 2731, 'victoria': 4732, 'hide': 2097, 'texas': 4418, 'massacre': 2754, 'secrets': 3852, 'treatment': 4574, 'unsettling': 4679, 'promised': 3431, 'choices': 798, 'mediocre': 2791, 'patient': 3211, 'ideal': 2214, 'naturally': 2974, 'appearance': 274, 'needed': 2988, 'tremendous': 4579, 'junior': 2435, 'authentic': 358, 'games': 1865, 'perspective': 3245, 'situations': 4009, 'jewish': 2401, 'owner': 3159, 'proves': 3447, 'veteran': 4724, 'macy': 2695, 'ran': 3513, 'porn': 3336, 'costumes': 1006, 'monsters': 2893, 'raped': 3522, 'screening': 3830, 'filmmaker': 1719, 'range': 3516, 'issue': 2364, 'artistic': 308, 'relate': 3593, 'mild': 2839, 'dude': 1381, 'kinda': 2477, 'furthermore': 1854, 'atmospheric': 334, 'shadow': 3912, 'depicting': 1184, 'growing': 1983, 'gotten': 1947, 'jake': 2377, 'clint': 850, 'eastwood': 1409, 'resembles': 3646, 'combination': 883, 'lonely': 2643, 'six': 4010, 'kicks': 2463, 'divorce': 1301, 'closet': 858, 'matthew': 2772, 'internet': 2327, 'indie': 2276, 'ryan': 3765, 'domestic': 1318, 'latter': 2528, 'shy': 3962, 'cheating': 776, 'ruth': 3763, 'laura': 2536, 'manipulative': 2727, 'importantly': 2248, 'affected': 137, 'position': 3345, 'flawless': 1751, 'adult': 125, 'fears': 1677, 'heavy': 2070, 'universal': 4665, 'hated': 2047, 'shocked': 3939, 'grant': 1956, 'comedies': 889, 'eaten': 1412, 'cup': 1080, 'farce': 1654, 'showcase': 3954, 'cube': 1076, 'flat': 1748, 'somebody': 4062, 'kingdom': 2480, 'stomach': 4196, 'views': 4742, 'invisible': 2344, 'pseudo': 3454, 'sophisticated': 4075, 'shallow': 3917, 'helen': 2075, 'seeking': 3859, 'widow': 4883, 'carpenter': 694, 'rough': 3741, 'affair': 135, 'revealed': 3671, 'sexuality': 3909, 'makeup': 2717, 'anne': 246, 'interpretation': 2328, 'sexually': 3910, 'craig': 1030, 'stellar': 4174, 'redemption': 3578, 'root': 3737, 'meaning': 2780, 'britain': 588, 'rap': 3520, 'buff': 611, 'aging': 153, 'overlook': 3153, 'send': 3875, 'conservative': 948, 'expectations': 1576, 'adaptation': 113, 'switch': 4339, 'storm': 4206, 'boat': 523, 'continued': 970, 'capture': 676, 'shakespeare': 3915, 'website': 4834, 'performed': 3230, 'mass': 2753, 'innovative': 2295, 'abc': 63, 'stayed': 4167, 'mexico': 2827, 'san': 3780, 'wayne': 4821, 'unusual': 4681, 'gabriel': 1859, 'regret': 3591, 'relative': 3599, 'below': 462, 'author': 359, 'political': 3324, 'library': 2589, 'explains': 1589, 'race': 3499, 'anime': 243, 'lay': 2542, 'robots': 3718, 'fantasy': 1652, 'machine': 2693, 'machines': 2694, 'sides': 3967, 'introduces': 2338, 'anybody': 257, 'tedious': 4387, 'contain': 962, 'opposed': 3122, 'loads': 2633, 'overacting': 3149, 'ridiculously': 3694, 'unrealistic': 4677, 'coach': 868, 'namely': 2962, 'deserve': 1199, 'haunted': 2050, 'flynn': 1765, 'lips': 2615, 'staring': 4152, 'kim': 2475, 'designs': 1204, 'walker': 4778, 'pie': 3271, 'charlotte': 766, 'sullivan': 4288, 'involve': 2345, 'achieve': 92, 'closest': 857, 'initially': 2291, 'dry': 1377, 'inspiration': 2300, 'equivalent': 1512, 'creation': 1040, 'subsequent': 4257, 'generations': 1884, 'classes': 834, 'harry': 2039, 'alien': 183, 'exaggerated': 1552, 'pink': 3277, 'overlooked': 3154, 'anderson': 227, 'narrative': 2966, 'portion': 3338, 'capable': 672, 'intelligent': 2314, 'failing': 1627, 'critic': 1061, 'punch': 3466, 'wet': 4855, 'slap': 4018, 'upper': 4685, 'private': 3404, 'disappear': 1270, 'revolution': 3680, 'shall': 3916, 'learning': 2552, 'member': 2800, 'fascinated': 1657, 'signs': 3973, 'lessons': 2578, 'ashamed': 312, 'dances': 1106, 'lion': 2614, 'highest': 2102, 'begin': 442, 'tracks': 4545, 'frequent': 1831, 'tense': 4403, 'commercial': 902, 'deliberately': 1166, 'disney': 1289, 'simpson': 3987, 'julie': 2428, 'recognized': 3570, 'dig': 1250, 'choreographed': 801, 'lyrics': 2692, 'tune': 4602, 'chased': 770, 'stretched': 4222, 'credibility': 1047, 'handle': 2018, 'dollars': 1315, 'occurred': 3077, 'selfish': 3870, 'laid': 2508, 'hearing': 2063, 'spoken': 4126, 'obsessed': 3069, 'eric': 1514, 'numbers': 3061, 'genuine': 1891, 'terrifying': 4410, 'passed': 3202, 'useless': 4695, 'cute': 1090, 'gag': 1861, 'originality': 3130, 'held': 2074, 'knock': 2488, 'subjects': 4254, 'hopper': 2161, 'bland': 500, 'kicking': 2462, '30': 42, 'happening': 2028, 'clue': 864, 'food': 1778, 'helicopter': 2076, 'value': 4709, 'blown': 516, 'charming': 768, 'paper': 3183, 'skip': 4016, 'vegas': 4717, 'standing': 4146, 'mgm': 2828, 'grand': 1953, 'delivers': 1172, 'horrendous': 2162, 'conversation': 980, 'explanation': 1590, 'forth': 1804, 'prepared': 3371, 'differences': 1247, 'develops': 1226, 'revelation': 3674, 'board': 522, 'judy': 2426, 'win': 4892, 'johnny': 2410, 'spring': 4134, 'desired': 1206, 'served': 3894, 'notion': 3050, 'prisoner': 3402, 'removed': 3624, 'roberts': 3714, 'con': 928, 'crimes': 1056, 'endearing': 1469, 'pays': 3218, 'adventure': 130, 'sweet': 4336, 'steve': 4181, 'army': 295, 'player': 3298, 'survived': 4322, 'stinker': 4191, 'stupidity': 4248, 'midnight': 2834, 'popcorn': 3331, 'prior': 3400, 'mst3k': 2932, 'mitchell': 2875, 'dislike': 1288, 'inducing': 2279, 'james': 2378, 'repeat': 3630, 'yeah': 4977, 'scenery': 3810, 'barry': 401, 'england': 1482, 'block': 508, 'funniest': 1851, 'offended': 3085, 'vietnam': 4735, 'satire': 3788, 'sounds': 4084, 'bound': 553, 'gang': 1867, 'enemy': 1477, '60': 53, 'rambo': 3511, 'iii': 2227, 'comics': 895, 'chases': 771, 'tend': 4400, 'admire': 121, 'mighty': 2836, 'wedding': 4836, 'loyal': 2679, 'agree': 155, 'court': 1020, 'oliver': 3102, 'hardy': 2037, 'leo': 2571, 'chaplin': 756, 'intrigued': 2334, 'titles': 4506, 'product': 3418, 'flaw': 1749, 'faced': 1617, 'myers': 2952, 'dealt': 1138, 'missing': 2869, 'historical': 2119, 'london': 2641, 'harder': 2035, 'messed': 2821, 'mysteries': 2954, 'bbc': 417, '1990s': 25, 'advice': 133, 'suit': 4284, 'everyday': 1541, 'dressing': 1359, 'believing': 457, 'catches': 715, 'drives': 1367, 'redeeming': 3577, 'advance': 127, 'specific': 4099, 'swear': 4334, 'souls': 4080, 'guide': 1993, 'ghost': 1902, 'insult': 2309, 'blade': 495, 'heck': 2071, 'shoots': 3944, 'hates': 2048, 'giant': 1905, 'code': 869, 'superior': 4300, 'bin': 483, 'drugs': 1374, 'revolves': 3682, 'pg': 3250, 'mainstream': 2709, 'allen': 188, 'digital': 1251, 'lesson': 2577, 'primary': 3394, 'educational': 1425, 'benefit': 465, 'teach': 4374, 'wearing': 4831, 'spend': 4105, 'encounter': 1466, 'hideous': 2098, 'poem': 3312, 'epic': 1506, 'hollywoods': 2138, 'golden': 1934, 'minimum': 2856, 'sentimental': 3882, 'practically': 3362, 'discuss': 1283, 'cary': 706, 'victor': 4731, 'purposes': 3475, 'glorious': 1921, 'record': 3573, 'intelligence': 2313, 'nazi': 2977, 'sam': 3777, 'enormous': 1490, 'properly': 3437, 'whilst': 4869, 'recognize': 3569, 'tiny': 4500, 'novels': 3053, 'ride': 3692, 'stranger': 4213, 'witty': 4917, 'grows': 1985, 'pants': 3182, 'wear': 4830, 'terribly': 4408, 'wholly': 4874, 'fake': 1635, 'fest': 1696, 'scientists': 3819, 'futuristic': 1857, 'lab': 2501, 'eighties': 1437, 'double': 1331, 'feed': 1683, 'roger': 3724, 'chain': 741, 'cardboard': 682, 'unknown': 4668, 'bits': 490, 'consequences': 947, 'sends': 3876, 'kinds': 2478, 'blend': 504, 'kirk': 2482, 'franchise': 1817, 'focused': 1767, 'potentially': 3356, 'criticism': 1063, 'indians': 2275, 'continuity': 972, 'months': 2897, 'titanic': 4503, 'saved': 3795, 'dynamic': 1394, '2006': 36, 'yesterday': 4983, 'table': 4346, 'pointless': 3318, 'lousy': 2667, 'blacks': 494, 'schools': 3814, 'disappointment': 1275, 'claire': 831, 'danes': 1108, 'kenneth': 2455, 'glenn': 1918, 'reunion': 3669, 'gripping': 1976, 'dramas': 1347, 'afterwards': 145, 'fairly': 1631, 'rape': 3521, 'minimal': 2855, 'hbo': 2055, 'blew': 505, 'routine': 3743, 'spanish': 4092, 'carried': 698, 'jaws': 2385, 'laughter': 2535, 'tape': 4365, 'lou': 2663, 'cage': 645, 'personalities': 3241, 'seconds': 3848, 'sounding': 4083, 'teen': 4388, 'stereotypes': 4179, 'toilet': 4512, 'heres': 2087, 'dinosaurs': 1256, 'awe': 370, 'crowd': 1067, 'vision': 4754, 'todays': 4509, 'online': 3109, 'glad': 1916, 'vhs': 4725, 'cinematographer': 819, 'virtually': 4751, 'magic': 2703, 'breath': 573, 'displays': 1293, 'respected': 3653, 'weight': 4840, 'skin': 4015, 'north': 3036, 'wolf': 4920, 'testament': 4417, '1984': 23, 'garden': 1872, 'lucy': 2684, 'slightest': 4028, 'humorous': 2193, 'grim': 1974, 'attracted': 349, 'event': 1535, 'ken': 2453, '1973': 19, 'support': 4303, 'iran': 2350, 'teacher': 4375, 'nearby': 2980, 'naive': 2958, 'nation': 2969, 'vote': 4766, 'brazil': 568, '11': 2, 'wwii': 4975, 'chorus': 803, 'arguably': 289, 'gandhi': 1866, 'musicals': 2948, 'dancers': 1105, 'singers': 3994, 'ballet': 389, 'tap': 4364, 'hello': 2078, 'replaced': 3634, 'bob': 524, 'greater': 1965, 'technically': 4382, 'charisma': 762, 'marry': 2745, 'rush': 3759, 'seat': 3845, 'enter': 1494, 'mob': 2879, 'cares': 690, 'disappoint': 1272, 'showdown': 3955, 'involves': 2348, 'maggie': 2702, 'suffering': 4277, 'competition': 918, 'hanging': 2023, 'bus': 631, 'frame': 1815, 'ed': 1415, 'woods': 4935, 'outer': 3143, 'uwe': 4703, 'arrived': 301, 'wandering': 4785, 'brown': 601, 'missed': 2867, 'thankfully': 4422, 'sidekick': 3966, 'bottom': 551, 'proceeds': 3411, 'downhill': 1336, 'rubber': 3747, 'paid': 3169, 'producing': 3417, 'buffs': 612, 'cinemas': 817, 'documentaries': 1306, 'atrocious': 335, 'bride': 577, 'howard': 2182, 'recording': 3575, 'accompanied': 86, 'bruce': 602, 'stewart': 4184, 'survivors': 4325, 'reasonable': 3558, 'summary': 4290, 'sixties': 4011, 'smith': 4038, 'genres': 1889, 'messages': 2820, 'alright': 198, 'vivid': 4760, 'nazis': 2978, 'reactions': 3542, 'germans': 1897, 'notably': 3042, 'effectively': 1430, 'previously': 3388, 'sisters': 4002, 'twins': 4616, 'field': 1704, 'virginia': 4750, 'cooper': 990, 'tag': 4348, 'realized': 3553, 'porno': 3337, 'floating': 1758, 'tree': 4576, 'ages': 152, 'levels': 2585, 'firstly': 1737, 'secondly': 3847, 'computer': 927, 'designed': 1203, 'borrowed': 545, 'bank': 394, 'chess': 783, 'relatives': 3601, 'east': 1407, 'thru': 4483, 'strikes': 4225, 'faster': 1662, '1980s': 21, 'screens': 3832, 'hung': 2197, 'miike': 2837, 'imagined': 2239, 'demon': 1177, 'colorful': 878, 'spirits': 4115, 'tall': 4362, 'burning': 627, 'performing': 3233, 'walls': 4783, 'invasion': 2340, 'youth': 4994, 'horrors': 2169, 'scripts': 3836, 'beaten': 424, 'fairy': 1632, 'draw': 1349, 'nostalgia': 3038, 'instant': 2305, 'spike': 4111, 'grade': 1951, 'alert': 178, 'bedroom': 437, 'lewis': 2586, 'buried': 624, 'safe': 3771, 'wide': 4880, 'boys': 559, 'clumsy': 866, 'intriguing': 2335, 'bite': 489, 'worry': 4950, 'implausible': 2245, 'suspend': 4329, 'disbelief': 1277, 'killings': 2473, 'luckily': 2682, 'species': 4098, 'develop': 1222, 'lust': 2689, 'scale': 3802, 'creature': 1045, 'gift': 1906, 'hilariously': 2107, 'forest': 1791, 'guarantee': 1987, 'hurt': 2202, 'reviews': 3679, 'suggests': 4282, 'dozens': 1339, 'delight': 1167, 'morning': 2906, 'experienced': 1581, 'delightful': 1168, 'senseless': 3878, 'erotic': 1515, 'eva': 1531, 'beats': 426, 'hill': 2108, 'finale': 1723, 'contrived': 976, 'warner': 4799, 'narrator': 2967, 'leader': 2546, 'thugs': 4484, 'andrews': 229, 'dick': 1239, 'brian': 576, 'da': 1094, 'elsewhere': 1449, 'club': 863, 'suitable': 4285, 'union': 4661, 'enters': 1496, 'amanda': 205, 'hugh': 2186, 'mel': 2796, 'drunken': 1376, 'explicit': 1591, 'entertain': 1497, 'inappropriate': 2259, 'parody': 3192, 'weeks': 4839, 'jackson': 2375, 'waited': 4771, 'excited': 1561, 'mtv': 2933, 'favorites': 1672, 'types': 4622, 'purple': 3473, 'ugly': 4625, 'eating': 1413, 'lie': 2590, 'underlying': 4641, 'fallen': 1638, 'garbage': 1870, 'figured': 1712, 'chicks': 787, 'sum': 4289, 'unbearable': 4633, 'warrior': 4802, 'precious': 3366, 'prevent': 3385, 'legs': 2566, 'burn': 625, 'suffer': 4275, 'plausible': 3295, 'motivations': 2915, 'julia': 2427, 'terror': 4412, 'misery': 2865, 'exercise': 1568, '50s': 52, 'cars': 702, 'blob': 507, 'halloween': 2010, 'jane': 2380, '40s': 49, 'nuts': 3064, 'scientific': 3817, 'efforts': 1433, 'wood': 4933, 'welcome': 4842, 'solve': 4060, 'amongst': 218, 'hoped': 2156, 'noted': 3045, 'gentle': 1890, 'slapstick': 4019, 'gods': 1928, 'diana': 1237, 'guessed': 1990, 'synopsis': 4344, 'authority': 360, 'lesbian': 2573, 'christian': 808, 'reflect': 3584, 'logic': 2638, 'wing': 4896, 'hired': 2117, 'boot': 538, 'warn': 4797, 'cheated': 775, 'drivel': 1364, 'user': 4696, 'praise': 3364, 'vampires': 4712, 'vampire': 4711, 'citizen': 824, 'kane': 2442, 'goodness': 1938, 'heroine': 2091, 'opposite': 3123, 'damage': 1099, 'childish': 791, 'virgin': 4749, 'dreary': 1356, 'boredom': 542, 'anna': 245, 'jason': 2383, 'mildly': 2840, 'gifted': 1907, 'realise': 3548, 'sold': 4052, 'teeth': 4393, 'rocks': 3722, 'civilization': 827, 'miracle': 2860, 'convoluted': 987, 'argue': 290, 'fly': 1763, 'em': 1452, 'noble': 3021, 'passes': 3203, 'wreck': 4965, 'leonard': 2572, 'jeremy': 2394, 'roy': 3745, 'stood': 4199, 'proud': 3444, 'ann': 244, 'margaret': 2735, 'kelly': 2452, 'shouldnt': 3952, 'incomprehensible': 2267, 'cd': 728, 'neil': 2995, 'album': 175, 'contact': 961, 'deceased': 1146, 'bathroom': 412, 'glimpse': 1919, 'incoherent': 2265, 'locked': 2637, 'nicholson': 3011, 'wounded': 4961, 'reach': 3536, 'everywhere': 1545, 'seek': 3858, 'flop': 1760, 'ah': 158, 'shortly': 3947, 'couldve': 1009, 'dress': 1357, 'ford': 1789, 'web': 4833, 'poverty': 3357, 'centered': 733, 'pig': 3274, 'prime': 3395, 'luck': 2681, 'resources': 3651, 'portrays': 3344, 'impress': 2250, 'foster': 1809, 'westerns': 4854, 'wins': 4899, 'command': 897, 'gray': 1963, 'crocodile': 1065, 'placed': 3283, 'witnessed': 4915, 'assault': 324, 'jumps': 2432, 'flies': 1756, 'laws': 2540, 'perry': 3237, 'utter': 4701, 'multiple': 2936, 'farm': 1656, 'petty': 3249, 'personality': 3242, 'fate': 1665, 'capital': 673, 'punishment': 3467, 'hundreds': 2196, 'agents': 151, 'department': 1182, 'nations': 2971, 'blake': 498, 'bill': 481, 'nancy': 2964, 'lasted': 2522, 'nicholas': 3010, 'subplot': 4255, 'returning': 3667, 'risk': 3704, 'driver': 1366, 'hospital': 2172, 'delivery': 1173, 'jumped': 2430, 'primarily': 3393, 'teens': 4392, 'ridden': 3691, 'waves': 4819, 'clark': 832, 'safety': 3772, 'swim': 4337, '75': 57, 'hamilton': 2012, 'surviving': 4323, 'installment': 2303, 'official': 3094, 'dragon': 1344, 'influenced': 2287, 'tons': 4520, 'dedicated': 1153, 'roots': 3738, 'nicely': 3009, 'spoiled': 4122, 'edward': 1426, 'uninspired': 4657, 'hitchcock': 2123, 'grace': 1950, 'defined': 1160, 'mill': 2845, 'transformation': 4560, 'cliche': 843, 'foreign': 1790, 'waitress': 4773, 'learned': 2551, 'greek': 1970, 'depressed': 1187, 'brad': 560, 'pitt': 3280, 'max': 2774, 'funeral': 1849, 'horses': 2171, 'wore': 4939, 'spell': 4104, 'spin': 4112, 'doctors': 1305, 'masses': 2755, 'albert': 174, 'brooks': 596, 'shirt': 3937, 'pleased': 3305, 'catchy': 717, 'suggested': 4281, 'featured': 1679, 'solely': 4056, 'comical': 894, 'figures': 1713, 'resemblance': 3645, 'painting': 3175, 'explaining': 1588, 'artist': 307, 'artists': 309, 'marriage': 2743, 'grandfather': 1954, 'painted': 3174, 'similarly': 3980, 'heavily': 2069, 'chosen': 805, 'bay': 416, 'colors': 879, 'africa': 141, 'sequels': 3886, 'progress': 3425, 'prequel': 3372, 'picking': 3267, 'surprising': 4315, 'describes': 1196, 'hall': 2009, 'ramones': 3512, 'joey': 2408, 'wealth': 4826, 'sleeping': 4025, 'weakest': 4825, 'vehicle': 4718, 'husbands': 2205, 'sinatra': 3989, 'sue': 4274, 'simmons': 3981, 'sarah': 3785, 'damon': 1101, 'nowadays': 3055, 'peoples': 3222, 'pretending': 3382, 'fictional': 1703, 'fighter': 1708, 'thief': 4448, 'turkey': 4604, 'regard': 3588, 'errors': 1516, 'jay': 2386, 'gross': 1978, 'betty': 474, 'tired': 4501, 'spare': 4093, 'dawson': 1128, 'inept': 2281, 'defend': 1158, 'brains': 563, 'tim': 4494, 'robbins': 3712, 'matthau': 2771, 'kurt': 2499, 'rocket': 3721, 'lacked': 2503, 'miserably': 2864, 'studios': 4241, 'transition': 4561, 'contract': 973, 'lloyd': 2630, 'cagney': 646, 'highlight': 2103, 'plots': 3310, 'butler': 637, 'accepted': 82, 'unintentional': 4658, 'hatred': 2049, 'assigned': 325, 'gadget': 1860, 'bright': 581, 'existent': 1572, 'formula': 1802, 'doctor': 1304, 'wrapped': 4964, 'extended': 1604, 'rain': 3506, 'tad': 4347, '35': 45, 'boom': 537, 'travesty': 4570, 'urge': 4689, 'colonel': 876, 'emma': 1457, 'che': 773, 'hills': 2109, 'border': 539, 'waters': 4817, 'movements': 2924, 'text': 4419, 'movement': 2923, 'chances': 748, 'lifetime': 2594, 'humanity': 2189, 'fond': 1776, 'separate': 3883, 'lees': 2560, 'bull': 619, 'briefly': 580, 'directs': 1267, 'surface': 4310, 'parallel': 3185, 'berlin': 467, 'lover': 2672, '24': 39, 'leslie': 2574, 'st': 4137, 'began': 441, 'whos': 4876, 'chair': 742, 'georges': 1894, 'sole': 4055, 'tied': 4489, 'projects': 3428, 'spending': 4106, 'shoes': 3941, 'financial': 1725, 'signed': 3971, 'choreography': 802, 'market': 2740, 'vincent': 4746, 'qualities': 3483, 'lovable': 2668, 'ashley': 313, 'cameron': 661, 'emotion': 1458, 'hamlet': 2013, 'literature': 2623, '3000': 43, 'proceedings': 3410, 'russell': 3761, 'bold': 528, 'required': 3641, 'psychotic': 3459, 'ward': 4793, 'patients': 3212, 'sleep': 4024, 'explained': 1587, 'costs': 1004, 'vacation': 4704, 'fulci': 1845, 'titled': 4505, 'flesh': 1753, 'european': 1530, 'apes': 267, 'topless': 4527, 'wrestling': 4966, 'mouth': 2920, 'ground': 1979, 'mirror': 2861, 'plans': 3292, 'distracting': 1297, '17': 9, 'captured': 677, 'adams': 112, 'horse': 2170, 'aids': 161, 'harris': 2038, 'canadian': 667, 'chick': 786, 'performer': 3231, 'miserable': 2863, 'conventional': 979, 'lifestyle': 2593, 'richardson': 3688, 'shell': 3927, 'womens': 4924, 'channels': 754, 'surfing': 4311, 'chilling': 794, 'slick': 4026, 'providing': 3451, 'competent': 917, 'threw': 4470, 'changing': 752, 'protagonists': 3442, 'talks': 4361, 'thoughts': 4464, 'survival': 4320, 'elephant': 1444, 'blair': 497, 'beings': 449, 'lying': 2690, 'seagal': 3839, 'comparing': 913, 'noise': 3024, 'reads': 3545, 'deeper': 1155, 'persona': 3239, 'visible': 4753, 'prom': 3429, 'lisa': 2616, 'bud': 607, 'lit': 2621, 'dating': 1120, 'discovers': 1281, 'draws': 1352, 'fix': 1744, '1980': 20, 'resulting': 3661, 'boll': 529, 'kay': 2447, 'finest': 1730, 'sally': 3776, 'carries': 699, 'sellers': 3872, 'sitcom': 4004, 'nervous': 2999, 'gags': 1862, 'goldberg': 1933, 'steals': 4172, 'masters': 2761, 'linda': 2609, 'blame': 499, 'uneven': 4649, 'gory': 1943, 'serve': 3893, 'reminded': 3619, 'ups': 4686, 'loaded': 2632, 'fill': 1714, 'demand': 1174, 'pointed': 3317, 'creep': 1051, 'gordon': 1940, 'drop': 1369, 'unwatchable': 4682, 'nuclear': 3057, 'convincingly': 986, 'nasty': 2968, 'propaganda': 3435, 'akshay': 169, 'illness': 2230, 'proved': 3446, 'incompetent': 2266, 'angels': 234, 'duo': 1386, 'brosnan': 597, 'hunters': 2200, 'castle': 712, 'superficial': 4298, 'annoyed': 248, 'obsession': 3070, 'fatal': 1664, 'loser': 2655, 'cowboy': 1025, 'fetched': 1698, 'square': 4136, 'diane': 1238, 'keaton': 2448, 'annie': 247, 'dealing': 1136, 'toys': 4543, 'headed': 2058, 'disturbed': 1299, 'quotes': 3497, 'nomination': 3026, 'bang': 393, 'quit': 3494, 'nelson': 2997, 'sub': 4252, 'par': 3184, 'extreme': 1609, '1999': 27, 'shut': 3961, 'strangers': 4214, 'wears': 4832, 'spielberg': 4110, 'workers': 4943, 'suited': 4286, 'threat': 4467, 'albeit': 173, 'fashioned': 1660, 'plane': 3288, 'listening': 2620, 'skill': 4013, 'directions': 1262, 'captain': 674, 'rogers': 3725, 'thrills': 4475, 'ocean': 3079, 'ships': 3935, 'johnson': 2411, 'darker': 1116, 'subtlety': 4261, 'fox': 1814, 'loosely': 2651, 'theyll': 4444, 'stevens': 4183, 'scope': 3821, 'princess': 3397, 'combine': 884, 'superbly': 4297, 'cynical': 1093, 'absence': 70, 'centers': 734, 'mentally': 2809, 'retarded': 3663, 'trade': 4547, 'wives': 4918, 'flash': 1745, 'thrill': 4471, 'arrival': 299, 'mario': 2738, 'stops': 4203, 'strike': 4224, 'despair': 1207, 'companion': 909, 'whale': 4857, 'blowing': 515, 'jungle': 2434, 'assume': 328, 'coffee': 870, 'awake': 365, 'trite': 4589, 'rid': 3690, 'curiosity': 1082, 'pat': 3208, 'searching': 3842, 'fired': 1735, 'pamela': 3179, 'edition': 1422, 'morgan': 2905, 'sports': 4130, 'dialogues': 1235, 'bottle': 550, 'couples': 1017, 'idiotic': 2219, 'worthless': 4954, 'harvey': 2042, 'basketball': 409, 'mix': 2876, 'matt': 2768, 'currently': 1085, 'letter': 2581, 'randomly': 3515, 'translation': 4562, 'wacky': 4769, 'mickey': 2831, 'confidence': 938, 'hip': 2114, 'philosophical': 3253, 'lane': 2515, 'mistress': 2874, 'wells': 4845, 'jimmy': 2403, 'climactic': 848, 'hysterical': 2208, 'disappeared': 1271, 'closed': 854, 'dialogs': 1233, 'mine': 2853, 'bollywood': 530, 'avoided': 364, 'creators': 1044, 'niro': 3019, 'performs': 3234, 'exceptional': 1558, 'edie': 1419, 'mafia': 2700, 'surely': 4309, '1st': 28, 'enjoyment': 1488, 'forbidden': 1785, 'ranks': 3519, 'streisand': 4218, 'alice': 182, 'minded': 2850, 'gender': 1878, 'paltrow': 3178, 'bullet': 620, 'delivering': 1171, 'trailer': 4554, 'hooked': 2153, 'stinks': 4192, '45': 50, 'stock': 4193, 'crash': 1033, 'newspaper': 3006, 'stanwyck': 4149, 'ralph': 3510, 'saving': 3797, 'wished': 4905, 'enjoying': 1487, 'distinct': 1296, 'monkey': 2890, 'maria': 2736, 'displayed': 1292, 'houses': 2180, 'program': 3424, 'hop': 2154, 'forgive': 1795, 'wanting': 4790, 'lately': 2524, 'storytelling': 4209, 'doll': 1313, 'trilogy': 4586, 'pet': 3246, 'timothy': 4499, 'rachel': 3500, 'lengthy': 2570, 'dub': 1378, 'ham': 2011, 'provided': 3449, 'liking': 2604, 'manhattan': 2726, 'corpse': 999, 'corner': 996, 'letters': 2582, 'staying': 4168, 'profound': 3423, 'performers': 3232, 'worn': 4948, 'ritter': 3705, 'wishing': 4907, 'funnier': 1850, 'concerning': 933, 'molly': 2884, 'occasion': 3073, 'models': 2881, 'burton': 630, 'hollow': 2135, 'mentions': 2813, 'sings': 3997, 'renting': 3629, 'bergman': 466, 'karloff': 2445, 'dolls': 1316, 'dan': 1102, 'site': 4005, 'challenging': 744, 'april': 284, 'marks': 2742, 'sunshine': 4294, 'cutting': 1092, 'sea': 3838, 'references': 3583, 'trailers': 4555, 'banned': 395, 'landscapes': 2514, 'formulaic': 1803, 'base': 402, 'jesse': 2397, 'warmth': 4796, 'staff': 4138, 'bakshi': 386, 'degree': 1164, 'chooses': 800, 'doom': 1326, 'horrifying': 2167, 'frustration': 1843, 'seeks': 3860, 'scripted': 3835, 'capturing': 679, 'frankenstein': 1822, 'narration': 2965, 'antics': 255, 'creates': 1038, 'dinner': 1254, 'trail': 4553, 'amateur': 206, 'bitter': 491, 'mummy': 2937, 'wes': 4851, 'craven': 1034, '2005': 35, 'manager': 2724, 'reveals': 3673, 'bomb': 531, 'cox': 1026, 'cameos': 658, 'bat': 410, 'curse': 1086, 'enemies': 1476, 'acid': 95, 'gas': 1874, 'ensues': 1493, '2000': 30, 'bo': 521, 'succeed': 4262, 'cleverly': 842, 'stretch': 4221, 'factory': 1623, 'landscape': 2513, 'represent': 3637, 'meaningful': 2781, 'triumph': 4590, 'individuals': 2278, 'arnold': 296, 'explore': 1594, 'warned': 4798, 'resist': 3648, 'liberal': 2588, 'fourth': 1813, 'excessive': 1560, 'drew': 1360, 'mars': 2746, 'troops': 4591, 'rocky': 3723, 'overrated': 3156, '20th': 38, 'iraq': 2351, 'crisis': 1060, 'businessman': 634, 'philip': 3252, 'baker': 385, 'partly': 3197, 'awfully': 373, 'techniques': 4384, 'hunter': 2199, 'advertising': 132, 'relies': 3606, 'marty': 2749, 'explosion': 1596, 'inventive': 2341, 'bath': 411, 'responsibility': 3655, 'strength': 4219, 'carrey': 696, 'journalist': 2420, 'report': 3635, 'troubles': 4594, 'complaint': 920, 'surrounded': 4318, 'claimed': 829, 'expert': 1585, 'massive': 2756, 'tame': 4363, 'imaginative': 2237, 'plant': 3293, 'davies': 1125, 'hammer': 2014, 'donna': 1323, 'thoughtful': 4463, 'bodies': 526, 'americas': 215, 'irony': 2357, 'christians': 809, 'ya': 4976, 'smiling': 4037, 'junk': 2436, 'fields': 1705, 'grab': 1949, 'inevitably': 2283, 'familys': 1646, 'gradually': 1952, 'repeated': 3631, 'falk': 1636, 'accomplished': 87, 'columbo': 881, 'retired': 3664, 'eyed': 1612, 'soviet': 4089, 'treats': 4575, 'prisoners': 3403, 'pretend': 3381, 'weapon': 4828, 'deaf': 1134, 'yellow': 4981, 'metal': 2823, 'bleak': 503, 'celluloid': 731, 'dickens': 1240, 'estate': 1525, 'richards': 3687, 'consistently': 954, 'greedy': 1969, 'hyde': 2206, 'stale': 4141, 'analysis': 224, 'ape': 266, 'bela': 450, 'lugosi': 2686, 'dracula': 1341, 'doubts': 1333, 'baseball': 403, 'busy': 635, 'devils': 1229, 'contest': 967, 'spoke': 4125, 'weekend': 4838, 'exposed': 1598, '70': 55, 'sincere': 3991, 'beast': 422, 'beer': 439, 'japan': 2381, 'blues': 519, 'imagery': 2234, 'aliens': 184, 'worried': 4949, 'global': 1920, 'amitabh': 216, 'kapoor': 2443, 'treasure': 4571, 'hank': 2024, 'juvenile': 2441, 'scrooge': 3837, 'holly': 2136, 'neo': 2998, 'newly': 3004, 'jessica': 2398, 'adam': 111, 'sandler': 3781, 'admittedly': 123, 'rat': 3525, 'lynch': 2691, 'uninteresting': 4660, 'test': 4416, 'commented': 900, 'olivier': 3103, 'fortune': 1806, 'kidnapped': 2466, 'speed': 4103, 'exploration': 1593, 'empathy': 1462, 'improvement': 2256, 'ingredients': 2289, 'willis': 4890, 'mindless': 2851, 'recall': 3562, 'roman': 3731, 'mann': 2728, 'bargain': 400, '13th': 5, 'speech': 4102, 'sid': 3964, 'throat': 4476, 'eccentric': 1414, 'ruby': 3749, 'survivor': 4324, 'brilliance': 582, 'thousand': 4465, 'june': 2433, 'rex': 3683, 'fortunately': 1805, 'huh': 2187, 'cusack': 1088, 'winters': 4901, 'knife': 2487, 'paranoia': 3186, 'recorded': 3574, 'clown': 862, 'blunt': 520, 'shake': 3914, 'bette': 471, 'mildred': 2841, 'phony': 3256, 'ad': 110, 'allowing': 191, 'idiots': 2220, 'trick': 4582, 'smaller': 4034, 'virus': 4752, 'underground': 4640, 'monkeys': 2891, 'darkness': 1117, 'access': 83, 'blockbuster': 509, 'ha': 2002, 'ps': 3453, 'president': 3378, 'armed': 293, 'statement': 4162, 'cannibal': 669, 'hire': 2116, 'jaw': 2384, 'dropping': 1371, 'godzilla': 1929, 'appreciation': 281, 'jesus': 2399, 'clip': 851, 'represented': 3638, 'essential': 1522, 'warming': 4795, '1990': 24, 'experiments': 1584, 'ticket': 4487, 'transfer': 4559, 'obnoxious': 3067, 'taxi': 4371, 'vast': 4716, 'hoffman': 2128, 'resident': 3647, 'conspiracy': 956, 'assistant': 326, 'jim': 2402, 'boxing': 556, 'builds': 617, 'receives': 3565, 'inspiring': 2302, 'rage': 3505, 'unfolds': 4651, 'morris': 2908, 'exotic': 1574, 'graphics': 1959, 'stargate': 4151, 'connect': 944, 'cell': 730, 'largely': 2518, 'illogical': 2231, 'mixture': 2878, 'brutally': 604, 'calling': 653, 'easier': 1405, 'orange': 3125, 'sandra': 3782, 'creativity': 1042, 'string': 4227, 'equipment': 1511, 'franco': 1820, 'muslim': 2949, 'generic': 1885, 'lone': 2642, 'expressed': 1601, 'aid': 160, 'duke': 1383, 'le': 2544, 'recognition': 3568, 'counter': 1011, 'disneys': 1290, 'females': 1694, 'tarzan': 4367, 'sword': 4340, 'reached': 3537, '16': 8, 'scottish': 3825, 'airplane': 166, 'cruise': 1071, 'moore': 2901, 'aforementioned': 139, 'unoriginal': 4673, 'handled': 2019, 'solo': 4058, 'astaire': 330, 'dean': 1139, 'hopeless': 2158, 'korean': 2495, 'reminiscent': 3621, '3d': 46, 'consists': 955, 'doors': 1329, 'stiller': 4189, 'slaughter': 4021, 'elderly': 1440, 'ethan': 1528, 'unhappy': 4656, 'theory': 4437, 'los': 2653, 'angeles': 233, 'itll': 2369, 'bullets': 621, 'emily': 1456, 'groups': 1981, 'pride': 3391, 'felix': 1689, 'superhero': 4299, 'extent': 1605, 'diamond': 1236, 'conceived': 929, 'frequently': 1832, 'francis': 1818, 'teaching': 4377, 'assumed': 329, '1940s': 13, 'secretly': 3851, 'audio': 354, 'lemmon': 2567, 'homosexual': 2145, 'iron': 2354, 'gerard': 1895, 'ease': 1404, 'unreal': 4676, 'anyways': 262, 'perfection': 3225, 'opportunities': 3120, 'heights': 2073, 'appalling': 268, 'brooklyn': 595, 'vulnerable': 4768, 'stiff': 4187, 'mistaken': 2872, 'soccer': 4048, 'cities': 823, 'worlds': 4947, 'advanced': 128, 'voiced': 4762, 'kubrick': 2496, 'shelley': 3928, 'rolled': 3729, 'explosions': 1597, 'bumbling': 622, 'modesty': 2883, 'strip': 4228, 'household': 2179, 'copies': 992, 'southern': 4088, 'snow': 4045, 'destiny': 1212, 'useful': 4694, 'omen': 3104, 'saga': 3773, 'spirited': 4114, 'empire': 1464, 'rebel': 3561, 'map': 2733, 'fever': 1699, 'attitudes': 347, 'intentionally': 2320, 'florida': 1761, 'kiss': 2483, 'exposure': 1599, 'werewolf': 4850, 'hurts': 2203, 'integrity': 2311, 'khan': 2459, 'kissing': 2484, 'cuba': 1075, 'cinderella': 815, 'moronic': 2907, 'coherent': 871, 'promises': 3432, 'mayor': 2777, 'stereotypical': 4180, 'hippie': 2115, 'cave': 727, 'jonathan': 2417, 'dinosaur': 1255, 'altogether': 202, 'classical': 836, 'pearl': 3220, 'tends': 4402, 'passionate': 3206, 'der': 1191, 'vaguely': 4706, 'polanski': 3321, 'developing': 1224, 'cabin': 643, '1968': 16, 'relation': 3595, 'definition': 1163, 'credible': 1048, 'agreed': 156, 'homeless': 2143, 'steel': 4173, 'stilted': 4190, 'hundred': 2195, 'rick': 3689, 'bourne': 554, 'spider': 4109, 'dave': 1123, 'royal': 3746, 'unbelievably': 4635, 'freak': 1824, 'warren': 4801, 'atlantis': 332, 'enthusiasm': 1501, 'tracy': 4546, 'louise': 2666, 'poetry': 3314, 'holmes': 2139, 'brenda': 575, 'outcome': 3142, 'airport': 167, 'philosophy': 3254, 'reel': 3581, 'screams': 3828, 'engaged': 1480, 'cg': 739, 'norman': 3035, 'gundam': 1997, 'francisco': 1819, 'pot': 3354, 'attacked': 338, 'split': 4120, 'laurel': 2537, 'stan': 4142, 'domino': 1319, 'ginger': 1908, 'matches': 2764, 'rangers': 3517, 'generated': 1882, '1933': 12, 'carrie': 697, 'glover': 1923, 'sentence': 3881, 'typically': 4624, 'spoof': 4127, 'viewings': 4741, 'lily': 2605, 'investigation': 2343, 'sink': 3999, 'dentist': 1180, 'scooby': 3820, 'doo': 1325, 'cameras': 660, 'progresses': 3426, 'tomatoes': 4515, 'branagh': 564, 'laughably': 2531, 'von': 4765, 'latin': 2527, 'pokemon': 3320, 'measure': 2786, 'rotten': 3740, 'broad': 590, 'melting': 2799, 'tiger': 4491, 'championship': 745, 'tonight': 4519, 'rabbit': 3498, 'dolph': 1317, 'tortured': 4530, 'homer': 2144, 'jealous': 2388, 'masterpieces': 2760, 'angela': 232, 'landing': 2512, 'dalton': 1098, 'paulie': 3215, 'stooges': 4200, 'eyre': 1614, 'rochester': 3719, 'abusive': 75, 'carradine': 695, 'dutch': 1389, 'grinch': 1975, 'nurse': 3063, 'lena': 2568, 'lincoln': 2608, 'tooth': 4524, 'garbo': 1871}\n"
     ]
    }
   ],
   "source": [
    "print(str(vocabulary))"
   ]
  },
  {
   "cell_type": "markdown",
   "metadata": {},
   "source": [
    "Once you have added the endpoint name to the Lambda function, click on **Save**. Your Lambda function is now up and running. Next we need to create a way for our web app to execute the Lambda function."
   ]
  },
  {
   "cell_type": "markdown",
   "metadata": {},
   "source": [
    "### Setting up API Gateway\n",
    "\n",
    "Now that our Lambda function is set up, it is time to create a new API using API Gateway that will trigger the Lambda function we have just created.\n",
    "\n",
    "Using AWS Console, navigate to **Amazon API Gateway** and then click on **Get started**.\n",
    "\n",
    "On the next page, make sure that **New API** is selected and give the new api a name, for example, `sentiment_analysis_web_app`. Then, click on **Create API**.\n",
    "\n",
    "Now we have created an API, however it doesn't currently do anything. What we want it to do is to trigger the Lambda function that we created earlier.\n",
    "\n",
    "Select the **Actions** dropdown menu and click **Create Method**. A new blank method will be created, select its dropdown menu and select **POST**, then click on the check mark beside it.\n",
    "\n",
    "For the integration point, make sure that **Lambda Function** is selected and click on the **Use Lambda Proxy integration**. This option makes sure that the data that is sent to the API is then sent directly to the Lambda function with no processing. It also means that the return value must be a proper response object as it will also not be processed by API Gateway.\n",
    "\n",
    "Type the name of the Lambda function you created earlier into the **Lambda Function** text entry box and then click on **Save**. Click on **OK** in the pop-up box that then appears, giving permission to API Gateway to invoke the Lambda function you created.\n",
    "\n",
    "The last step in creating the API Gateway is to select the **Actions** dropdown and click on **Deploy API**. You will need to create a new Deployment stage and name it anything you like, for example `prod`.\n",
    "\n",
    "You have now successfully set up a public API to access your SageMaker model. Make sure to copy or write down the URL provided to invoke your newly created public API as this will be needed in the next step. This URL can be found at the top of the page, highlighted in blue next to the text **Invoke URL**."
   ]
  },
  {
   "cell_type": "markdown",
   "metadata": {},
   "source": [
    "## Step 7: Deploying our web app\n",
    "\n",
    "Now that we have a publicly available API, we can start using it in a web app. For our purposes, we have provided a simple static html file which can make use of the public api you created earlier.\n",
    "\n",
    "In the `website` folder there should be a file called `index.html`. Download the file to your computer and open that file up in a text editor of your choice. There should be a line which contains **\\*\\*REPLACE WITH PUBLIC API URL\\*\\***. Replace this string with the url that you wrote down in the last step and then save the file.\n",
    "\n",
    "Now, if you open `index.html` on your local computer, your browser will behave as a local web server and you can use the provided site to interact with your SageMaker model.\n",
    "\n",
    "If you'd like to go further, you can host this html file anywhere you'd like, for example using github or hosting a static site on Amazon's S3. Once you have done this you can share the link with anyone you'd like and have them play with it too!\n",
    "\n",
    "> **Important Note** In order for the web app to communicate with the SageMaker endpoint, the endpoint has to actually be deployed and running. This means that you are paying for it. Make sure that the endpoint is running when you want to use the web app but that you shut it down when you don't need it, otherwise you will end up with a surprisingly large AWS bill."
   ]
  },
  {
   "cell_type": "markdown",
   "metadata": {},
   "source": [
    "### Delete the endpoint\n",
    "\n",
    "Remember to always shut down your endpoint if you are no longer using it. You are charged for the length of time that the endpoint is running so if you forget and leave it on you could end up with an unexpectedly large bill."
   ]
  },
  {
   "cell_type": "code",
   "execution_count": null,
   "metadata": {},
   "outputs": [],
   "source": [
    "xgb_predictor.delete_endpoint()"
   ]
  },
  {
   "cell_type": "markdown",
   "metadata": {},
   "source": [
    "## Optional: Clean up\n",
    "\n",
    "The default notebook instance on SageMaker doesn't have a lot of excess disk space available. As you continue to complete and execute notebooks you will eventually fill up this disk space, leading to errors which can be difficult to diagnose. Once you are completely finished using a notebook it is a good idea to remove the files that you created along the way. Of course, you can do this from the terminal or from the notebook hub if you would like. The cell below contains some commands to clean up the created files from within the notebook."
   ]
  },
  {
   "cell_type": "code",
   "execution_count": null,
   "metadata": {},
   "outputs": [],
   "source": [
    "# First we will remove all of the files contained in the data_dir directory\n",
    "!rm $data_dir/*\n",
    "\n",
    "# And then we delete the directory itself\n",
    "!rmdir $data_dir\n",
    "\n",
    "# Similarly we remove the files in the cache_dir directory and the directory itself\n",
    "!rm $cache_dir/*\n",
    "!rmdir $cache_dir"
   ]
  },
  {
   "cell_type": "code",
   "execution_count": null,
   "metadata": {},
   "outputs": [],
   "source": []
  }
 ],
 "metadata": {
  "kernelspec": {
   "display_name": "conda_python3",
   "language": "python",
   "name": "conda_python3"
  },
  "language_info": {
   "codemirror_mode": {
    "name": "ipython",
    "version": 3
   },
   "file_extension": ".py",
   "mimetype": "text/x-python",
   "name": "python",
   "nbconvert_exporter": "python",
   "pygments_lexer": "ipython3",
   "version": "3.6.5"
  }
 },
 "nbformat": 4,
 "nbformat_minor": 2
}
